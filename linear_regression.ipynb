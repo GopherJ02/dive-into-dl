{
  "nbformat": 4,
  "nbformat_minor": 0,
  "metadata": {
    "colab": {
      "name": "linear regression.ipynb",
      "provenance": []
    },
    "kernelspec": {
      "name": "python3",
      "display_name": "Python 3"
    }
  },
  "cells": [
    {
      "cell_type": "markdown",
      "metadata": {
        "id": "z5qccq36tIiz",
        "colab_type": "text"
      },
      "source": [
        "linear regression"
      ]
    },
    {
      "cell_type": "code",
      "metadata": {
        "id": "S9U1ojMFtDAs",
        "colab_type": "code",
        "colab": {
          "base_uri": "https://localhost:8080/",
          "height": 34
        },
        "outputId": "58467215-eae5-4144-f56b-83174c6d2bba"
      },
      "source": [
        "import torch\n",
        "from IPython import display\n",
        "from matplotlib import pyplot as plt\n",
        "import numpy as np\n",
        "import random\n",
        "\n",
        "print(torch.__version__)"
      ],
      "execution_count": 1,
      "outputs": [
        {
          "output_type": "stream",
          "text": [
            "1.4.0\n"
          ],
          "name": "stdout"
        }
      ]
    },
    {
      "cell_type": "code",
      "metadata": {
        "id": "u88GtyQxtHJY",
        "colab_type": "code",
        "colab": {}
      },
      "source": [
        "# dataset\n",
        "\n",
        "\n",
        "num_inputs = 2\n",
        "num_examples = 1000\n",
        "\n",
        "true_w = [2,-3.4]\n",
        "true_b = 4.2\n",
        "\n",
        "features = torch.randn(num_examples, num_inputs,\n",
        "                      dtype=torch.float32)\n",
        "labels = true_w[0] * features[:, 0] + true_w[1] * features[:, 1] + true_b\n",
        "labels += torch.tensor(np.random.normal(0, 0.01, size=labels.size()),\n",
        "                       dtype=torch.float32)\n",
        "\n"
      ],
      "execution_count": 0,
      "outputs": []
    },
    {
      "cell_type": "code",
      "metadata": {
        "id": "ITgVscSgvx5Z",
        "colab_type": "code",
        "colab": {
          "base_uri": "https://localhost:8080/",
          "height": 369
        },
        "outputId": "33fc95a9-4112-4157-c712-9d42be317b1d"
      },
      "source": [
        "def use_svg_display():\n",
        "  display.set_matplotlib_formats('svg')\n",
        "\n",
        "def set_figsize(figsize=(3.5,2.5)):\n",
        "  use_svg_display()\n",
        "\n",
        "set_figsize()\n",
        "plt.scatter(features[:,1].numpy(), labels.numpy(),1)\n"
      ],
      "execution_count": 4,
      "outputs": [
        {
          "output_type": "execute_result",
          "data": {
            "text/plain": [
              "<matplotlib.collections.PathCollection at 0x7f4da0c3dd30>"
            ]
          },
          "metadata": {
            "tags": []
          },
          "execution_count": 4
        },
        {
          "output_type": "display_data",
          "data": {
            "text/plain": [
              "<Figure size 432x288 with 1 Axes>"
            ],
            "image/svg+xml": "<?xml version=\"1.0\" encoding=\"utf-8\" standalone=\"no\"?>\n<!DOCTYPE svg PUBLIC \"-//W3C//DTD SVG 1.1//EN\"\n  \"http://www.w3.org/Graphics/SVG/1.1/DTD/svg11.dtd\">\n<!-- Created with matplotlib (https://matplotlib.org/) -->\n<svg height=\"248.518125pt\" version=\"1.1\" viewBox=\"0 0 377.304687 248.518125\" width=\"377.304687pt\" xmlns=\"http://www.w3.org/2000/svg\" xmlns:xlink=\"http://www.w3.org/1999/xlink\">\n <defs>\n  <style type=\"text/css\">\n*{stroke-linecap:butt;stroke-linejoin:round;}\n  </style>\n </defs>\n <g id=\"figure_1\">\n  <g id=\"patch_1\">\n   <path d=\"M 0 248.518125 \nL 377.304687 248.518125 \nL 377.304687 0 \nL 0 0 \nz\n\" style=\"fill:none;\"/>\n  </g>\n  <g id=\"axes_1\">\n   <g id=\"patch_2\">\n    <path d=\"M 35.304688 224.64 \nL 370.104688 224.64 \nL 370.104688 7.2 \nL 35.304688 7.2 \nz\n\" style=\"fill:#ffffff;\"/>\n   </g>\n   <g id=\"PathCollection_1\">\n    <defs>\n     <path d=\"M 0 0.5 \nC 0.132602 0.5 0.25979 0.447317 0.353553 0.353553 \nC 0.447317 0.25979 0.5 0.132602 0.5 0 \nC 0.5 -0.132602 0.447317 -0.25979 0.353553 -0.353553 \nC 0.25979 -0.447317 0.132602 -0.5 0 -0.5 \nC -0.132602 -0.5 -0.25979 -0.447317 -0.353553 -0.353553 \nC -0.447317 -0.25979 -0.5 -0.132602 -0.5 0 \nC -0.5 0.132602 -0.447317 0.25979 -0.353553 0.353553 \nC -0.25979 0.447317 -0.132602 0.5 0 0.5 \nz\n\" id=\"m4cf4f55db6\" style=\"stroke:#1f77b4;\"/>\n    </defs>\n    <g clip-path=\"url(#p797b6e8e16)\">\n     <use style=\"fill:#1f77b4;stroke:#1f77b4;\" x=\"110.957217\" xlink:href=\"#m4cf4f55db6\" y=\"47.656827\"/>\n     <use style=\"fill:#1f77b4;stroke:#1f77b4;\" x=\"181.501065\" xlink:href=\"#m4cf4f55db6\" y=\"115.335317\"/>\n     <use style=\"fill:#1f77b4;stroke:#1f77b4;\" x=\"163.483506\" xlink:href=\"#m4cf4f55db6\" y=\"117.406574\"/>\n     <use style=\"fill:#1f77b4;stroke:#1f77b4;\" x=\"186.427086\" xlink:href=\"#m4cf4f55db6\" y=\"96.586547\"/>\n     <use style=\"fill:#1f77b4;stroke:#1f77b4;\" x=\"195.802587\" xlink:href=\"#m4cf4f55db6\" y=\"112.084894\"/>\n     <use style=\"fill:#1f77b4;stroke:#1f77b4;\" x=\"195.7413\" xlink:href=\"#m4cf4f55db6\" y=\"97.026623\"/>\n     <use style=\"fill:#1f77b4;stroke:#1f77b4;\" x=\"239.363116\" xlink:href=\"#m4cf4f55db6\" y=\"125.198458\"/>\n     <use style=\"fill:#1f77b4;stroke:#1f77b4;\" x=\"227.513291\" xlink:href=\"#m4cf4f55db6\" y=\"166.575787\"/>\n     <use style=\"fill:#1f77b4;stroke:#1f77b4;\" x=\"208.305849\" xlink:href=\"#m4cf4f55db6\" y=\"108.590063\"/>\n     <use style=\"fill:#1f77b4;stroke:#1f77b4;\" x=\"125.6897\" xlink:href=\"#m4cf4f55db6\" y=\"86.090754\"/>\n     <use style=\"fill:#1f77b4;stroke:#1f77b4;\" x=\"246.602374\" xlink:href=\"#m4cf4f55db6\" y=\"123.60279\"/>\n     <use style=\"fill:#1f77b4;stroke:#1f77b4;\" x=\"137.311318\" xlink:href=\"#m4cf4f55db6\" y=\"90.464997\"/>\n     <use style=\"fill:#1f77b4;stroke:#1f77b4;\" x=\"184.050269\" xlink:href=\"#m4cf4f55db6\" y=\"103.508475\"/>\n     <use style=\"fill:#1f77b4;stroke:#1f77b4;\" x=\"219.073245\" xlink:href=\"#m4cf4f55db6\" y=\"104.875629\"/>\n     <use style=\"fill:#1f77b4;stroke:#1f77b4;\" x=\"155.928594\" xlink:href=\"#m4cf4f55db6\" y=\"102.014661\"/>\n     <use style=\"fill:#1f77b4;stroke:#1f77b4;\" x=\"50.595906\" xlink:href=\"#m4cf4f55db6\" y=\"26.009087\"/>\n     <use style=\"fill:#1f77b4;stroke:#1f77b4;\" x=\"193.307295\" xlink:href=\"#m4cf4f55db6\" y=\"120.314769\"/>\n     <use style=\"fill:#1f77b4;stroke:#1f77b4;\" x=\"114.187229\" xlink:href=\"#m4cf4f55db6\" y=\"65.953571\"/>\n     <use style=\"fill:#1f77b4;stroke:#1f77b4;\" x=\"243.667946\" xlink:href=\"#m4cf4f55db6\" y=\"116.225014\"/>\n     <use style=\"fill:#1f77b4;stroke:#1f77b4;\" x=\"211.637328\" xlink:href=\"#m4cf4f55db6\" y=\"109.316699\"/>\n     <use style=\"fill:#1f77b4;stroke:#1f77b4;\" x=\"115.317625\" xlink:href=\"#m4cf4f55db6\" y=\"50.065902\"/>\n     <use style=\"fill:#1f77b4;stroke:#1f77b4;\" x=\"301.895585\" xlink:href=\"#m4cf4f55db6\" y=\"172.797791\"/>\n     <use style=\"fill:#1f77b4;stroke:#1f77b4;\" x=\"211.507971\" xlink:href=\"#m4cf4f55db6\" y=\"153.72753\"/>\n     <use style=\"fill:#1f77b4;stroke:#1f77b4;\" x=\"194.490687\" xlink:href=\"#m4cf4f55db6\" y=\"127.042946\"/>\n     <use style=\"fill:#1f77b4;stroke:#1f77b4;\" x=\"186.099137\" xlink:href=\"#m4cf4f55db6\" y=\"84.64666\"/>\n     <use style=\"fill:#1f77b4;stroke:#1f77b4;\" x=\"275.86565\" xlink:href=\"#m4cf4f55db6\" y=\"170.86305\"/>\n     <use style=\"fill:#1f77b4;stroke:#1f77b4;\" x=\"246.141798\" xlink:href=\"#m4cf4f55db6\" y=\"140.278979\"/>\n     <use style=\"fill:#1f77b4;stroke:#1f77b4;\" x=\"103.861718\" xlink:href=\"#m4cf4f55db6\" y=\"82.651132\"/>\n     <use style=\"fill:#1f77b4;stroke:#1f77b4;\" x=\"138.747958\" xlink:href=\"#m4cf4f55db6\" y=\"82.226662\"/>\n     <use style=\"fill:#1f77b4;stroke:#1f77b4;\" x=\"171.363804\" xlink:href=\"#m4cf4f55db6\" y=\"77.005058\"/>\n     <use style=\"fill:#1f77b4;stroke:#1f77b4;\" x=\"177.254551\" xlink:href=\"#m4cf4f55db6\" y=\"115.307717\"/>\n     <use style=\"fill:#1f77b4;stroke:#1f77b4;\" x=\"166.781792\" xlink:href=\"#m4cf4f55db6\" y=\"108.884626\"/>\n     <use style=\"fill:#1f77b4;stroke:#1f77b4;\" x=\"235.031648\" xlink:href=\"#m4cf4f55db6\" y=\"150.101762\"/>\n     <use style=\"fill:#1f77b4;stroke:#1f77b4;\" x=\"218.887448\" xlink:href=\"#m4cf4f55db6\" y=\"125.993637\"/>\n     <use style=\"fill:#1f77b4;stroke:#1f77b4;\" x=\"193.665458\" xlink:href=\"#m4cf4f55db6\" y=\"110.482258\"/>\n     <use style=\"fill:#1f77b4;stroke:#1f77b4;\" x=\"134.423131\" xlink:href=\"#m4cf4f55db6\" y=\"93.554761\"/>\n     <use style=\"fill:#1f77b4;stroke:#1f77b4;\" x=\"166.8785\" xlink:href=\"#m4cf4f55db6\" y=\"110.049619\"/>\n     <use style=\"fill:#1f77b4;stroke:#1f77b4;\" x=\"226.605913\" xlink:href=\"#m4cf4f55db6\" y=\"157.711646\"/>\n     <use style=\"fill:#1f77b4;stroke:#1f77b4;\" x=\"251.958213\" xlink:href=\"#m4cf4f55db6\" y=\"129.304941\"/>\n     <use style=\"fill:#1f77b4;stroke:#1f77b4;\" x=\"314.953441\" xlink:href=\"#m4cf4f55db6\" y=\"171.467311\"/>\n     <use style=\"fill:#1f77b4;stroke:#1f77b4;\" x=\"164.245644\" xlink:href=\"#m4cf4f55db6\" y=\"92.485119\"/>\n     <use style=\"fill:#1f77b4;stroke:#1f77b4;\" x=\"109.222041\" xlink:href=\"#m4cf4f55db6\" y=\"67.622638\"/>\n     <use style=\"fill:#1f77b4;stroke:#1f77b4;\" x=\"191.567393\" xlink:href=\"#m4cf4f55db6\" y=\"89.02812\"/>\n     <use style=\"fill:#1f77b4;stroke:#1f77b4;\" x=\"172.23157\" xlink:href=\"#m4cf4f55db6\" y=\"81.404399\"/>\n     <use style=\"fill:#1f77b4;stroke:#1f77b4;\" x=\"228.822481\" xlink:href=\"#m4cf4f55db6\" y=\"133.434288\"/>\n     <use style=\"fill:#1f77b4;stroke:#1f77b4;\" x=\"275.867206\" xlink:href=\"#m4cf4f55db6\" y=\"167.981181\"/>\n     <use style=\"fill:#1f77b4;stroke:#1f77b4;\" x=\"177.75823\" xlink:href=\"#m4cf4f55db6\" y=\"114.774339\"/>\n     <use style=\"fill:#1f77b4;stroke:#1f77b4;\" x=\"181.360453\" xlink:href=\"#m4cf4f55db6\" y=\"98.730956\"/>\n     <use style=\"fill:#1f77b4;stroke:#1f77b4;\" x=\"176.275587\" xlink:href=\"#m4cf4f55db6\" y=\"110.93145\"/>\n     <use style=\"fill:#1f77b4;stroke:#1f77b4;\" x=\"228.592015\" xlink:href=\"#m4cf4f55db6\" y=\"114.531116\"/>\n     <use style=\"fill:#1f77b4;stroke:#1f77b4;\" x=\"196.951783\" xlink:href=\"#m4cf4f55db6\" y=\"126.095823\"/>\n     <use style=\"fill:#1f77b4;stroke:#1f77b4;\" x=\"278.249991\" xlink:href=\"#m4cf4f55db6\" y=\"154.934324\"/>\n     <use style=\"fill:#1f77b4;stroke:#1f77b4;\" x=\"214.716742\" xlink:href=\"#m4cf4f55db6\" y=\"107.750692\"/>\n     <use style=\"fill:#1f77b4;stroke:#1f77b4;\" x=\"199.560601\" xlink:href=\"#m4cf4f55db6\" y=\"109.610375\"/>\n     <use style=\"fill:#1f77b4;stroke:#1f77b4;\" x=\"321.430651\" xlink:href=\"#m4cf4f55db6\" y=\"200.293473\"/>\n     <use style=\"fill:#1f77b4;stroke:#1f77b4;\" x=\"210.639919\" xlink:href=\"#m4cf4f55db6\" y=\"112.587392\"/>\n     <use style=\"fill:#1f77b4;stroke:#1f77b4;\" x=\"249.987026\" xlink:href=\"#m4cf4f55db6\" y=\"132.650137\"/>\n     <use style=\"fill:#1f77b4;stroke:#1f77b4;\" x=\"194.197405\" xlink:href=\"#m4cf4f55db6\" y=\"107.573881\"/>\n     <use style=\"fill:#1f77b4;stroke:#1f77b4;\" x=\"276.506507\" xlink:href=\"#m4cf4f55db6\" y=\"175.276923\"/>\n     <use style=\"fill:#1f77b4;stroke:#1f77b4;\" x=\"221.720846\" xlink:href=\"#m4cf4f55db6\" y=\"128.898045\"/>\n     <use style=\"fill:#1f77b4;stroke:#1f77b4;\" x=\"259.486082\" xlink:href=\"#m4cf4f55db6\" y=\"168.074385\"/>\n     <use style=\"fill:#1f77b4;stroke:#1f77b4;\" x=\"296.879478\" xlink:href=\"#m4cf4f55db6\" y=\"190.067794\"/>\n     <use style=\"fill:#1f77b4;stroke:#1f77b4;\" x=\"227.744797\" xlink:href=\"#m4cf4f55db6\" y=\"152.985669\"/>\n     <use style=\"fill:#1f77b4;stroke:#1f77b4;\" x=\"177.472152\" xlink:href=\"#m4cf4f55db6\" y=\"116.336761\"/>\n     <use style=\"fill:#1f77b4;stroke:#1f77b4;\" x=\"158.224646\" xlink:href=\"#m4cf4f55db6\" y=\"91.264003\"/>\n     <use style=\"fill:#1f77b4;stroke:#1f77b4;\" x=\"255.831192\" xlink:href=\"#m4cf4f55db6\" y=\"157.700432\"/>\n     <use style=\"fill:#1f77b4;stroke:#1f77b4;\" x=\"120.613835\" xlink:href=\"#m4cf4f55db6\" y=\"54.044823\"/>\n     <use style=\"fill:#1f77b4;stroke:#1f77b4;\" x=\"216.501169\" xlink:href=\"#m4cf4f55db6\" y=\"117.613995\"/>\n     <use style=\"fill:#1f77b4;stroke:#1f77b4;\" x=\"142.739921\" xlink:href=\"#m4cf4f55db6\" y=\"69.394128\"/>\n     <use style=\"fill:#1f77b4;stroke:#1f77b4;\" x=\"187.329912\" xlink:href=\"#m4cf4f55db6\" y=\"98.486157\"/>\n     <use style=\"fill:#1f77b4;stroke:#1f77b4;\" x=\"193.918001\" xlink:href=\"#m4cf4f55db6\" y=\"98.648263\"/>\n     <use style=\"fill:#1f77b4;stroke:#1f77b4;\" x=\"121.994203\" xlink:href=\"#m4cf4f55db6\" y=\"74.336723\"/>\n     <use style=\"fill:#1f77b4;stroke:#1f77b4;\" x=\"238.673581\" xlink:href=\"#m4cf4f55db6\" y=\"132.669836\"/>\n     <use style=\"fill:#1f77b4;stroke:#1f77b4;\" x=\"186.077629\" xlink:href=\"#m4cf4f55db6\" y=\"119.218588\"/>\n     <use style=\"fill:#1f77b4;stroke:#1f77b4;\" x=\"169.848858\" xlink:href=\"#m4cf4f55db6\" y=\"99.362702\"/>\n     <use style=\"fill:#1f77b4;stroke:#1f77b4;\" x=\"181.206965\" xlink:href=\"#m4cf4f55db6\" y=\"123.772351\"/>\n     <use style=\"fill:#1f77b4;stroke:#1f77b4;\" x=\"221.852925\" xlink:href=\"#m4cf4f55db6\" y=\"90.423167\"/>\n     <use style=\"fill:#1f77b4;stroke:#1f77b4;\" x=\"263.282437\" xlink:href=\"#m4cf4f55db6\" y=\"154.400339\"/>\n     <use style=\"fill:#1f77b4;stroke:#1f77b4;\" x=\"248.749416\" xlink:href=\"#m4cf4f55db6\" y=\"120.533577\"/>\n     <use style=\"fill:#1f77b4;stroke:#1f77b4;\" x=\"167.684256\" xlink:href=\"#m4cf4f55db6\" y=\"101.982152\"/>\n     <use style=\"fill:#1f77b4;stroke:#1f77b4;\" x=\"240.646234\" xlink:href=\"#m4cf4f55db6\" y=\"140.938746\"/>\n     <use style=\"fill:#1f77b4;stroke:#1f77b4;\" x=\"243.688161\" xlink:href=\"#m4cf4f55db6\" y=\"152.573497\"/>\n     <use style=\"fill:#1f77b4;stroke:#1f77b4;\" x=\"257.525004\" xlink:href=\"#m4cf4f55db6\" y=\"97.344042\"/>\n     <use style=\"fill:#1f77b4;stroke:#1f77b4;\" x=\"228.330211\" xlink:href=\"#m4cf4f55db6\" y=\"135.275842\"/>\n     <use style=\"fill:#1f77b4;stroke:#1f77b4;\" x=\"222.98365\" xlink:href=\"#m4cf4f55db6\" y=\"115.69792\"/>\n     <use style=\"fill:#1f77b4;stroke:#1f77b4;\" x=\"212.224368\" xlink:href=\"#m4cf4f55db6\" y=\"114.937476\"/>\n     <use style=\"fill:#1f77b4;stroke:#1f77b4;\" x=\"188.245077\" xlink:href=\"#m4cf4f55db6\" y=\"143.995954\"/>\n     <use style=\"fill:#1f77b4;stroke:#1f77b4;\" x=\"140.595351\" xlink:href=\"#m4cf4f55db6\" y=\"63.495052\"/>\n     <use style=\"fill:#1f77b4;stroke:#1f77b4;\" x=\"250.434834\" xlink:href=\"#m4cf4f55db6\" y=\"147.533908\"/>\n     <use style=\"fill:#1f77b4;stroke:#1f77b4;\" x=\"190.27246\" xlink:href=\"#m4cf4f55db6\" y=\"102.272566\"/>\n     <use style=\"fill:#1f77b4;stroke:#1f77b4;\" x=\"138.137808\" xlink:href=\"#m4cf4f55db6\" y=\"58.309734\"/>\n     <use style=\"fill:#1f77b4;stroke:#1f77b4;\" x=\"125.74677\" xlink:href=\"#m4cf4f55db6\" y=\"45.486941\"/>\n     <use style=\"fill:#1f77b4;stroke:#1f77b4;\" x=\"175.69136\" xlink:href=\"#m4cf4f55db6\" y=\"70.785055\"/>\n     <use style=\"fill:#1f77b4;stroke:#1f77b4;\" x=\"239.711601\" xlink:href=\"#m4cf4f55db6\" y=\"139.13799\"/>\n     <use style=\"fill:#1f77b4;stroke:#1f77b4;\" x=\"188.190187\" xlink:href=\"#m4cf4f55db6\" y=\"91.952998\"/>\n     <use style=\"fill:#1f77b4;stroke:#1f77b4;\" x=\"181.262222\" xlink:href=\"#m4cf4f55db6\" y=\"117.548534\"/>\n     <use style=\"fill:#1f77b4;stroke:#1f77b4;\" x=\"228.374629\" xlink:href=\"#m4cf4f55db6\" y=\"116.864255\"/>\n     <use style=\"fill:#1f77b4;stroke:#1f77b4;\" x=\"207.795471\" xlink:href=\"#m4cf4f55db6\" y=\"121.789037\"/>\n     <use style=\"fill:#1f77b4;stroke:#1f77b4;\" x=\"190.091316\" xlink:href=\"#m4cf4f55db6\" y=\"104.235968\"/>\n     <use style=\"fill:#1f77b4;stroke:#1f77b4;\" x=\"212.86748\" xlink:href=\"#m4cf4f55db6\" y=\"126.287624\"/>\n     <use style=\"fill:#1f77b4;stroke:#1f77b4;\" x=\"258.277436\" xlink:href=\"#m4cf4f55db6\" y=\"136.974938\"/>\n     <use style=\"fill:#1f77b4;stroke:#1f77b4;\" x=\"188.261837\" xlink:href=\"#m4cf4f55db6\" y=\"103.476628\"/>\n     <use style=\"fill:#1f77b4;stroke:#1f77b4;\" x=\"199.114367\" xlink:href=\"#m4cf4f55db6\" y=\"132.52223\"/>\n     <use style=\"fill:#1f77b4;stroke:#1f77b4;\" x=\"216.492921\" xlink:href=\"#m4cf4f55db6\" y=\"126.633926\"/>\n     <use style=\"fill:#1f77b4;stroke:#1f77b4;\" x=\"231.418853\" xlink:href=\"#m4cf4f55db6\" y=\"126.948777\"/>\n     <use style=\"fill:#1f77b4;stroke:#1f77b4;\" x=\"113.751664\" xlink:href=\"#m4cf4f55db6\" y=\"72.442024\"/>\n     <use style=\"fill:#1f77b4;stroke:#1f77b4;\" x=\"221.801175\" xlink:href=\"#m4cf4f55db6\" y=\"123.173987\"/>\n     <use style=\"fill:#1f77b4;stroke:#1f77b4;\" x=\"221.689612\" xlink:href=\"#m4cf4f55db6\" y=\"125.664823\"/>\n     <use style=\"fill:#1f77b4;stroke:#1f77b4;\" x=\"199.09047\" xlink:href=\"#m4cf4f55db6\" y=\"147.761868\"/>\n     <use style=\"fill:#1f77b4;stroke:#1f77b4;\" x=\"225.630122\" xlink:href=\"#m4cf4f55db6\" y=\"146.546244\"/>\n     <use style=\"fill:#1f77b4;stroke:#1f77b4;\" x=\"145.896504\" xlink:href=\"#m4cf4f55db6\" y=\"75.173852\"/>\n     <use style=\"fill:#1f77b4;stroke:#1f77b4;\" x=\"249.605109\" xlink:href=\"#m4cf4f55db6\" y=\"129.428103\"/>\n     <use style=\"fill:#1f77b4;stroke:#1f77b4;\" x=\"252.110737\" xlink:href=\"#m4cf4f55db6\" y=\"154.973772\"/>\n     <use style=\"fill:#1f77b4;stroke:#1f77b4;\" x=\"251.221534\" xlink:href=\"#m4cf4f55db6\" y=\"121.67165\"/>\n     <use style=\"fill:#1f77b4;stroke:#1f77b4;\" x=\"252.134932\" xlink:href=\"#m4cf4f55db6\" y=\"157.06855\"/>\n     <use style=\"fill:#1f77b4;stroke:#1f77b4;\" x=\"221.995185\" xlink:href=\"#m4cf4f55db6\" y=\"132.523424\"/>\n     <use style=\"fill:#1f77b4;stroke:#1f77b4;\" x=\"270.860246\" xlink:href=\"#m4cf4f55db6\" y=\"157.461277\"/>\n     <use style=\"fill:#1f77b4;stroke:#1f77b4;\" x=\"173.739986\" xlink:href=\"#m4cf4f55db6\" y=\"86.177894\"/>\n     <use style=\"fill:#1f77b4;stroke:#1f77b4;\" x=\"243.607361\" xlink:href=\"#m4cf4f55db6\" y=\"141.303893\"/>\n     <use style=\"fill:#1f77b4;stroke:#1f77b4;\" x=\"203.369756\" xlink:href=\"#m4cf4f55db6\" y=\"118.352863\"/>\n     <use style=\"fill:#1f77b4;stroke:#1f77b4;\" x=\"215.577654\" xlink:href=\"#m4cf4f55db6\" y=\"104.547519\"/>\n     <use style=\"fill:#1f77b4;stroke:#1f77b4;\" x=\"269.180623\" xlink:href=\"#m4cf4f55db6\" y=\"128.16625\"/>\n     <use style=\"fill:#1f77b4;stroke:#1f77b4;\" x=\"156.757104\" xlink:href=\"#m4cf4f55db6\" y=\"107.821857\"/>\n     <use style=\"fill:#1f77b4;stroke:#1f77b4;\" x=\"301.005554\" xlink:href=\"#m4cf4f55db6\" y=\"188.488062\"/>\n     <use style=\"fill:#1f77b4;stroke:#1f77b4;\" x=\"174.874113\" xlink:href=\"#m4cf4f55db6\" y=\"100.989625\"/>\n     <use style=\"fill:#1f77b4;stroke:#1f77b4;\" x=\"185.433981\" xlink:href=\"#m4cf4f55db6\" y=\"94.036896\"/>\n     <use style=\"fill:#1f77b4;stroke:#1f77b4;\" x=\"255.826318\" xlink:href=\"#m4cf4f55db6\" y=\"141.24049\"/>\n     <use style=\"fill:#1f77b4;stroke:#1f77b4;\" x=\"210.246221\" xlink:href=\"#m4cf4f55db6\" y=\"164.102354\"/>\n     <use style=\"fill:#1f77b4;stroke:#1f77b4;\" x=\"207.192259\" xlink:href=\"#m4cf4f55db6\" y=\"98.227795\"/>\n     <use style=\"fill:#1f77b4;stroke:#1f77b4;\" x=\"225.718966\" xlink:href=\"#m4cf4f55db6\" y=\"129.652456\"/>\n     <use style=\"fill:#1f77b4;stroke:#1f77b4;\" x=\"118.295547\" xlink:href=\"#m4cf4f55db6\" y=\"75.674944\"/>\n     <use style=\"fill:#1f77b4;stroke:#1f77b4;\" x=\"235.05846\" xlink:href=\"#m4cf4f55db6\" y=\"135.663019\"/>\n     <use style=\"fill:#1f77b4;stroke:#1f77b4;\" x=\"156.860779\" xlink:href=\"#m4cf4f55db6\" y=\"89.239512\"/>\n     <use style=\"fill:#1f77b4;stroke:#1f77b4;\" x=\"102.926417\" xlink:href=\"#m4cf4f55db6\" y=\"37.324274\"/>\n     <use style=\"fill:#1f77b4;stroke:#1f77b4;\" x=\"182.95102\" xlink:href=\"#m4cf4f55db6\" y=\"103.231075\"/>\n     <use style=\"fill:#1f77b4;stroke:#1f77b4;\" x=\"229.49698\" xlink:href=\"#m4cf4f55db6\" y=\"154.875395\"/>\n     <use style=\"fill:#1f77b4;stroke:#1f77b4;\" x=\"248.909602\" xlink:href=\"#m4cf4f55db6\" y=\"129.868048\"/>\n     <use style=\"fill:#1f77b4;stroke:#1f77b4;\" x=\"235.466951\" xlink:href=\"#m4cf4f55db6\" y=\"146.011374\"/>\n     <use style=\"fill:#1f77b4;stroke:#1f77b4;\" x=\"98.089046\" xlink:href=\"#m4cf4f55db6\" y=\"60.569055\"/>\n     <use style=\"fill:#1f77b4;stroke:#1f77b4;\" x=\"223.959568\" xlink:href=\"#m4cf4f55db6\" y=\"120.213077\"/>\n     <use style=\"fill:#1f77b4;stroke:#1f77b4;\" x=\"267.320079\" xlink:href=\"#m4cf4f55db6\" y=\"153.5462\"/>\n     <use style=\"fill:#1f77b4;stroke:#1f77b4;\" x=\"155.300187\" xlink:href=\"#m4cf4f55db6\" y=\"96.668216\"/>\n     <use style=\"fill:#1f77b4;stroke:#1f77b4;\" x=\"288.320929\" xlink:href=\"#m4cf4f55db6\" y=\"183.846815\"/>\n     <use style=\"fill:#1f77b4;stroke:#1f77b4;\" x=\"197.548819\" xlink:href=\"#m4cf4f55db6\" y=\"102.870419\"/>\n     <use style=\"fill:#1f77b4;stroke:#1f77b4;\" x=\"130.795747\" xlink:href=\"#m4cf4f55db6\" y=\"59.48773\"/>\n     <use style=\"fill:#1f77b4;stroke:#1f77b4;\" x=\"213.344374\" xlink:href=\"#m4cf4f55db6\" y=\"115.255996\"/>\n     <use style=\"fill:#1f77b4;stroke:#1f77b4;\" x=\"204.946668\" xlink:href=\"#m4cf4f55db6\" y=\"122.84137\"/>\n     <use style=\"fill:#1f77b4;stroke:#1f77b4;\" x=\"237.317168\" xlink:href=\"#m4cf4f55db6\" y=\"141.737209\"/>\n     <use style=\"fill:#1f77b4;stroke:#1f77b4;\" x=\"208.775029\" xlink:href=\"#m4cf4f55db6\" y=\"86.721538\"/>\n     <use style=\"fill:#1f77b4;stroke:#1f77b4;\" x=\"126.130465\" xlink:href=\"#m4cf4f55db6\" y=\"91.119709\"/>\n     <use style=\"fill:#1f77b4;stroke:#1f77b4;\" x=\"165.768273\" xlink:href=\"#m4cf4f55db6\" y=\"85.233379\"/>\n     <use style=\"fill:#1f77b4;stroke:#1f77b4;\" x=\"215.243884\" xlink:href=\"#m4cf4f55db6\" y=\"107.743663\"/>\n     <use style=\"fill:#1f77b4;stroke:#1f77b4;\" x=\"243.07096\" xlink:href=\"#m4cf4f55db6\" y=\"148.418636\"/>\n     <use style=\"fill:#1f77b4;stroke:#1f77b4;\" x=\"222.028909\" xlink:href=\"#m4cf4f55db6\" y=\"140.540783\"/>\n     <use style=\"fill:#1f77b4;stroke:#1f77b4;\" x=\"186.577951\" xlink:href=\"#m4cf4f55db6\" y=\"90.940977\"/>\n     <use style=\"fill:#1f77b4;stroke:#1f77b4;\" x=\"171.57285\" xlink:href=\"#m4cf4f55db6\" y=\"109.772164\"/>\n     <use style=\"fill:#1f77b4;stroke:#1f77b4;\" x=\"262.766418\" xlink:href=\"#m4cf4f55db6\" y=\"113.215254\"/>\n     <use style=\"fill:#1f77b4;stroke:#1f77b4;\" x=\"165.082007\" xlink:href=\"#m4cf4f55db6\" y=\"99.613233\"/>\n     <use style=\"fill:#1f77b4;stroke:#1f77b4;\" x=\"213.841655\" xlink:href=\"#m4cf4f55db6\" y=\"89.992309\"/>\n     <use style=\"fill:#1f77b4;stroke:#1f77b4;\" x=\"259.294631\" xlink:href=\"#m4cf4f55db6\" y=\"146.993141\"/>\n     <use style=\"fill:#1f77b4;stroke:#1f77b4;\" x=\"146.957943\" xlink:href=\"#m4cf4f55db6\" y=\"91.348935\"/>\n     <use style=\"fill:#1f77b4;stroke:#1f77b4;\" x=\"176.961486\" xlink:href=\"#m4cf4f55db6\" y=\"118.351521\"/>\n     <use style=\"fill:#1f77b4;stroke:#1f77b4;\" x=\"159.432607\" xlink:href=\"#m4cf4f55db6\" y=\"109.886261\"/>\n     <use style=\"fill:#1f77b4;stroke:#1f77b4;\" x=\"276.163574\" xlink:href=\"#m4cf4f55db6\" y=\"134.34634\"/>\n     <use style=\"fill:#1f77b4;stroke:#1f77b4;\" x=\"156.893328\" xlink:href=\"#m4cf4f55db6\" y=\"79.996382\"/>\n     <use style=\"fill:#1f77b4;stroke:#1f77b4;\" x=\"188.011465\" xlink:href=\"#m4cf4f55db6\" y=\"100.043799\"/>\n     <use style=\"fill:#1f77b4;stroke:#1f77b4;\" x=\"162.14332\" xlink:href=\"#m4cf4f55db6\" y=\"118.343567\"/>\n     <use style=\"fill:#1f77b4;stroke:#1f77b4;\" x=\"199.709163\" xlink:href=\"#m4cf4f55db6\" y=\"97.015688\"/>\n     <use style=\"fill:#1f77b4;stroke:#1f77b4;\" x=\"254.612395\" xlink:href=\"#m4cf4f55db6\" y=\"153.695423\"/>\n     <use style=\"fill:#1f77b4;stroke:#1f77b4;\" x=\"86.745233\" xlink:href=\"#m4cf4f55db6\" y=\"38.967746\"/>\n     <use style=\"fill:#1f77b4;stroke:#1f77b4;\" x=\"246.847508\" xlink:href=\"#m4cf4f55db6\" y=\"132.150921\"/>\n     <use style=\"fill:#1f77b4;stroke:#1f77b4;\" x=\"188.234813\" xlink:href=\"#m4cf4f55db6\" y=\"99.226305\"/>\n     <use style=\"fill:#1f77b4;stroke:#1f77b4;\" x=\"297.217583\" xlink:href=\"#m4cf4f55db6\" y=\"150.323761\"/>\n     <use style=\"fill:#1f77b4;stroke:#1f77b4;\" x=\"273.383464\" xlink:href=\"#m4cf4f55db6\" y=\"170.618056\"/>\n     <use style=\"fill:#1f77b4;stroke:#1f77b4;\" x=\"225.000039\" xlink:href=\"#m4cf4f55db6\" y=\"144.749099\"/>\n     <use style=\"fill:#1f77b4;stroke:#1f77b4;\" x=\"203.859605\" xlink:href=\"#m4cf4f55db6\" y=\"108.766954\"/>\n     <use style=\"fill:#1f77b4;stroke:#1f77b4;\" x=\"105.324739\" xlink:href=\"#m4cf4f55db6\" y=\"78.487496\"/>\n     <use style=\"fill:#1f77b4;stroke:#1f77b4;\" x=\"174.797439\" xlink:href=\"#m4cf4f55db6\" y=\"104.616538\"/>\n     <use style=\"fill:#1f77b4;stroke:#1f77b4;\" x=\"255.280642\" xlink:href=\"#m4cf4f55db6\" y=\"131.904154\"/>\n     <use style=\"fill:#1f77b4;stroke:#1f77b4;\" x=\"117.426633\" xlink:href=\"#m4cf4f55db6\" y=\"50.037693\"/>\n     <use style=\"fill:#1f77b4;stroke:#1f77b4;\" x=\"243.211696\" xlink:href=\"#m4cf4f55db6\" y=\"158.970244\"/>\n     <use style=\"fill:#1f77b4;stroke:#1f77b4;\" x=\"241.632967\" xlink:href=\"#m4cf4f55db6\" y=\"130.262538\"/>\n     <use style=\"fill:#1f77b4;stroke:#1f77b4;\" x=\"153.724723\" xlink:href=\"#m4cf4f55db6\" y=\"76.241657\"/>\n     <use style=\"fill:#1f77b4;stroke:#1f77b4;\" x=\"148.75578\" xlink:href=\"#m4cf4f55db6\" y=\"84.85035\"/>\n     <use style=\"fill:#1f77b4;stroke:#1f77b4;\" x=\"253.874638\" xlink:href=\"#m4cf4f55db6\" y=\"155.569111\"/>\n     <use style=\"fill:#1f77b4;stroke:#1f77b4;\" x=\"205.15035\" xlink:href=\"#m4cf4f55db6\" y=\"125.443992\"/>\n     <use style=\"fill:#1f77b4;stroke:#1f77b4;\" x=\"106.289254\" xlink:href=\"#m4cf4f55db6\" y=\"56.342146\"/>\n     <use style=\"fill:#1f77b4;stroke:#1f77b4;\" x=\"144.974572\" xlink:href=\"#m4cf4f55db6\" y=\"61.620101\"/>\n     <use style=\"fill:#1f77b4;stroke:#1f77b4;\" x=\"242.24419\" xlink:href=\"#m4cf4f55db6\" y=\"162.68791\"/>\n     <use style=\"fill:#1f77b4;stroke:#1f77b4;\" x=\"219.54442\" xlink:href=\"#m4cf4f55db6\" y=\"121.37922\"/>\n     <use style=\"fill:#1f77b4;stroke:#1f77b4;\" x=\"269.029953\" xlink:href=\"#m4cf4f55db6\" y=\"138.18482\"/>\n     <use style=\"fill:#1f77b4;stroke:#1f77b4;\" x=\"227.168312\" xlink:href=\"#m4cf4f55db6\" y=\"165.531765\"/>\n     <use style=\"fill:#1f77b4;stroke:#1f77b4;\" x=\"189.591237\" xlink:href=\"#m4cf4f55db6\" y=\"105.994849\"/>\n     <use style=\"fill:#1f77b4;stroke:#1f77b4;\" x=\"118.185955\" xlink:href=\"#m4cf4f55db6\" y=\"75.872051\"/>\n     <use style=\"fill:#1f77b4;stroke:#1f77b4;\" x=\"221.572997\" xlink:href=\"#m4cf4f55db6\" y=\"107.260133\"/>\n     <use style=\"fill:#1f77b4;stroke:#1f77b4;\" x=\"210.289557\" xlink:href=\"#m4cf4f55db6\" y=\"118.301105\"/>\n     <use style=\"fill:#1f77b4;stroke:#1f77b4;\" x=\"287.326069\" xlink:href=\"#m4cf4f55db6\" y=\"158.556045\"/>\n     <use style=\"fill:#1f77b4;stroke:#1f77b4;\" x=\"188.164807\" xlink:href=\"#m4cf4f55db6\" y=\"86.104081\"/>\n     <use style=\"fill:#1f77b4;stroke:#1f77b4;\" x=\"246.445658\" xlink:href=\"#m4cf4f55db6\" y=\"120.481092\"/>\n     <use style=\"fill:#1f77b4;stroke:#1f77b4;\" x=\"182.698168\" xlink:href=\"#m4cf4f55db6\" y=\"128.286501\"/>\n     <use style=\"fill:#1f77b4;stroke:#1f77b4;\" x=\"158.457382\" xlink:href=\"#m4cf4f55db6\" y=\"83.94088\"/>\n     <use style=\"fill:#1f77b4;stroke:#1f77b4;\" x=\"127.503651\" xlink:href=\"#m4cf4f55db6\" y=\"62.506453\"/>\n     <use style=\"fill:#1f77b4;stroke:#1f77b4;\" x=\"164.725371\" xlink:href=\"#m4cf4f55db6\" y=\"95.84976\"/>\n     <use style=\"fill:#1f77b4;stroke:#1f77b4;\" x=\"231.027148\" xlink:href=\"#m4cf4f55db6\" y=\"81.857711\"/>\n     <use style=\"fill:#1f77b4;stroke:#1f77b4;\" x=\"216.298079\" xlink:href=\"#m4cf4f55db6\" y=\"98.017695\"/>\n     <use style=\"fill:#1f77b4;stroke:#1f77b4;\" x=\"194.643374\" xlink:href=\"#m4cf4f55db6\" y=\"98.356748\"/>\n     <use style=\"fill:#1f77b4;stroke:#1f77b4;\" x=\"110.958401\" xlink:href=\"#m4cf4f55db6\" y=\"82.713293\"/>\n     <use style=\"fill:#1f77b4;stroke:#1f77b4;\" x=\"247.45929\" xlink:href=\"#m4cf4f55db6\" y=\"145.502328\"/>\n     <use style=\"fill:#1f77b4;stroke:#1f77b4;\" x=\"194.308185\" xlink:href=\"#m4cf4f55db6\" y=\"95.583494\"/>\n     <use style=\"fill:#1f77b4;stroke:#1f77b4;\" x=\"194.523052\" xlink:href=\"#m4cf4f55db6\" y=\"102.937899\"/>\n     <use style=\"fill:#1f77b4;stroke:#1f77b4;\" x=\"238.90821\" xlink:href=\"#m4cf4f55db6\" y=\"118.578459\"/>\n     <use style=\"fill:#1f77b4;stroke:#1f77b4;\" x=\"186.61795\" xlink:href=\"#m4cf4f55db6\" y=\"112.168894\"/>\n     <use style=\"fill:#1f77b4;stroke:#1f77b4;\" x=\"175.384537\" xlink:href=\"#m4cf4f55db6\" y=\"96.123103\"/>\n     <use style=\"fill:#1f77b4;stroke:#1f77b4;\" x=\"121.439514\" xlink:href=\"#m4cf4f55db6\" y=\"59.651556\"/>\n     <use style=\"fill:#1f77b4;stroke:#1f77b4;\" x=\"185.682774\" xlink:href=\"#m4cf4f55db6\" y=\"98.518305\"/>\n     <use style=\"fill:#1f77b4;stroke:#1f77b4;\" x=\"157.047181\" xlink:href=\"#m4cf4f55db6\" y=\"85.125762\"/>\n     <use style=\"fill:#1f77b4;stroke:#1f77b4;\" x=\"343.105922\" xlink:href=\"#m4cf4f55db6\" y=\"214.738609\"/>\n     <use style=\"fill:#1f77b4;stroke:#1f77b4;\" x=\"168.466102\" xlink:href=\"#m4cf4f55db6\" y=\"111.125435\"/>\n     <use style=\"fill:#1f77b4;stroke:#1f77b4;\" x=\"266.776507\" xlink:href=\"#m4cf4f55db6\" y=\"157.3428\"/>\n     <use style=\"fill:#1f77b4;stroke:#1f77b4;\" x=\"146.838638\" xlink:href=\"#m4cf4f55db6\" y=\"87.474627\"/>\n     <use style=\"fill:#1f77b4;stroke:#1f77b4;\" x=\"211.820717\" xlink:href=\"#m4cf4f55db6\" y=\"119.32049\"/>\n     <use style=\"fill:#1f77b4;stroke:#1f77b4;\" x=\"149.255487\" xlink:href=\"#m4cf4f55db6\" y=\"101.084235\"/>\n     <use style=\"fill:#1f77b4;stroke:#1f77b4;\" x=\"343.330983\" xlink:href=\"#m4cf4f55db6\" y=\"206.757826\"/>\n     <use style=\"fill:#1f77b4;stroke:#1f77b4;\" x=\"225.836668\" xlink:href=\"#m4cf4f55db6\" y=\"133.470338\"/>\n     <use style=\"fill:#1f77b4;stroke:#1f77b4;\" x=\"237.955909\" xlink:href=\"#m4cf4f55db6\" y=\"139.781244\"/>\n     <use style=\"fill:#1f77b4;stroke:#1f77b4;\" x=\"230.003959\" xlink:href=\"#m4cf4f55db6\" y=\"150.435051\"/>\n     <use style=\"fill:#1f77b4;stroke:#1f77b4;\" x=\"171.530096\" xlink:href=\"#m4cf4f55db6\" y=\"103.721405\"/>\n     <use style=\"fill:#1f77b4;stroke:#1f77b4;\" x=\"236.870771\" xlink:href=\"#m4cf4f55db6\" y=\"154.35314\"/>\n     <use style=\"fill:#1f77b4;stroke:#1f77b4;\" x=\"210.223243\" xlink:href=\"#m4cf4f55db6\" y=\"120.553558\"/>\n     <use style=\"fill:#1f77b4;stroke:#1f77b4;\" x=\"261.935433\" xlink:href=\"#m4cf4f55db6\" y=\"168.106526\"/>\n     <use style=\"fill:#1f77b4;stroke:#1f77b4;\" x=\"246.833463\" xlink:href=\"#m4cf4f55db6\" y=\"146.832587\"/>\n     <use style=\"fill:#1f77b4;stroke:#1f77b4;\" x=\"246.986308\" xlink:href=\"#m4cf4f55db6\" y=\"162.518485\"/>\n     <use style=\"fill:#1f77b4;stroke:#1f77b4;\" x=\"170.842827\" xlink:href=\"#m4cf4f55db6\" y=\"118.013649\"/>\n     <use style=\"fill:#1f77b4;stroke:#1f77b4;\" x=\"168.634674\" xlink:href=\"#m4cf4f55db6\" y=\"114.051554\"/>\n     <use style=\"fill:#1f77b4;stroke:#1f77b4;\" x=\"184.982082\" xlink:href=\"#m4cf4f55db6\" y=\"76.510269\"/>\n     <use style=\"fill:#1f77b4;stroke:#1f77b4;\" x=\"178.080717\" xlink:href=\"#m4cf4f55db6\" y=\"125.614606\"/>\n     <use style=\"fill:#1f77b4;stroke:#1f77b4;\" x=\"243.95159\" xlink:href=\"#m4cf4f55db6\" y=\"120.135667\"/>\n     <use style=\"fill:#1f77b4;stroke:#1f77b4;\" x=\"241.041173\" xlink:href=\"#m4cf4f55db6\" y=\"123.64546\"/>\n     <use style=\"fill:#1f77b4;stroke:#1f77b4;\" x=\"227.387707\" xlink:href=\"#m4cf4f55db6\" y=\"119.166343\"/>\n     <use style=\"fill:#1f77b4;stroke:#1f77b4;\" x=\"182.100391\" xlink:href=\"#m4cf4f55db6\" y=\"95.222805\"/>\n     <use style=\"fill:#1f77b4;stroke:#1f77b4;\" x=\"122.776274\" xlink:href=\"#m4cf4f55db6\" y=\"66.548935\"/>\n     <use style=\"fill:#1f77b4;stroke:#1f77b4;\" x=\"115.251489\" xlink:href=\"#m4cf4f55db6\" y=\"84.050667\"/>\n     <use style=\"fill:#1f77b4;stroke:#1f77b4;\" x=\"318.29859\" xlink:href=\"#m4cf4f55db6\" y=\"191.05799\"/>\n     <use style=\"fill:#1f77b4;stroke:#1f77b4;\" x=\"231.758757\" xlink:href=\"#m4cf4f55db6\" y=\"126.818506\"/>\n     <use style=\"fill:#1f77b4;stroke:#1f77b4;\" x=\"247.971013\" xlink:href=\"#m4cf4f55db6\" y=\"115.237794\"/>\n     <use style=\"fill:#1f77b4;stroke:#1f77b4;\" x=\"166.936818\" xlink:href=\"#m4cf4f55db6\" y=\"90.249486\"/>\n     <use style=\"fill:#1f77b4;stroke:#1f77b4;\" x=\"233.926315\" xlink:href=\"#m4cf4f55db6\" y=\"112.08242\"/>\n     <use style=\"fill:#1f77b4;stroke:#1f77b4;\" x=\"185.518852\" xlink:href=\"#m4cf4f55db6\" y=\"114.102825\"/>\n     <use style=\"fill:#1f77b4;stroke:#1f77b4;\" x=\"174.005605\" xlink:href=\"#m4cf4f55db6\" y=\"103.903399\"/>\n     <use style=\"fill:#1f77b4;stroke:#1f77b4;\" x=\"248.711183\" xlink:href=\"#m4cf4f55db6\" y=\"148.875676\"/>\n     <use style=\"fill:#1f77b4;stroke:#1f77b4;\" x=\"197.669309\" xlink:href=\"#m4cf4f55db6\" y=\"114.919628\"/>\n     <use style=\"fill:#1f77b4;stroke:#1f77b4;\" x=\"197.52888\" xlink:href=\"#m4cf4f55db6\" y=\"104.879801\"/>\n     <use style=\"fill:#1f77b4;stroke:#1f77b4;\" x=\"199.347447\" xlink:href=\"#m4cf4f55db6\" y=\"95.735247\"/>\n     <use style=\"fill:#1f77b4;stroke:#1f77b4;\" x=\"223.343568\" xlink:href=\"#m4cf4f55db6\" y=\"117.285852\"/>\n     <use style=\"fill:#1f77b4;stroke:#1f77b4;\" x=\"209.112205\" xlink:href=\"#m4cf4f55db6\" y=\"129.595164\"/>\n     <use style=\"fill:#1f77b4;stroke:#1f77b4;\" x=\"228.068616\" xlink:href=\"#m4cf4f55db6\" y=\"115.168841\"/>\n     <use style=\"fill:#1f77b4;stroke:#1f77b4;\" x=\"173.383001\" xlink:href=\"#m4cf4f55db6\" y=\"110.229677\"/>\n     <use style=\"fill:#1f77b4;stroke:#1f77b4;\" x=\"191.310869\" xlink:href=\"#m4cf4f55db6\" y=\"105.004148\"/>\n     <use style=\"fill:#1f77b4;stroke:#1f77b4;\" x=\"197.431137\" xlink:href=\"#m4cf4f55db6\" y=\"126.359383\"/>\n     <use style=\"fill:#1f77b4;stroke:#1f77b4;\" x=\"159.868621\" xlink:href=\"#m4cf4f55db6\" y=\"113.733458\"/>\n     <use style=\"fill:#1f77b4;stroke:#1f77b4;\" x=\"207.591146\" xlink:href=\"#m4cf4f55db6\" y=\"91.134299\"/>\n     <use style=\"fill:#1f77b4;stroke:#1f77b4;\" x=\"169.113973\" xlink:href=\"#m4cf4f55db6\" y=\"69.529751\"/>\n     <use style=\"fill:#1f77b4;stroke:#1f77b4;\" x=\"206.109233\" xlink:href=\"#m4cf4f55db6\" y=\"129.787735\"/>\n     <use style=\"fill:#1f77b4;stroke:#1f77b4;\" x=\"169.480682\" xlink:href=\"#m4cf4f55db6\" y=\"105.849951\"/>\n     <use style=\"fill:#1f77b4;stroke:#1f77b4;\" x=\"129.043436\" xlink:href=\"#m4cf4f55db6\" y=\"64.116865\"/>\n     <use style=\"fill:#1f77b4;stroke:#1f77b4;\" x=\"232.357072\" xlink:href=\"#m4cf4f55db6\" y=\"148.524914\"/>\n     <use style=\"fill:#1f77b4;stroke:#1f77b4;\" x=\"343.352064\" xlink:href=\"#m4cf4f55db6\" y=\"195.108133\"/>\n     <use style=\"fill:#1f77b4;stroke:#1f77b4;\" x=\"141.75587\" xlink:href=\"#m4cf4f55db6\" y=\"72.573856\"/>\n     <use style=\"fill:#1f77b4;stroke:#1f77b4;\" x=\"127.638715\" xlink:href=\"#m4cf4f55db6\" y=\"43.095774\"/>\n     <use style=\"fill:#1f77b4;stroke:#1f77b4;\" x=\"274.079233\" xlink:href=\"#m4cf4f55db6\" y=\"152.073444\"/>\n     <use style=\"fill:#1f77b4;stroke:#1f77b4;\" x=\"288.570948\" xlink:href=\"#m4cf4f55db6\" y=\"179.702191\"/>\n     <use style=\"fill:#1f77b4;stroke:#1f77b4;\" x=\"215.633962\" xlink:href=\"#m4cf4f55db6\" y=\"123.933868\"/>\n     <use style=\"fill:#1f77b4;stroke:#1f77b4;\" x=\"175.568709\" xlink:href=\"#m4cf4f55db6\" y=\"106.97812\"/>\n     <use style=\"fill:#1f77b4;stroke:#1f77b4;\" x=\"114.820897\" xlink:href=\"#m4cf4f55db6\" y=\"60.742607\"/>\n     <use style=\"fill:#1f77b4;stroke:#1f77b4;\" x=\"214.410532\" xlink:href=\"#m4cf4f55db6\" y=\"135.069106\"/>\n     <use style=\"fill:#1f77b4;stroke:#1f77b4;\" x=\"170.792554\" xlink:href=\"#m4cf4f55db6\" y=\"98.534007\"/>\n     <use style=\"fill:#1f77b4;stroke:#1f77b4;\" x=\"205.052561\" xlink:href=\"#m4cf4f55db6\" y=\"125.51053\"/>\n     <use style=\"fill:#1f77b4;stroke:#1f77b4;\" x=\"146.079904\" xlink:href=\"#m4cf4f55db6\" y=\"81.122939\"/>\n     <use style=\"fill:#1f77b4;stroke:#1f77b4;\" x=\"160.395653\" xlink:href=\"#m4cf4f55db6\" y=\"69.568548\"/>\n     <use style=\"fill:#1f77b4;stroke:#1f77b4;\" x=\"120.298741\" xlink:href=\"#m4cf4f55db6\" y=\"50.965383\"/>\n     <use style=\"fill:#1f77b4;stroke:#1f77b4;\" x=\"206.349116\" xlink:href=\"#m4cf4f55db6\" y=\"112.419131\"/>\n     <use style=\"fill:#1f77b4;stroke:#1f77b4;\" x=\"106.961068\" xlink:href=\"#m4cf4f55db6\" y=\"58.283013\"/>\n     <use style=\"fill:#1f77b4;stroke:#1f77b4;\" x=\"292.786924\" xlink:href=\"#m4cf4f55db6\" y=\"193.489144\"/>\n     <use style=\"fill:#1f77b4;stroke:#1f77b4;\" x=\"173.102903\" xlink:href=\"#m4cf4f55db6\" y=\"109.066955\"/>\n     <use style=\"fill:#1f77b4;stroke:#1f77b4;\" x=\"213.332623\" xlink:href=\"#m4cf4f55db6\" y=\"111.755167\"/>\n     <use style=\"fill:#1f77b4;stroke:#1f77b4;\" x=\"118.946577\" xlink:href=\"#m4cf4f55db6\" y=\"70.038663\"/>\n     <use style=\"fill:#1f77b4;stroke:#1f77b4;\" x=\"248.671796\" xlink:href=\"#m4cf4f55db6\" y=\"100.919483\"/>\n     <use style=\"fill:#1f77b4;stroke:#1f77b4;\" x=\"162.013798\" xlink:href=\"#m4cf4f55db6\" y=\"104.971797\"/>\n     <use style=\"fill:#1f77b4;stroke:#1f77b4;\" x=\"174.683102\" xlink:href=\"#m4cf4f55db6\" y=\"106.580861\"/>\n     <use style=\"fill:#1f77b4;stroke:#1f77b4;\" x=\"155.903968\" xlink:href=\"#m4cf4f55db6\" y=\"98.058628\"/>\n     <use style=\"fill:#1f77b4;stroke:#1f77b4;\" x=\"250.432823\" xlink:href=\"#m4cf4f55db6\" y=\"152.853414\"/>\n     <use style=\"fill:#1f77b4;stroke:#1f77b4;\" x=\"166.18127\" xlink:href=\"#m4cf4f55db6\" y=\"85.785094\"/>\n     <use style=\"fill:#1f77b4;stroke:#1f77b4;\" x=\"252.056349\" xlink:href=\"#m4cf4f55db6\" y=\"134.174157\"/>\n     <use style=\"fill:#1f77b4;stroke:#1f77b4;\" x=\"238.099545\" xlink:href=\"#m4cf4f55db6\" y=\"130.936905\"/>\n     <use style=\"fill:#1f77b4;stroke:#1f77b4;\" x=\"253.509051\" xlink:href=\"#m4cf4f55db6\" y=\"148.017579\"/>\n     <use style=\"fill:#1f77b4;stroke:#1f77b4;\" x=\"264.796371\" xlink:href=\"#m4cf4f55db6\" y=\"154.112326\"/>\n     <use style=\"fill:#1f77b4;stroke:#1f77b4;\" x=\"179.074203\" xlink:href=\"#m4cf4f55db6\" y=\"105.678541\"/>\n     <use style=\"fill:#1f77b4;stroke:#1f77b4;\" x=\"195.547865\" xlink:href=\"#m4cf4f55db6\" y=\"105.533209\"/>\n     <use style=\"fill:#1f77b4;stroke:#1f77b4;\" x=\"136.521767\" xlink:href=\"#m4cf4f55db6\" y=\"84.052949\"/>\n     <use style=\"fill:#1f77b4;stroke:#1f77b4;\" x=\"237.232584\" xlink:href=\"#m4cf4f55db6\" y=\"149.807959\"/>\n     <use style=\"fill:#1f77b4;stroke:#1f77b4;\" x=\"245.74502\" xlink:href=\"#m4cf4f55db6\" y=\"142.641353\"/>\n     <use style=\"fill:#1f77b4;stroke:#1f77b4;\" x=\"59.776872\" xlink:href=\"#m4cf4f55db6\" y=\"39.430719\"/>\n     <use style=\"fill:#1f77b4;stroke:#1f77b4;\" x=\"143.033992\" xlink:href=\"#m4cf4f55db6\" y=\"77.429219\"/>\n     <use style=\"fill:#1f77b4;stroke:#1f77b4;\" x=\"246.337884\" xlink:href=\"#m4cf4f55db6\" y=\"154.474733\"/>\n     <use style=\"fill:#1f77b4;stroke:#1f77b4;\" x=\"240.445359\" xlink:href=\"#m4cf4f55db6\" y=\"170.808779\"/>\n     <use style=\"fill:#1f77b4;stroke:#1f77b4;\" x=\"237.651105\" xlink:href=\"#m4cf4f55db6\" y=\"128.539911\"/>\n     <use style=\"fill:#1f77b4;stroke:#1f77b4;\" x=\"193.523434\" xlink:href=\"#m4cf4f55db6\" y=\"133.584297\"/>\n     <use style=\"fill:#1f77b4;stroke:#1f77b4;\" x=\"166.473788\" xlink:href=\"#m4cf4f55db6\" y=\"79.52858\"/>\n     <use style=\"fill:#1f77b4;stroke:#1f77b4;\" x=\"233.456884\" xlink:href=\"#m4cf4f55db6\" y=\"146.651017\"/>\n     <use style=\"fill:#1f77b4;stroke:#1f77b4;\" x=\"195.632181\" xlink:href=\"#m4cf4f55db6\" y=\"108.176251\"/>\n     <use style=\"fill:#1f77b4;stroke:#1f77b4;\" x=\"140.31484\" xlink:href=\"#m4cf4f55db6\" y=\"65.356366\"/>\n     <use style=\"fill:#1f77b4;stroke:#1f77b4;\" x=\"249.556084\" xlink:href=\"#m4cf4f55db6\" y=\"126.815167\"/>\n     <use style=\"fill:#1f77b4;stroke:#1f77b4;\" x=\"159.139646\" xlink:href=\"#m4cf4f55db6\" y=\"85.787954\"/>\n     <use style=\"fill:#1f77b4;stroke:#1f77b4;\" x=\"161.824008\" xlink:href=\"#m4cf4f55db6\" y=\"122.589131\"/>\n     <use style=\"fill:#1f77b4;stroke:#1f77b4;\" x=\"152.651855\" xlink:href=\"#m4cf4f55db6\" y=\"91.411909\"/>\n     <use style=\"fill:#1f77b4;stroke:#1f77b4;\" x=\"183.687089\" xlink:href=\"#m4cf4f55db6\" y=\"108.410005\"/>\n     <use style=\"fill:#1f77b4;stroke:#1f77b4;\" x=\"124.798672\" xlink:href=\"#m4cf4f55db6\" y=\"49.572917\"/>\n     <use style=\"fill:#1f77b4;stroke:#1f77b4;\" x=\"191.841682\" xlink:href=\"#m4cf4f55db6\" y=\"76.403966\"/>\n     <use style=\"fill:#1f77b4;stroke:#1f77b4;\" x=\"194.920781\" xlink:href=\"#m4cf4f55db6\" y=\"110.450659\"/>\n     <use style=\"fill:#1f77b4;stroke:#1f77b4;\" x=\"236.291549\" xlink:href=\"#m4cf4f55db6\" y=\"138.712844\"/>\n     <use style=\"fill:#1f77b4;stroke:#1f77b4;\" x=\"158.860655\" xlink:href=\"#m4cf4f55db6\" y=\"90.613555\"/>\n     <use style=\"fill:#1f77b4;stroke:#1f77b4;\" x=\"168.797471\" xlink:href=\"#m4cf4f55db6\" y=\"98.955285\"/>\n     <use style=\"fill:#1f77b4;stroke:#1f77b4;\" x=\"140.718742\" xlink:href=\"#m4cf4f55db6\" y=\"69.076484\"/>\n     <use style=\"fill:#1f77b4;stroke:#1f77b4;\" x=\"202.747825\" xlink:href=\"#m4cf4f55db6\" y=\"101.286313\"/>\n     <use style=\"fill:#1f77b4;stroke:#1f77b4;\" x=\"263.577534\" xlink:href=\"#m4cf4f55db6\" y=\"152.463106\"/>\n     <use style=\"fill:#1f77b4;stroke:#1f77b4;\" x=\"215.524454\" xlink:href=\"#m4cf4f55db6\" y=\"142.296634\"/>\n     <use style=\"fill:#1f77b4;stroke:#1f77b4;\" x=\"169.299912\" xlink:href=\"#m4cf4f55db6\" y=\"124.045895\"/>\n     <use style=\"fill:#1f77b4;stroke:#1f77b4;\" x=\"215.132828\" xlink:href=\"#m4cf4f55db6\" y=\"136.868018\"/>\n     <use style=\"fill:#1f77b4;stroke:#1f77b4;\" x=\"165.037981\" xlink:href=\"#m4cf4f55db6\" y=\"64.828317\"/>\n     <use style=\"fill:#1f77b4;stroke:#1f77b4;\" x=\"165.742977\" xlink:href=\"#m4cf4f55db6\" y=\"99.095482\"/>\n     <use style=\"fill:#1f77b4;stroke:#1f77b4;\" x=\"154.112264\" xlink:href=\"#m4cf4f55db6\" y=\"111.08905\"/>\n     <use style=\"fill:#1f77b4;stroke:#1f77b4;\" x=\"258.659376\" xlink:href=\"#m4cf4f55db6\" y=\"143.660486\"/>\n     <use style=\"fill:#1f77b4;stroke:#1f77b4;\" x=\"201.597685\" xlink:href=\"#m4cf4f55db6\" y=\"126.649048\"/>\n     <use style=\"fill:#1f77b4;stroke:#1f77b4;\" x=\"158.702026\" xlink:href=\"#m4cf4f55db6\" y=\"122.526679\"/>\n     <use style=\"fill:#1f77b4;stroke:#1f77b4;\" x=\"190.087484\" xlink:href=\"#m4cf4f55db6\" y=\"102.682155\"/>\n     <use style=\"fill:#1f77b4;stroke:#1f77b4;\" x=\"227.645401\" xlink:href=\"#m4cf4f55db6\" y=\"160.174983\"/>\n     <use style=\"fill:#1f77b4;stroke:#1f77b4;\" x=\"175.757271\" xlink:href=\"#m4cf4f55db6\" y=\"102.193772\"/>\n     <use style=\"fill:#1f77b4;stroke:#1f77b4;\" x=\"153.474264\" xlink:href=\"#m4cf4f55db6\" y=\"81.786427\"/>\n     <use style=\"fill:#1f77b4;stroke:#1f77b4;\" x=\"249.828281\" xlink:href=\"#m4cf4f55db6\" y=\"163.637754\"/>\n     <use style=\"fill:#1f77b4;stroke:#1f77b4;\" x=\"219.603443\" xlink:href=\"#m4cf4f55db6\" y=\"140.032626\"/>\n     <use style=\"fill:#1f77b4;stroke:#1f77b4;\" x=\"193.275928\" xlink:href=\"#m4cf4f55db6\" y=\"115.246229\"/>\n     <use style=\"fill:#1f77b4;stroke:#1f77b4;\" x=\"194.11192\" xlink:href=\"#m4cf4f55db6\" y=\"112.497119\"/>\n     <use style=\"fill:#1f77b4;stroke:#1f77b4;\" x=\"155.918986\" xlink:href=\"#m4cf4f55db6\" y=\"92.273425\"/>\n     <use style=\"fill:#1f77b4;stroke:#1f77b4;\" x=\"149.007724\" xlink:href=\"#m4cf4f55db6\" y=\"96.515892\"/>\n     <use style=\"fill:#1f77b4;stroke:#1f77b4;\" x=\"238.588837\" xlink:href=\"#m4cf4f55db6\" y=\"121.247725\"/>\n     <use style=\"fill:#1f77b4;stroke:#1f77b4;\" x=\"234.455484\" xlink:href=\"#m4cf4f55db6\" y=\"117.85653\"/>\n     <use style=\"fill:#1f77b4;stroke:#1f77b4;\" x=\"108.307763\" xlink:href=\"#m4cf4f55db6\" y=\"68.935963\"/>\n     <use style=\"fill:#1f77b4;stroke:#1f77b4;\" x=\"195.197785\" xlink:href=\"#m4cf4f55db6\" y=\"99.806662\"/>\n     <use style=\"fill:#1f77b4;stroke:#1f77b4;\" x=\"221.689081\" xlink:href=\"#m4cf4f55db6\" y=\"136.01167\"/>\n     <use style=\"fill:#1f77b4;stroke:#1f77b4;\" x=\"190.67366\" xlink:href=\"#m4cf4f55db6\" y=\"104.711101\"/>\n     <use style=\"fill:#1f77b4;stroke:#1f77b4;\" x=\"215.740368\" xlink:href=\"#m4cf4f55db6\" y=\"119.09859\"/>\n     <use style=\"fill:#1f77b4;stroke:#1f77b4;\" x=\"231.034111\" xlink:href=\"#m4cf4f55db6\" y=\"131.249889\"/>\n     <use style=\"fill:#1f77b4;stroke:#1f77b4;\" x=\"202.036453\" xlink:href=\"#m4cf4f55db6\" y=\"126.66011\"/>\n     <use style=\"fill:#1f77b4;stroke:#1f77b4;\" x=\"241.7967\" xlink:href=\"#m4cf4f55db6\" y=\"164.86143\"/>\n     <use style=\"fill:#1f77b4;stroke:#1f77b4;\" x=\"171.96711\" xlink:href=\"#m4cf4f55db6\" y=\"112.321446\"/>\n     <use style=\"fill:#1f77b4;stroke:#1f77b4;\" x=\"234.983294\" xlink:href=\"#m4cf4f55db6\" y=\"133.103017\"/>\n     <use style=\"fill:#1f77b4;stroke:#1f77b4;\" x=\"272.135809\" xlink:href=\"#m4cf4f55db6\" y=\"159.039063\"/>\n     <use style=\"fill:#1f77b4;stroke:#1f77b4;\" x=\"205.009485\" xlink:href=\"#m4cf4f55db6\" y=\"103.460065\"/>\n     <use style=\"fill:#1f77b4;stroke:#1f77b4;\" x=\"154.368093\" xlink:href=\"#m4cf4f55db6\" y=\"65.905997\"/>\n     <use style=\"fill:#1f77b4;stroke:#1f77b4;\" x=\"144.997174\" xlink:href=\"#m4cf4f55db6\" y=\"77.524256\"/>\n     <use style=\"fill:#1f77b4;stroke:#1f77b4;\" x=\"175.465963\" xlink:href=\"#m4cf4f55db6\" y=\"70.074603\"/>\n     <use style=\"fill:#1f77b4;stroke:#1f77b4;\" x=\"222.431208\" xlink:href=\"#m4cf4f55db6\" y=\"131.142438\"/>\n     <use style=\"fill:#1f77b4;stroke:#1f77b4;\" x=\"178.031552\" xlink:href=\"#m4cf4f55db6\" y=\"123.730812\"/>\n     <use style=\"fill:#1f77b4;stroke:#1f77b4;\" x=\"264.04991\" xlink:href=\"#m4cf4f55db6\" y=\"172.091159\"/>\n     <use style=\"fill:#1f77b4;stroke:#1f77b4;\" x=\"203.762009\" xlink:href=\"#m4cf4f55db6\" y=\"119.272161\"/>\n     <use style=\"fill:#1f77b4;stroke:#1f77b4;\" x=\"142.863587\" xlink:href=\"#m4cf4f55db6\" y=\"66.565553\"/>\n     <use style=\"fill:#1f77b4;stroke:#1f77b4;\" x=\"178.236085\" xlink:href=\"#m4cf4f55db6\" y=\"119.730413\"/>\n     <use style=\"fill:#1f77b4;stroke:#1f77b4;\" x=\"198.597346\" xlink:href=\"#m4cf4f55db6\" y=\"104.260742\"/>\n     <use style=\"fill:#1f77b4;stroke:#1f77b4;\" x=\"223.431945\" xlink:href=\"#m4cf4f55db6\" y=\"151.795276\"/>\n     <use style=\"fill:#1f77b4;stroke:#1f77b4;\" x=\"187.388436\" xlink:href=\"#m4cf4f55db6\" y=\"108.614476\"/>\n     <use style=\"fill:#1f77b4;stroke:#1f77b4;\" x=\"169.577227\" xlink:href=\"#m4cf4f55db6\" y=\"138.02696\"/>\n     <use style=\"fill:#1f77b4;stroke:#1f77b4;\" x=\"139.653054\" xlink:href=\"#m4cf4f55db6\" y=\"82.752877\"/>\n     <use style=\"fill:#1f77b4;stroke:#1f77b4;\" x=\"295.96552\" xlink:href=\"#m4cf4f55db6\" y=\"155.087208\"/>\n     <use style=\"fill:#1f77b4;stroke:#1f77b4;\" x=\"269.28308\" xlink:href=\"#m4cf4f55db6\" y=\"195.08136\"/>\n     <use style=\"fill:#1f77b4;stroke:#1f77b4;\" x=\"250.089622\" xlink:href=\"#m4cf4f55db6\" y=\"116.72597\"/>\n     <use style=\"fill:#1f77b4;stroke:#1f77b4;\" x=\"146.152744\" xlink:href=\"#m4cf4f55db6\" y=\"70.254848\"/>\n     <use style=\"fill:#1f77b4;stroke:#1f77b4;\" x=\"243.821202\" xlink:href=\"#m4cf4f55db6\" y=\"111.346061\"/>\n     <use style=\"fill:#1f77b4;stroke:#1f77b4;\" x=\"186.732025\" xlink:href=\"#m4cf4f55db6\" y=\"109.386053\"/>\n     <use style=\"fill:#1f77b4;stroke:#1f77b4;\" x=\"230.277794\" xlink:href=\"#m4cf4f55db6\" y=\"111.398789\"/>\n     <use style=\"fill:#1f77b4;stroke:#1f77b4;\" x=\"178.680247\" xlink:href=\"#m4cf4f55db6\" y=\"89.128739\"/>\n     <use style=\"fill:#1f77b4;stroke:#1f77b4;\" x=\"143.128654\" xlink:href=\"#m4cf4f55db6\" y=\"64.120605\"/>\n     <use style=\"fill:#1f77b4;stroke:#1f77b4;\" x=\"142.872886\" xlink:href=\"#m4cf4f55db6\" y=\"70.521178\"/>\n     <use style=\"fill:#1f77b4;stroke:#1f77b4;\" x=\"240.236368\" xlink:href=\"#m4cf4f55db6\" y=\"134.585903\"/>\n     <use style=\"fill:#1f77b4;stroke:#1f77b4;\" x=\"253.432963\" xlink:href=\"#m4cf4f55db6\" y=\"156.993879\"/>\n     <use style=\"fill:#1f77b4;stroke:#1f77b4;\" x=\"182.744646\" xlink:href=\"#m4cf4f55db6\" y=\"136.209399\"/>\n     <use style=\"fill:#1f77b4;stroke:#1f77b4;\" x=\"255.026838\" xlink:href=\"#m4cf4f55db6\" y=\"164.480834\"/>\n     <use style=\"fill:#1f77b4;stroke:#1f77b4;\" x=\"170.894014\" xlink:href=\"#m4cf4f55db6\" y=\"113.329752\"/>\n     <use style=\"fill:#1f77b4;stroke:#1f77b4;\" x=\"149.68412\" xlink:href=\"#m4cf4f55db6\" y=\"75.995224\"/>\n     <use style=\"fill:#1f77b4;stroke:#1f77b4;\" x=\"225.287549\" xlink:href=\"#m4cf4f55db6\" y=\"151.266133\"/>\n     <use style=\"fill:#1f77b4;stroke:#1f77b4;\" x=\"126.440469\" xlink:href=\"#m4cf4f55db6\" y=\"72.907212\"/>\n     <use style=\"fill:#1f77b4;stroke:#1f77b4;\" x=\"305.483168\" xlink:href=\"#m4cf4f55db6\" y=\"170.589376\"/>\n     <use style=\"fill:#1f77b4;stroke:#1f77b4;\" x=\"183.869001\" xlink:href=\"#m4cf4f55db6\" y=\"83.090601\"/>\n     <use style=\"fill:#1f77b4;stroke:#1f77b4;\" x=\"172.804006\" xlink:href=\"#m4cf4f55db6\" y=\"91.102991\"/>\n     <use style=\"fill:#1f77b4;stroke:#1f77b4;\" x=\"233.257822\" xlink:href=\"#m4cf4f55db6\" y=\"130.995514\"/>\n     <use style=\"fill:#1f77b4;stroke:#1f77b4;\" x=\"297.867033\" xlink:href=\"#m4cf4f55db6\" y=\"188.488342\"/>\n     <use style=\"fill:#1f77b4;stroke:#1f77b4;\" x=\"155.496853\" xlink:href=\"#m4cf4f55db6\" y=\"81.479895\"/>\n     <use style=\"fill:#1f77b4;stroke:#1f77b4;\" x=\"198.436322\" xlink:href=\"#m4cf4f55db6\" y=\"122.764756\"/>\n     <use style=\"fill:#1f77b4;stroke:#1f77b4;\" x=\"194.005031\" xlink:href=\"#m4cf4f55db6\" y=\"78.280264\"/>\n     <use style=\"fill:#1f77b4;stroke:#1f77b4;\" x=\"149.609453\" xlink:href=\"#m4cf4f55db6\" y=\"100.782213\"/>\n     <use style=\"fill:#1f77b4;stroke:#1f77b4;\" x=\"174.015385\" xlink:href=\"#m4cf4f55db6\" y=\"117.224698\"/>\n     <use style=\"fill:#1f77b4;stroke:#1f77b4;\" x=\"261.328536\" xlink:href=\"#m4cf4f55db6\" y=\"146.96463\"/>\n     <use style=\"fill:#1f77b4;stroke:#1f77b4;\" x=\"254.621863\" xlink:href=\"#m4cf4f55db6\" y=\"165.33033\"/>\n     <use style=\"fill:#1f77b4;stroke:#1f77b4;\" x=\"200.49505\" xlink:href=\"#m4cf4f55db6\" y=\"96.553103\"/>\n     <use style=\"fill:#1f77b4;stroke:#1f77b4;\" x=\"171.746062\" xlink:href=\"#m4cf4f55db6\" y=\"97.887771\"/>\n     <use style=\"fill:#1f77b4;stroke:#1f77b4;\" x=\"278.618808\" xlink:href=\"#m4cf4f55db6\" y=\"162.691365\"/>\n     <use style=\"fill:#1f77b4;stroke:#1f77b4;\" x=\"106.28343\" xlink:href=\"#m4cf4f55db6\" y=\"62.752246\"/>\n     <use style=\"fill:#1f77b4;stroke:#1f77b4;\" x=\"189.624501\" xlink:href=\"#m4cf4f55db6\" y=\"89.867406\"/>\n     <use style=\"fill:#1f77b4;stroke:#1f77b4;\" x=\"160.603813\" xlink:href=\"#m4cf4f55db6\" y=\"98.535399\"/>\n     <use style=\"fill:#1f77b4;stroke:#1f77b4;\" x=\"128.511518\" xlink:href=\"#m4cf4f55db6\" y=\"80.52231\"/>\n     <use style=\"fill:#1f77b4;stroke:#1f77b4;\" x=\"242.356954\" xlink:href=\"#m4cf4f55db6\" y=\"154.548845\"/>\n     <use style=\"fill:#1f77b4;stroke:#1f77b4;\" x=\"124.902621\" xlink:href=\"#m4cf4f55db6\" y=\"53.592123\"/>\n     <use style=\"fill:#1f77b4;stroke:#1f77b4;\" x=\"300.515601\" xlink:href=\"#m4cf4f55db6\" y=\"144.712374\"/>\n     <use style=\"fill:#1f77b4;stroke:#1f77b4;\" x=\"136.303078\" xlink:href=\"#m4cf4f55db6\" y=\"83.842927\"/>\n     <use style=\"fill:#1f77b4;stroke:#1f77b4;\" x=\"144.504073\" xlink:href=\"#m4cf4f55db6\" y=\"97.302053\"/>\n     <use style=\"fill:#1f77b4;stroke:#1f77b4;\" x=\"116.746843\" xlink:href=\"#m4cf4f55db6\" y=\"65.124549\"/>\n     <use style=\"fill:#1f77b4;stroke:#1f77b4;\" x=\"196.661969\" xlink:href=\"#m4cf4f55db6\" y=\"98.021767\"/>\n     <use style=\"fill:#1f77b4;stroke:#1f77b4;\" x=\"179.049882\" xlink:href=\"#m4cf4f55db6\" y=\"92.504418\"/>\n     <use style=\"fill:#1f77b4;stroke:#1f77b4;\" x=\"132.929847\" xlink:href=\"#m4cf4f55db6\" y=\"77.628866\"/>\n     <use style=\"fill:#1f77b4;stroke:#1f77b4;\" x=\"218.329291\" xlink:href=\"#m4cf4f55db6\" y=\"99.658097\"/>\n     <use style=\"fill:#1f77b4;stroke:#1f77b4;\" x=\"197.509234\" xlink:href=\"#m4cf4f55db6\" y=\"95.143734\"/>\n     <use style=\"fill:#1f77b4;stroke:#1f77b4;\" x=\"214.318692\" xlink:href=\"#m4cf4f55db6\" y=\"123.300114\"/>\n     <use style=\"fill:#1f77b4;stroke:#1f77b4;\" x=\"210.330556\" xlink:href=\"#m4cf4f55db6\" y=\"97.905755\"/>\n     <use style=\"fill:#1f77b4;stroke:#1f77b4;\" x=\"225.680703\" xlink:href=\"#m4cf4f55db6\" y=\"148.316594\"/>\n     <use style=\"fill:#1f77b4;stroke:#1f77b4;\" x=\"199.806877\" xlink:href=\"#m4cf4f55db6\" y=\"102.785123\"/>\n     <use style=\"fill:#1f77b4;stroke:#1f77b4;\" x=\"211.991202\" xlink:href=\"#m4cf4f55db6\" y=\"88.03366\"/>\n     <use style=\"fill:#1f77b4;stroke:#1f77b4;\" x=\"188.247439\" xlink:href=\"#m4cf4f55db6\" y=\"135.030073\"/>\n     <use style=\"fill:#1f77b4;stroke:#1f77b4;\" x=\"136.457369\" xlink:href=\"#m4cf4f55db6\" y=\"52.316122\"/>\n     <use style=\"fill:#1f77b4;stroke:#1f77b4;\" x=\"225.804973\" xlink:href=\"#m4cf4f55db6\" y=\"136.958415\"/>\n     <use style=\"fill:#1f77b4;stroke:#1f77b4;\" x=\"186.334232\" xlink:href=\"#m4cf4f55db6\" y=\"91.045881\"/>\n     <use style=\"fill:#1f77b4;stroke:#1f77b4;\" x=\"257.905698\" xlink:href=\"#m4cf4f55db6\" y=\"162.729174\"/>\n     <use style=\"fill:#1f77b4;stroke:#1f77b4;\" x=\"210.516462\" xlink:href=\"#m4cf4f55db6\" y=\"101.243959\"/>\n     <use style=\"fill:#1f77b4;stroke:#1f77b4;\" x=\"206.720901\" xlink:href=\"#m4cf4f55db6\" y=\"103.827094\"/>\n     <use style=\"fill:#1f77b4;stroke:#1f77b4;\" x=\"125.608155\" xlink:href=\"#m4cf4f55db6\" y=\"70.616348\"/>\n     <use style=\"fill:#1f77b4;stroke:#1f77b4;\" x=\"203.584726\" xlink:href=\"#m4cf4f55db6\" y=\"88.030052\"/>\n     <use style=\"fill:#1f77b4;stroke:#1f77b4;\" x=\"228.253316\" xlink:href=\"#m4cf4f55db6\" y=\"121.12808\"/>\n     <use style=\"fill:#1f77b4;stroke:#1f77b4;\" x=\"236.385418\" xlink:href=\"#m4cf4f55db6\" y=\"157.09758\"/>\n     <use style=\"fill:#1f77b4;stroke:#1f77b4;\" x=\"184.070715\" xlink:href=\"#m4cf4f55db6\" y=\"114.739055\"/>\n     <use style=\"fill:#1f77b4;stroke:#1f77b4;\" x=\"253.587021\" xlink:href=\"#m4cf4f55db6\" y=\"130.600199\"/>\n     <use style=\"fill:#1f77b4;stroke:#1f77b4;\" x=\"155.700708\" xlink:href=\"#m4cf4f55db6\" y=\"113.522574\"/>\n     <use style=\"fill:#1f77b4;stroke:#1f77b4;\" x=\"127.597631\" xlink:href=\"#m4cf4f55db6\" y=\"88.895699\"/>\n     <use style=\"fill:#1f77b4;stroke:#1f77b4;\" x=\"208.568781\" xlink:href=\"#m4cf4f55db6\" y=\"91.326915\"/>\n     <use style=\"fill:#1f77b4;stroke:#1f77b4;\" x=\"107.193539\" xlink:href=\"#m4cf4f55db6\" y=\"64.572569\"/>\n     <use style=\"fill:#1f77b4;stroke:#1f77b4;\" x=\"217.710403\" xlink:href=\"#m4cf4f55db6\" y=\"106.766489\"/>\n     <use style=\"fill:#1f77b4;stroke:#1f77b4;\" x=\"108.681874\" xlink:href=\"#m4cf4f55db6\" y=\"75.600376\"/>\n     <use style=\"fill:#1f77b4;stroke:#1f77b4;\" x=\"169.145664\" xlink:href=\"#m4cf4f55db6\" y=\"73.465318\"/>\n     <use style=\"fill:#1f77b4;stroke:#1f77b4;\" x=\"133.144414\" xlink:href=\"#m4cf4f55db6\" y=\"81.692377\"/>\n     <use style=\"fill:#1f77b4;stroke:#1f77b4;\" x=\"219.044846\" xlink:href=\"#m4cf4f55db6\" y=\"138.358101\"/>\n     <use style=\"fill:#1f77b4;stroke:#1f77b4;\" x=\"247.583673\" xlink:href=\"#m4cf4f55db6\" y=\"153.803415\"/>\n     <use style=\"fill:#1f77b4;stroke:#1f77b4;\" x=\"229.980027\" xlink:href=\"#m4cf4f55db6\" y=\"108.994504\"/>\n     <use style=\"fill:#1f77b4;stroke:#1f77b4;\" x=\"234.11921\" xlink:href=\"#m4cf4f55db6\" y=\"114.759701\"/>\n     <use style=\"fill:#1f77b4;stroke:#1f77b4;\" x=\"264.821936\" xlink:href=\"#m4cf4f55db6\" y=\"169.583638\"/>\n     <use style=\"fill:#1f77b4;stroke:#1f77b4;\" x=\"255.950503\" xlink:href=\"#m4cf4f55db6\" y=\"125.345727\"/>\n     <use style=\"fill:#1f77b4;stroke:#1f77b4;\" x=\"156.366383\" xlink:href=\"#m4cf4f55db6\" y=\"117.590135\"/>\n     <use style=\"fill:#1f77b4;stroke:#1f77b4;\" x=\"200.349059\" xlink:href=\"#m4cf4f55db6\" y=\"93.265952\"/>\n     <use style=\"fill:#1f77b4;stroke:#1f77b4;\" x=\"280.80395\" xlink:href=\"#m4cf4f55db6\" y=\"151.584157\"/>\n     <use style=\"fill:#1f77b4;stroke:#1f77b4;\" x=\"284.284558\" xlink:href=\"#m4cf4f55db6\" y=\"152.590186\"/>\n     <use style=\"fill:#1f77b4;stroke:#1f77b4;\" x=\"152.034324\" xlink:href=\"#m4cf4f55db6\" y=\"120.709635\"/>\n     <use style=\"fill:#1f77b4;stroke:#1f77b4;\" x=\"106.648294\" xlink:href=\"#m4cf4f55db6\" y=\"67.644249\"/>\n     <use style=\"fill:#1f77b4;stroke:#1f77b4;\" x=\"202.902005\" xlink:href=\"#m4cf4f55db6\" y=\"128.940305\"/>\n     <use style=\"fill:#1f77b4;stroke:#1f77b4;\" x=\"159.472405\" xlink:href=\"#m4cf4f55db6\" y=\"91.848256\"/>\n     <use style=\"fill:#1f77b4;stroke:#1f77b4;\" x=\"242.748698\" xlink:href=\"#m4cf4f55db6\" y=\"151.199651\"/>\n     <use style=\"fill:#1f77b4;stroke:#1f77b4;\" x=\"190.802837\" xlink:href=\"#m4cf4f55db6\" y=\"113.57549\"/>\n     <use style=\"fill:#1f77b4;stroke:#1f77b4;\" x=\"163.525251\" xlink:href=\"#m4cf4f55db6\" y=\"103.943047\"/>\n     <use style=\"fill:#1f77b4;stroke:#1f77b4;\" x=\"254.570023\" xlink:href=\"#m4cf4f55db6\" y=\"160.375913\"/>\n     <use style=\"fill:#1f77b4;stroke:#1f77b4;\" x=\"270.566962\" xlink:href=\"#m4cf4f55db6\" y=\"134.033012\"/>\n     <use style=\"fill:#1f77b4;stroke:#1f77b4;\" x=\"253.180204\" xlink:href=\"#m4cf4f55db6\" y=\"153.270392\"/>\n     <use style=\"fill:#1f77b4;stroke:#1f77b4;\" x=\"209.651176\" xlink:href=\"#m4cf4f55db6\" y=\"110.413559\"/>\n     <use style=\"fill:#1f77b4;stroke:#1f77b4;\" x=\"266.427663\" xlink:href=\"#m4cf4f55db6\" y=\"162.402794\"/>\n     <use style=\"fill:#1f77b4;stroke:#1f77b4;\" x=\"135.989593\" xlink:href=\"#m4cf4f55db6\" y=\"60.332701\"/>\n     <use style=\"fill:#1f77b4;stroke:#1f77b4;\" x=\"209.646774\" xlink:href=\"#m4cf4f55db6\" y=\"94.612873\"/>\n     <use style=\"fill:#1f77b4;stroke:#1f77b4;\" x=\"111.680149\" xlink:href=\"#m4cf4f55db6\" y=\"102.904812\"/>\n     <use style=\"fill:#1f77b4;stroke:#1f77b4;\" x=\"156.598569\" xlink:href=\"#m4cf4f55db6\" y=\"84.601759\"/>\n     <use style=\"fill:#1f77b4;stroke:#1f77b4;\" x=\"289.792945\" xlink:href=\"#m4cf4f55db6\" y=\"143.093565\"/>\n     <use style=\"fill:#1f77b4;stroke:#1f77b4;\" x=\"184.476366\" xlink:href=\"#m4cf4f55db6\" y=\"69.229964\"/>\n     <use style=\"fill:#1f77b4;stroke:#1f77b4;\" x=\"185.939321\" xlink:href=\"#m4cf4f55db6\" y=\"105.888582\"/>\n     <use style=\"fill:#1f77b4;stroke:#1f77b4;\" x=\"218.43277\" xlink:href=\"#m4cf4f55db6\" y=\"126.40986\"/>\n     <use style=\"fill:#1f77b4;stroke:#1f77b4;\" x=\"185.926303\" xlink:href=\"#m4cf4f55db6\" y=\"104.647295\"/>\n     <use style=\"fill:#1f77b4;stroke:#1f77b4;\" x=\"182.133562\" xlink:href=\"#m4cf4f55db6\" y=\"87.608465\"/>\n     <use style=\"fill:#1f77b4;stroke:#1f77b4;\" x=\"264.518718\" xlink:href=\"#m4cf4f55db6\" y=\"160.425708\"/>\n     <use style=\"fill:#1f77b4;stroke:#1f77b4;\" x=\"233.173555\" xlink:href=\"#m4cf4f55db6\" y=\"146.70246\"/>\n     <use style=\"fill:#1f77b4;stroke:#1f77b4;\" x=\"211.716539\" xlink:href=\"#m4cf4f55db6\" y=\"130.064971\"/>\n     <use style=\"fill:#1f77b4;stroke:#1f77b4;\" x=\"97.78275\" xlink:href=\"#m4cf4f55db6\" y=\"27.496222\"/>\n     <use style=\"fill:#1f77b4;stroke:#1f77b4;\" x=\"171.719023\" xlink:href=\"#m4cf4f55db6\" y=\"107.542448\"/>\n     <use style=\"fill:#1f77b4;stroke:#1f77b4;\" x=\"214.601616\" xlink:href=\"#m4cf4f55db6\" y=\"126.16355\"/>\n     <use style=\"fill:#1f77b4;stroke:#1f77b4;\" x=\"142.051603\" xlink:href=\"#m4cf4f55db6\" y=\"60.399626\"/>\n     <use style=\"fill:#1f77b4;stroke:#1f77b4;\" x=\"191.053629\" xlink:href=\"#m4cf4f55db6\" y=\"119.769426\"/>\n     <use style=\"fill:#1f77b4;stroke:#1f77b4;\" x=\"217.537235\" xlink:href=\"#m4cf4f55db6\" y=\"137.831549\"/>\n     <use style=\"fill:#1f77b4;stroke:#1f77b4;\" x=\"131.313048\" xlink:href=\"#m4cf4f55db6\" y=\"76.287059\"/>\n     <use style=\"fill:#1f77b4;stroke:#1f77b4;\" x=\"188.590697\" xlink:href=\"#m4cf4f55db6\" y=\"119.928189\"/>\n     <use style=\"fill:#1f77b4;stroke:#1f77b4;\" x=\"209.376073\" xlink:href=\"#m4cf4f55db6\" y=\"117.62011\"/>\n     <use style=\"fill:#1f77b4;stroke:#1f77b4;\" x=\"244.454089\" xlink:href=\"#m4cf4f55db6\" y=\"161.194279\"/>\n     <use style=\"fill:#1f77b4;stroke:#1f77b4;\" x=\"201.096844\" xlink:href=\"#m4cf4f55db6\" y=\"111.602667\"/>\n     <use style=\"fill:#1f77b4;stroke:#1f77b4;\" x=\"245.702744\" xlink:href=\"#m4cf4f55db6\" y=\"163.807936\"/>\n     <use style=\"fill:#1f77b4;stroke:#1f77b4;\" x=\"228.764432\" xlink:href=\"#m4cf4f55db6\" y=\"130.510229\"/>\n     <use style=\"fill:#1f77b4;stroke:#1f77b4;\" x=\"96.66894\" xlink:href=\"#m4cf4f55db6\" y=\"64.431578\"/>\n     <use style=\"fill:#1f77b4;stroke:#1f77b4;\" x=\"191.549333\" xlink:href=\"#m4cf4f55db6\" y=\"103.5376\"/>\n     <use style=\"fill:#1f77b4;stroke:#1f77b4;\" x=\"306.51158\" xlink:href=\"#m4cf4f55db6\" y=\"173.294432\"/>\n     <use style=\"fill:#1f77b4;stroke:#1f77b4;\" x=\"181.94936\" xlink:href=\"#m4cf4f55db6\" y=\"96.48599\"/>\n     <use style=\"fill:#1f77b4;stroke:#1f77b4;\" x=\"166.326851\" xlink:href=\"#m4cf4f55db6\" y=\"107.018301\"/>\n     <use style=\"fill:#1f77b4;stroke:#1f77b4;\" x=\"192.320437\" xlink:href=\"#m4cf4f55db6\" y=\"120.130756\"/>\n     <use style=\"fill:#1f77b4;stroke:#1f77b4;\" x=\"239.338397\" xlink:href=\"#m4cf4f55db6\" y=\"152.901206\"/>\n     <use style=\"fill:#1f77b4;stroke:#1f77b4;\" x=\"139.816352\" xlink:href=\"#m4cf4f55db6\" y=\"74.760633\"/>\n     <use style=\"fill:#1f77b4;stroke:#1f77b4;\" x=\"218.069548\" xlink:href=\"#m4cf4f55db6\" y=\"141.462099\"/>\n     <use style=\"fill:#1f77b4;stroke:#1f77b4;\" x=\"134.418304\" xlink:href=\"#m4cf4f55db6\" y=\"83.028742\"/>\n     <use style=\"fill:#1f77b4;stroke:#1f77b4;\" x=\"209.956012\" xlink:href=\"#m4cf4f55db6\" y=\"122.027944\"/>\n     <use style=\"fill:#1f77b4;stroke:#1f77b4;\" x=\"221.71322\" xlink:href=\"#m4cf4f55db6\" y=\"118.953801\"/>\n     <use style=\"fill:#1f77b4;stroke:#1f77b4;\" x=\"209.86188\" xlink:href=\"#m4cf4f55db6\" y=\"111.695735\"/>\n     <use style=\"fill:#1f77b4;stroke:#1f77b4;\" x=\"236.191981\" xlink:href=\"#m4cf4f55db6\" y=\"113.014693\"/>\n     <use style=\"fill:#1f77b4;stroke:#1f77b4;\" x=\"162.616051\" xlink:href=\"#m4cf4f55db6\" y=\"88.787209\"/>\n     <use style=\"fill:#1f77b4;stroke:#1f77b4;\" x=\"94.971093\" xlink:href=\"#m4cf4f55db6\" y=\"91.790182\"/>\n     <use style=\"fill:#1f77b4;stroke:#1f77b4;\" x=\"160.633263\" xlink:href=\"#m4cf4f55db6\" y=\"112.585445\"/>\n     <use style=\"fill:#1f77b4;stroke:#1f77b4;\" x=\"252.683983\" xlink:href=\"#m4cf4f55db6\" y=\"137.292671\"/>\n     <use style=\"fill:#1f77b4;stroke:#1f77b4;\" x=\"131.26533\" xlink:href=\"#m4cf4f55db6\" y=\"69.251369\"/>\n     <use style=\"fill:#1f77b4;stroke:#1f77b4;\" x=\"210.601687\" xlink:href=\"#m4cf4f55db6\" y=\"108.508091\"/>\n     <use style=\"fill:#1f77b4;stroke:#1f77b4;\" x=\"181.289778\" xlink:href=\"#m4cf4f55db6\" y=\"114.938179\"/>\n     <use style=\"fill:#1f77b4;stroke:#1f77b4;\" x=\"246.13844\" xlink:href=\"#m4cf4f55db6\" y=\"136.449348\"/>\n     <use style=\"fill:#1f77b4;stroke:#1f77b4;\" x=\"202.920766\" xlink:href=\"#m4cf4f55db6\" y=\"113.428332\"/>\n     <use style=\"fill:#1f77b4;stroke:#1f77b4;\" x=\"257.885724\" xlink:href=\"#m4cf4f55db6\" y=\"127.688142\"/>\n     <use style=\"fill:#1f77b4;stroke:#1f77b4;\" x=\"225.315457\" xlink:href=\"#m4cf4f55db6\" y=\"121.133696\"/>\n     <use style=\"fill:#1f77b4;stroke:#1f77b4;\" x=\"213.855977\" xlink:href=\"#m4cf4f55db6\" y=\"135.034832\"/>\n     <use style=\"fill:#1f77b4;stroke:#1f77b4;\" x=\"197.855018\" xlink:href=\"#m4cf4f55db6\" y=\"104.346366\"/>\n     <use style=\"fill:#1f77b4;stroke:#1f77b4;\" x=\"238.584003\" xlink:href=\"#m4cf4f55db6\" y=\"160.276847\"/>\n     <use style=\"fill:#1f77b4;stroke:#1f77b4;\" x=\"181.501733\" xlink:href=\"#m4cf4f55db6\" y=\"93.343351\"/>\n     <use style=\"fill:#1f77b4;stroke:#1f77b4;\" x=\"222.201853\" xlink:href=\"#m4cf4f55db6\" y=\"139.15964\"/>\n     <use style=\"fill:#1f77b4;stroke:#1f77b4;\" x=\"149.765525\" xlink:href=\"#m4cf4f55db6\" y=\"122.59134\"/>\n     <use style=\"fill:#1f77b4;stroke:#1f77b4;\" x=\"146.828552\" xlink:href=\"#m4cf4f55db6\" y=\"88.5484\"/>\n     <use style=\"fill:#1f77b4;stroke:#1f77b4;\" x=\"255.420288\" xlink:href=\"#m4cf4f55db6\" y=\"143.227534\"/>\n     <use style=\"fill:#1f77b4;stroke:#1f77b4;\" x=\"175.438601\" xlink:href=\"#m4cf4f55db6\" y=\"82.931208\"/>\n     <use style=\"fill:#1f77b4;stroke:#1f77b4;\" x=\"229.427518\" xlink:href=\"#m4cf4f55db6\" y=\"135.22208\"/>\n     <use style=\"fill:#1f77b4;stroke:#1f77b4;\" x=\"177.766335\" xlink:href=\"#m4cf4f55db6\" y=\"106.346882\"/>\n     <use style=\"fill:#1f77b4;stroke:#1f77b4;\" x=\"227.910806\" xlink:href=\"#m4cf4f55db6\" y=\"145.295626\"/>\n     <use style=\"fill:#1f77b4;stroke:#1f77b4;\" x=\"320.329213\" xlink:href=\"#m4cf4f55db6\" y=\"175.134886\"/>\n     <use style=\"fill:#1f77b4;stroke:#1f77b4;\" x=\"193.745308\" xlink:href=\"#m4cf4f55db6\" y=\"138.12273\"/>\n     <use style=\"fill:#1f77b4;stroke:#1f77b4;\" x=\"171.763482\" xlink:href=\"#m4cf4f55db6\" y=\"96.396199\"/>\n     <use style=\"fill:#1f77b4;stroke:#1f77b4;\" x=\"188.3404\" xlink:href=\"#m4cf4f55db6\" y=\"130.616477\"/>\n     <use style=\"fill:#1f77b4;stroke:#1f77b4;\" x=\"157.900562\" xlink:href=\"#m4cf4f55db6\" y=\"116.584201\"/>\n     <use style=\"fill:#1f77b4;stroke:#1f77b4;\" x=\"219.766136\" xlink:href=\"#m4cf4f55db6\" y=\"103.903377\"/>\n     <use style=\"fill:#1f77b4;stroke:#1f77b4;\" x=\"245.107215\" xlink:href=\"#m4cf4f55db6\" y=\"131.981416\"/>\n     <use style=\"fill:#1f77b4;stroke:#1f77b4;\" x=\"159.079886\" xlink:href=\"#m4cf4f55db6\" y=\"97.037484\"/>\n     <use style=\"fill:#1f77b4;stroke:#1f77b4;\" x=\"168.234949\" xlink:href=\"#m4cf4f55db6\" y=\"134.556957\"/>\n     <use style=\"fill:#1f77b4;stroke:#1f77b4;\" x=\"156.495523\" xlink:href=\"#m4cf4f55db6\" y=\"81.658911\"/>\n     <use style=\"fill:#1f77b4;stroke:#1f77b4;\" x=\"259.654668\" xlink:href=\"#m4cf4f55db6\" y=\"148.659929\"/>\n     <use style=\"fill:#1f77b4;stroke:#1f77b4;\" x=\"91.892142\" xlink:href=\"#m4cf4f55db6\" y=\"72.824508\"/>\n     <use style=\"fill:#1f77b4;stroke:#1f77b4;\" x=\"186.554356\" xlink:href=\"#m4cf4f55db6\" y=\"87.758536\"/>\n     <use style=\"fill:#1f77b4;stroke:#1f77b4;\" x=\"229.882658\" xlink:href=\"#m4cf4f55db6\" y=\"134.459318\"/>\n     <use style=\"fill:#1f77b4;stroke:#1f77b4;\" x=\"215.414227\" xlink:href=\"#m4cf4f55db6\" y=\"139.509902\"/>\n     <use style=\"fill:#1f77b4;stroke:#1f77b4;\" x=\"149.970152\" xlink:href=\"#m4cf4f55db6\" y=\"83.345215\"/>\n     <use style=\"fill:#1f77b4;stroke:#1f77b4;\" x=\"170.893446\" xlink:href=\"#m4cf4f55db6\" y=\"113.199611\"/>\n     <use style=\"fill:#1f77b4;stroke:#1f77b4;\" x=\"126.444224\" xlink:href=\"#m4cf4f55db6\" y=\"85.527935\"/>\n     <use style=\"fill:#1f77b4;stroke:#1f77b4;\" x=\"109.161304\" xlink:href=\"#m4cf4f55db6\" y=\"59.319281\"/>\n     <use style=\"fill:#1f77b4;stroke:#1f77b4;\" x=\"241.345283\" xlink:href=\"#m4cf4f55db6\" y=\"166.46413\"/>\n     <use style=\"fill:#1f77b4;stroke:#1f77b4;\" x=\"168.823163\" xlink:href=\"#m4cf4f55db6\" y=\"87.020325\"/>\n     <use style=\"fill:#1f77b4;stroke:#1f77b4;\" x=\"262.383271\" xlink:href=\"#m4cf4f55db6\" y=\"151.068285\"/>\n     <use style=\"fill:#1f77b4;stroke:#1f77b4;\" x=\"261.344161\" xlink:href=\"#m4cf4f55db6\" y=\"162.505907\"/>\n     <use style=\"fill:#1f77b4;stroke:#1f77b4;\" x=\"119.173808\" xlink:href=\"#m4cf4f55db6\" y=\"100.749815\"/>\n     <use style=\"fill:#1f77b4;stroke:#1f77b4;\" x=\"176.060209\" xlink:href=\"#m4cf4f55db6\" y=\"127.235784\"/>\n     <use style=\"fill:#1f77b4;stroke:#1f77b4;\" x=\"233.514137\" xlink:href=\"#m4cf4f55db6\" y=\"109.768103\"/>\n     <use style=\"fill:#1f77b4;stroke:#1f77b4;\" x=\"120.900781\" xlink:href=\"#m4cf4f55db6\" y=\"65.265261\"/>\n     <use style=\"fill:#1f77b4;stroke:#1f77b4;\" x=\"184.559359\" xlink:href=\"#m4cf4f55db6\" y=\"96.036846\"/>\n     <use style=\"fill:#1f77b4;stroke:#1f77b4;\" x=\"232.645459\" xlink:href=\"#m4cf4f55db6\" y=\"139.544522\"/>\n     <use style=\"fill:#1f77b4;stroke:#1f77b4;\" x=\"253.645665\" xlink:href=\"#m4cf4f55db6\" y=\"127.106868\"/>\n     <use style=\"fill:#1f77b4;stroke:#1f77b4;\" x=\"190.864958\" xlink:href=\"#m4cf4f55db6\" y=\"102.428557\"/>\n     <use style=\"fill:#1f77b4;stroke:#1f77b4;\" x=\"214.145843\" xlink:href=\"#m4cf4f55db6\" y=\"109.254026\"/>\n     <use style=\"fill:#1f77b4;stroke:#1f77b4;\" x=\"172.955455\" xlink:href=\"#m4cf4f55db6\" y=\"95.098925\"/>\n     <use style=\"fill:#1f77b4;stroke:#1f77b4;\" x=\"81.088199\" xlink:href=\"#m4cf4f55db6\" y=\"65.086532\"/>\n     <use style=\"fill:#1f77b4;stroke:#1f77b4;\" x=\"143.136863\" xlink:href=\"#m4cf4f55db6\" y=\"74.276212\"/>\n     <use style=\"fill:#1f77b4;stroke:#1f77b4;\" x=\"179.981249\" xlink:href=\"#m4cf4f55db6\" y=\"93.556955\"/>\n     <use style=\"fill:#1f77b4;stroke:#1f77b4;\" x=\"205.142617\" xlink:href=\"#m4cf4f55db6\" y=\"110.528433\"/>\n     <use style=\"fill:#1f77b4;stroke:#1f77b4;\" x=\"354.813469\" xlink:href=\"#m4cf4f55db6\" y=\"198.971893\"/>\n     <use style=\"fill:#1f77b4;stroke:#1f77b4;\" x=\"69.569345\" xlink:href=\"#m4cf4f55db6\" y=\"36.426398\"/>\n     <use style=\"fill:#1f77b4;stroke:#1f77b4;\" x=\"251.043999\" xlink:href=\"#m4cf4f55db6\" y=\"127.596105\"/>\n     <use style=\"fill:#1f77b4;stroke:#1f77b4;\" x=\"209.370609\" xlink:href=\"#m4cf4f55db6\" y=\"123.951063\"/>\n     <use style=\"fill:#1f77b4;stroke:#1f77b4;\" x=\"242.740967\" xlink:href=\"#m4cf4f55db6\" y=\"145.895553\"/>\n     <use style=\"fill:#1f77b4;stroke:#1f77b4;\" x=\"270.158967\" xlink:href=\"#m4cf4f55db6\" y=\"149.089062\"/>\n     <use style=\"fill:#1f77b4;stroke:#1f77b4;\" x=\"275.010873\" xlink:href=\"#m4cf4f55db6\" y=\"161.081638\"/>\n     <use style=\"fill:#1f77b4;stroke:#1f77b4;\" x=\"192.511769\" xlink:href=\"#m4cf4f55db6\" y=\"98.267914\"/>\n     <use style=\"fill:#1f77b4;stroke:#1f77b4;\" x=\"191.009133\" xlink:href=\"#m4cf4f55db6\" y=\"132.052259\"/>\n     <use style=\"fill:#1f77b4;stroke:#1f77b4;\" x=\"244.698156\" xlink:href=\"#m4cf4f55db6\" y=\"118.081877\"/>\n     <use style=\"fill:#1f77b4;stroke:#1f77b4;\" x=\"225.79466\" xlink:href=\"#m4cf4f55db6\" y=\"149.354527\"/>\n     <use style=\"fill:#1f77b4;stroke:#1f77b4;\" x=\"189.359703\" xlink:href=\"#m4cf4f55db6\" y=\"117.677594\"/>\n     <use style=\"fill:#1f77b4;stroke:#1f77b4;\" x=\"222.594232\" xlink:href=\"#m4cf4f55db6\" y=\"132.273077\"/>\n     <use style=\"fill:#1f77b4;stroke:#1f77b4;\" x=\"217.199388\" xlink:href=\"#m4cf4f55db6\" y=\"106.798825\"/>\n     <use style=\"fill:#1f77b4;stroke:#1f77b4;\" x=\"161.620792\" xlink:href=\"#m4cf4f55db6\" y=\"90.955659\"/>\n     <use style=\"fill:#1f77b4;stroke:#1f77b4;\" x=\"242.184733\" xlink:href=\"#m4cf4f55db6\" y=\"141.350547\"/>\n     <use style=\"fill:#1f77b4;stroke:#1f77b4;\" x=\"212.768903\" xlink:href=\"#m4cf4f55db6\" y=\"113.391792\"/>\n     <use style=\"fill:#1f77b4;stroke:#1f77b4;\" x=\"206.851393\" xlink:href=\"#m4cf4f55db6\" y=\"144.577458\"/>\n     <use style=\"fill:#1f77b4;stroke:#1f77b4;\" x=\"208.179494\" xlink:href=\"#m4cf4f55db6\" y=\"142.453414\"/>\n     <use style=\"fill:#1f77b4;stroke:#1f77b4;\" x=\"198.830342\" xlink:href=\"#m4cf4f55db6\" y=\"112.630909\"/>\n     <use style=\"fill:#1f77b4;stroke:#1f77b4;\" x=\"149.738191\" xlink:href=\"#m4cf4f55db6\" y=\"98.285659\"/>\n     <use style=\"fill:#1f77b4;stroke:#1f77b4;\" x=\"183.631146\" xlink:href=\"#m4cf4f55db6\" y=\"103.988139\"/>\n     <use style=\"fill:#1f77b4;stroke:#1f77b4;\" x=\"90.531386\" xlink:href=\"#m4cf4f55db6\" y=\"51.978634\"/>\n     <use style=\"fill:#1f77b4;stroke:#1f77b4;\" x=\"194.559519\" xlink:href=\"#m4cf4f55db6\" y=\"107.38836\"/>\n     <use style=\"fill:#1f77b4;stroke:#1f77b4;\" x=\"253.285773\" xlink:href=\"#m4cf4f55db6\" y=\"137.701425\"/>\n     <use style=\"fill:#1f77b4;stroke:#1f77b4;\" x=\"213.420706\" xlink:href=\"#m4cf4f55db6\" y=\"135.024276\"/>\n     <use style=\"fill:#1f77b4;stroke:#1f77b4;\" x=\"75.877509\" xlink:href=\"#m4cf4f55db6\" y=\"64.780611\"/>\n     <use style=\"fill:#1f77b4;stroke:#1f77b4;\" x=\"220.671255\" xlink:href=\"#m4cf4f55db6\" y=\"125.010294\"/>\n     <use style=\"fill:#1f77b4;stroke:#1f77b4;\" x=\"168.534459\" xlink:href=\"#m4cf4f55db6\" y=\"104.275796\"/>\n     <use style=\"fill:#1f77b4;stroke:#1f77b4;\" x=\"103.601094\" xlink:href=\"#m4cf4f55db6\" y=\"57.055403\"/>\n     <use style=\"fill:#1f77b4;stroke:#1f77b4;\" x=\"237.21995\" xlink:href=\"#m4cf4f55db6\" y=\"150.196712\"/>\n     <use style=\"fill:#1f77b4;stroke:#1f77b4;\" x=\"172.931781\" xlink:href=\"#m4cf4f55db6\" y=\"99.344765\"/>\n     <use style=\"fill:#1f77b4;stroke:#1f77b4;\" x=\"210.841579\" xlink:href=\"#m4cf4f55db6\" y=\"111.272752\"/>\n     <use style=\"fill:#1f77b4;stroke:#1f77b4;\" x=\"217.247029\" xlink:href=\"#m4cf4f55db6\" y=\"118.213122\"/>\n     <use style=\"fill:#1f77b4;stroke:#1f77b4;\" x=\"140.333998\" xlink:href=\"#m4cf4f55db6\" y=\"107.775484\"/>\n     <use style=\"fill:#1f77b4;stroke:#1f77b4;\" x=\"185.481811\" xlink:href=\"#m4cf4f55db6\" y=\"119.135372\"/>\n     <use style=\"fill:#1f77b4;stroke:#1f77b4;\" x=\"203.652755\" xlink:href=\"#m4cf4f55db6\" y=\"122.182198\"/>\n     <use style=\"fill:#1f77b4;stroke:#1f77b4;\" x=\"102.992512\" xlink:href=\"#m4cf4f55db6\" y=\"52.8108\"/>\n     <use style=\"fill:#1f77b4;stroke:#1f77b4;\" x=\"223.493212\" xlink:href=\"#m4cf4f55db6\" y=\"150.786279\"/>\n     <use style=\"fill:#1f77b4;stroke:#1f77b4;\" x=\"277.740636\" xlink:href=\"#m4cf4f55db6\" y=\"154.746234\"/>\n     <use style=\"fill:#1f77b4;stroke:#1f77b4;\" x=\"107.794933\" xlink:href=\"#m4cf4f55db6\" y=\"78.345598\"/>\n     <use style=\"fill:#1f77b4;stroke:#1f77b4;\" x=\"104.923618\" xlink:href=\"#m4cf4f55db6\" y=\"22.56141\"/>\n     <use style=\"fill:#1f77b4;stroke:#1f77b4;\" x=\"135.760393\" xlink:href=\"#m4cf4f55db6\" y=\"84.195701\"/>\n     <use style=\"fill:#1f77b4;stroke:#1f77b4;\" x=\"221.019021\" xlink:href=\"#m4cf4f55db6\" y=\"110.953279\"/>\n     <use style=\"fill:#1f77b4;stroke:#1f77b4;\" x=\"144.732755\" xlink:href=\"#m4cf4f55db6\" y=\"79.117982\"/>\n     <use style=\"fill:#1f77b4;stroke:#1f77b4;\" x=\"173.253824\" xlink:href=\"#m4cf4f55db6\" y=\"112.208976\"/>\n     <use style=\"fill:#1f77b4;stroke:#1f77b4;\" x=\"176.975211\" xlink:href=\"#m4cf4f55db6\" y=\"104.929278\"/>\n     <use style=\"fill:#1f77b4;stroke:#1f77b4;\" x=\"149.754643\" xlink:href=\"#m4cf4f55db6\" y=\"75.305713\"/>\n     <use style=\"fill:#1f77b4;stroke:#1f77b4;\" x=\"245.295069\" xlink:href=\"#m4cf4f55db6\" y=\"164.085991\"/>\n     <use style=\"fill:#1f77b4;stroke:#1f77b4;\" x=\"242.538118\" xlink:href=\"#m4cf4f55db6\" y=\"124.771675\"/>\n     <use style=\"fill:#1f77b4;stroke:#1f77b4;\" x=\"238.045644\" xlink:href=\"#m4cf4f55db6\" y=\"132.542089\"/>\n     <use style=\"fill:#1f77b4;stroke:#1f77b4;\" x=\"117.190337\" xlink:href=\"#m4cf4f55db6\" y=\"54.901944\"/>\n     <use style=\"fill:#1f77b4;stroke:#1f77b4;\" x=\"261.14228\" xlink:href=\"#m4cf4f55db6\" y=\"171.297737\"/>\n     <use style=\"fill:#1f77b4;stroke:#1f77b4;\" x=\"198.506738\" xlink:href=\"#m4cf4f55db6\" y=\"113.119388\"/>\n     <use style=\"fill:#1f77b4;stroke:#1f77b4;\" x=\"258.510368\" xlink:href=\"#m4cf4f55db6\" y=\"125.676606\"/>\n     <use style=\"fill:#1f77b4;stroke:#1f77b4;\" x=\"221.471571\" xlink:href=\"#m4cf4f55db6\" y=\"99.595292\"/>\n     <use style=\"fill:#1f77b4;stroke:#1f77b4;\" x=\"270.809601\" xlink:href=\"#m4cf4f55db6\" y=\"180.793492\"/>\n     <use style=\"fill:#1f77b4;stroke:#1f77b4;\" x=\"227.288719\" xlink:href=\"#m4cf4f55db6\" y=\"134.084379\"/>\n     <use style=\"fill:#1f77b4;stroke:#1f77b4;\" x=\"92.054846\" xlink:href=\"#m4cf4f55db6\" y=\"41.315537\"/>\n     <use style=\"fill:#1f77b4;stroke:#1f77b4;\" x=\"172.69723\" xlink:href=\"#m4cf4f55db6\" y=\"86.13726\"/>\n     <use style=\"fill:#1f77b4;stroke:#1f77b4;\" x=\"240.552074\" xlink:href=\"#m4cf4f55db6\" y=\"144.073278\"/>\n     <use style=\"fill:#1f77b4;stroke:#1f77b4;\" x=\"164.35723\" xlink:href=\"#m4cf4f55db6\" y=\"103.228568\"/>\n     <use style=\"fill:#1f77b4;stroke:#1f77b4;\" x=\"330.863706\" xlink:href=\"#m4cf4f55db6\" y=\"189.789551\"/>\n     <use style=\"fill:#1f77b4;stroke:#1f77b4;\" x=\"190.792969\" xlink:href=\"#m4cf4f55db6\" y=\"101.059609\"/>\n     <use style=\"fill:#1f77b4;stroke:#1f77b4;\" x=\"147.176253\" xlink:href=\"#m4cf4f55db6\" y=\"61.492555\"/>\n     <use style=\"fill:#1f77b4;stroke:#1f77b4;\" x=\"260.433054\" xlink:href=\"#m4cf4f55db6\" y=\"162.167692\"/>\n     <use style=\"fill:#1f77b4;stroke:#1f77b4;\" x=\"185.056662\" xlink:href=\"#m4cf4f55db6\" y=\"71.115621\"/>\n     <use style=\"fill:#1f77b4;stroke:#1f77b4;\" x=\"227.988564\" xlink:href=\"#m4cf4f55db6\" y=\"127.456146\"/>\n     <use style=\"fill:#1f77b4;stroke:#1f77b4;\" x=\"198.708298\" xlink:href=\"#m4cf4f55db6\" y=\"105.956431\"/>\n     <use style=\"fill:#1f77b4;stroke:#1f77b4;\" x=\"157.194188\" xlink:href=\"#m4cf4f55db6\" y=\"88.418026\"/>\n     <use style=\"fill:#1f77b4;stroke:#1f77b4;\" x=\"206.910242\" xlink:href=\"#m4cf4f55db6\" y=\"113.202593\"/>\n     <use style=\"fill:#1f77b4;stroke:#1f77b4;\" x=\"245.53191\" xlink:href=\"#m4cf4f55db6\" y=\"144.047865\"/>\n     <use style=\"fill:#1f77b4;stroke:#1f77b4;\" x=\"186.128059\" xlink:href=\"#m4cf4f55db6\" y=\"103.95721\"/>\n     <use style=\"fill:#1f77b4;stroke:#1f77b4;\" x=\"181.383527\" xlink:href=\"#m4cf4f55db6\" y=\"132.281201\"/>\n     <use style=\"fill:#1f77b4;stroke:#1f77b4;\" x=\"167.713047\" xlink:href=\"#m4cf4f55db6\" y=\"98.492791\"/>\n     <use style=\"fill:#1f77b4;stroke:#1f77b4;\" x=\"186.111597\" xlink:href=\"#m4cf4f55db6\" y=\"108.158454\"/>\n     <use style=\"fill:#1f77b4;stroke:#1f77b4;\" x=\"170.39294\" xlink:href=\"#m4cf4f55db6\" y=\"97.805586\"/>\n     <use style=\"fill:#1f77b4;stroke:#1f77b4;\" x=\"179.214917\" xlink:href=\"#m4cf4f55db6\" y=\"122.427758\"/>\n     <use style=\"fill:#1f77b4;stroke:#1f77b4;\" x=\"178.789498\" xlink:href=\"#m4cf4f55db6\" y=\"99.699943\"/>\n     <use style=\"fill:#1f77b4;stroke:#1f77b4;\" x=\"252.655603\" xlink:href=\"#m4cf4f55db6\" y=\"136.182913\"/>\n     <use style=\"fill:#1f77b4;stroke:#1f77b4;\" x=\"220.939386\" xlink:href=\"#m4cf4f55db6\" y=\"141.650696\"/>\n     <use style=\"fill:#1f77b4;stroke:#1f77b4;\" x=\"158.888481\" xlink:href=\"#m4cf4f55db6\" y=\"114.376079\"/>\n     <use style=\"fill:#1f77b4;stroke:#1f77b4;\" x=\"195.59355\" xlink:href=\"#m4cf4f55db6\" y=\"120.174685\"/>\n     <use style=\"fill:#1f77b4;stroke:#1f77b4;\" x=\"222.245552\" xlink:href=\"#m4cf4f55db6\" y=\"110.098434\"/>\n     <use style=\"fill:#1f77b4;stroke:#1f77b4;\" x=\"112.008967\" xlink:href=\"#m4cf4f55db6\" y=\"67.855405\"/>\n     <use style=\"fill:#1f77b4;stroke:#1f77b4;\" x=\"205.982407\" xlink:href=\"#m4cf4f55db6\" y=\"98.017077\"/>\n     <use style=\"fill:#1f77b4;stroke:#1f77b4;\" x=\"286.095414\" xlink:href=\"#m4cf4f55db6\" y=\"166.886899\"/>\n     <use style=\"fill:#1f77b4;stroke:#1f77b4;\" x=\"139.544225\" xlink:href=\"#m4cf4f55db6\" y=\"59.772365\"/>\n     <use style=\"fill:#1f77b4;stroke:#1f77b4;\" x=\"116.192562\" xlink:href=\"#m4cf4f55db6\" y=\"62.106916\"/>\n     <use style=\"fill:#1f77b4;stroke:#1f77b4;\" x=\"232.222539\" xlink:href=\"#m4cf4f55db6\" y=\"141.703795\"/>\n     <use style=\"fill:#1f77b4;stroke:#1f77b4;\" x=\"191.377595\" xlink:href=\"#m4cf4f55db6\" y=\"110.406362\"/>\n     <use style=\"fill:#1f77b4;stroke:#1f77b4;\" x=\"267.114723\" xlink:href=\"#m4cf4f55db6\" y=\"138.883378\"/>\n     <use style=\"fill:#1f77b4;stroke:#1f77b4;\" x=\"219.794792\" xlink:href=\"#m4cf4f55db6\" y=\"141.784271\"/>\n     <use style=\"fill:#1f77b4;stroke:#1f77b4;\" x=\"193.6867\" xlink:href=\"#m4cf4f55db6\" y=\"150.362024\"/>\n     <use style=\"fill:#1f77b4;stroke:#1f77b4;\" x=\"207.593732\" xlink:href=\"#m4cf4f55db6\" y=\"168.482024\"/>\n     <use style=\"fill:#1f77b4;stroke:#1f77b4;\" x=\"187.010564\" xlink:href=\"#m4cf4f55db6\" y=\"97.232536\"/>\n     <use style=\"fill:#1f77b4;stroke:#1f77b4;\" x=\"239.106616\" xlink:href=\"#m4cf4f55db6\" y=\"153.677548\"/>\n     <use style=\"fill:#1f77b4;stroke:#1f77b4;\" x=\"223.229163\" xlink:href=\"#m4cf4f55db6\" y=\"100.423416\"/>\n     <use style=\"fill:#1f77b4;stroke:#1f77b4;\" x=\"235.31575\" xlink:href=\"#m4cf4f55db6\" y=\"139.453739\"/>\n     <use style=\"fill:#1f77b4;stroke:#1f77b4;\" x=\"233.973171\" xlink:href=\"#m4cf4f55db6\" y=\"152.479236\"/>\n     <use style=\"fill:#1f77b4;stroke:#1f77b4;\" x=\"224.148976\" xlink:href=\"#m4cf4f55db6\" y=\"120.688756\"/>\n     <use style=\"fill:#1f77b4;stroke:#1f77b4;\" x=\"216.61361\" xlink:href=\"#m4cf4f55db6\" y=\"114.578057\"/>\n     <use style=\"fill:#1f77b4;stroke:#1f77b4;\" x=\"164.195101\" xlink:href=\"#m4cf4f55db6\" y=\"102.459287\"/>\n     <use style=\"fill:#1f77b4;stroke:#1f77b4;\" x=\"219.348079\" xlink:href=\"#m4cf4f55db6\" y=\"129.660351\"/>\n     <use style=\"fill:#1f77b4;stroke:#1f77b4;\" x=\"211.555783\" xlink:href=\"#m4cf4f55db6\" y=\"137.306537\"/>\n     <use style=\"fill:#1f77b4;stroke:#1f77b4;\" x=\"206.207747\" xlink:href=\"#m4cf4f55db6\" y=\"124.510356\"/>\n     <use style=\"fill:#1f77b4;stroke:#1f77b4;\" x=\"153.561308\" xlink:href=\"#m4cf4f55db6\" y=\"102.298194\"/>\n     <use style=\"fill:#1f77b4;stroke:#1f77b4;\" x=\"210.494587\" xlink:href=\"#m4cf4f55db6\" y=\"137.944698\"/>\n     <use style=\"fill:#1f77b4;stroke:#1f77b4;\" x=\"192.707674\" xlink:href=\"#m4cf4f55db6\" y=\"101.453716\"/>\n     <use style=\"fill:#1f77b4;stroke:#1f77b4;\" x=\"176.40884\" xlink:href=\"#m4cf4f55db6\" y=\"115.04562\"/>\n     <use style=\"fill:#1f77b4;stroke:#1f77b4;\" x=\"171.47553\" xlink:href=\"#m4cf4f55db6\" y=\"104.466689\"/>\n     <use style=\"fill:#1f77b4;stroke:#1f77b4;\" x=\"184.102421\" xlink:href=\"#m4cf4f55db6\" y=\"110.296034\"/>\n     <use style=\"fill:#1f77b4;stroke:#1f77b4;\" x=\"169.363823\" xlink:href=\"#m4cf4f55db6\" y=\"108.495323\"/>\n     <use style=\"fill:#1f77b4;stroke:#1f77b4;\" x=\"185.985015\" xlink:href=\"#m4cf4f55db6\" y=\"119.936373\"/>\n     <use style=\"fill:#1f77b4;stroke:#1f77b4;\" x=\"157.656603\" xlink:href=\"#m4cf4f55db6\" y=\"85.981229\"/>\n     <use style=\"fill:#1f77b4;stroke:#1f77b4;\" x=\"260.286121\" xlink:href=\"#m4cf4f55db6\" y=\"137.580779\"/>\n     <use style=\"fill:#1f77b4;stroke:#1f77b4;\" x=\"199.521314\" xlink:href=\"#m4cf4f55db6\" y=\"89.527058\"/>\n     <use style=\"fill:#1f77b4;stroke:#1f77b4;\" x=\"274.289935\" xlink:href=\"#m4cf4f55db6\" y=\"152.258117\"/>\n     <use style=\"fill:#1f77b4;stroke:#1f77b4;\" x=\"188.943478\" xlink:href=\"#m4cf4f55db6\" y=\"111.258688\"/>\n     <use style=\"fill:#1f77b4;stroke:#1f77b4;\" x=\"214.56847\" xlink:href=\"#m4cf4f55db6\" y=\"144.12022\"/>\n     <use style=\"fill:#1f77b4;stroke:#1f77b4;\" x=\"193.207685\" xlink:href=\"#m4cf4f55db6\" y=\"105.168186\"/>\n     <use style=\"fill:#1f77b4;stroke:#1f77b4;\" x=\"227.777611\" xlink:href=\"#m4cf4f55db6\" y=\"130.677714\"/>\n     <use style=\"fill:#1f77b4;stroke:#1f77b4;\" x=\"231.594083\" xlink:href=\"#m4cf4f55db6\" y=\"100.590264\"/>\n     <use style=\"fill:#1f77b4;stroke:#1f77b4;\" x=\"209.84321\" xlink:href=\"#m4cf4f55db6\" y=\"90.044544\"/>\n     <use style=\"fill:#1f77b4;stroke:#1f77b4;\" x=\"134.579841\" xlink:href=\"#m4cf4f55db6\" y=\"71.965672\"/>\n     <use style=\"fill:#1f77b4;stroke:#1f77b4;\" x=\"218.560998\" xlink:href=\"#m4cf4f55db6\" y=\"141.316413\"/>\n     <use style=\"fill:#1f77b4;stroke:#1f77b4;\" x=\"228.104686\" xlink:href=\"#m4cf4f55db6\" y=\"144.404375\"/>\n     <use style=\"fill:#1f77b4;stroke:#1f77b4;\" x=\"268.290861\" xlink:href=\"#m4cf4f55db6\" y=\"144.803063\"/>\n     <use style=\"fill:#1f77b4;stroke:#1f77b4;\" x=\"190.503605\" xlink:href=\"#m4cf4f55db6\" y=\"132.272902\"/>\n     <use style=\"fill:#1f77b4;stroke:#1f77b4;\" x=\"147.519418\" xlink:href=\"#m4cf4f55db6\" y=\"74.796625\"/>\n     <use style=\"fill:#1f77b4;stroke:#1f77b4;\" x=\"225.284077\" xlink:href=\"#m4cf4f55db6\" y=\"138.086526\"/>\n     <use style=\"fill:#1f77b4;stroke:#1f77b4;\" x=\"234.608411\" xlink:href=\"#m4cf4f55db6\" y=\"131.59176\"/>\n     <use style=\"fill:#1f77b4;stroke:#1f77b4;\" x=\"278.340793\" xlink:href=\"#m4cf4f55db6\" y=\"156.02104\"/>\n     <use style=\"fill:#1f77b4;stroke:#1f77b4;\" x=\"262.142917\" xlink:href=\"#m4cf4f55db6\" y=\"152.581777\"/>\n     <use style=\"fill:#1f77b4;stroke:#1f77b4;\" x=\"159.919549\" xlink:href=\"#m4cf4f55db6\" y=\"96.364894\"/>\n     <use style=\"fill:#1f77b4;stroke:#1f77b4;\" x=\"201.467692\" xlink:href=\"#m4cf4f55db6\" y=\"143.154427\"/>\n     <use style=\"fill:#1f77b4;stroke:#1f77b4;\" x=\"129.192217\" xlink:href=\"#m4cf4f55db6\" y=\"85.688631\"/>\n     <use style=\"fill:#1f77b4;stroke:#1f77b4;\" x=\"198.589144\" xlink:href=\"#m4cf4f55db6\" y=\"133.449669\"/>\n     <use style=\"fill:#1f77b4;stroke:#1f77b4;\" x=\"167.924842\" xlink:href=\"#m4cf4f55db6\" y=\"111.504997\"/>\n     <use style=\"fill:#1f77b4;stroke:#1f77b4;\" x=\"116.565763\" xlink:href=\"#m4cf4f55db6\" y=\"76.616786\"/>\n     <use style=\"fill:#1f77b4;stroke:#1f77b4;\" x=\"111.034377\" xlink:href=\"#m4cf4f55db6\" y=\"48.839095\"/>\n     <use style=\"fill:#1f77b4;stroke:#1f77b4;\" x=\"131.741559\" xlink:href=\"#m4cf4f55db6\" y=\"84.743597\"/>\n     <use style=\"fill:#1f77b4;stroke:#1f77b4;\" x=\"177.680771\" xlink:href=\"#m4cf4f55db6\" y=\"107.568753\"/>\n     <use style=\"fill:#1f77b4;stroke:#1f77b4;\" x=\"214.231585\" xlink:href=\"#m4cf4f55db6\" y=\"115.127555\"/>\n     <use style=\"fill:#1f77b4;stroke:#1f77b4;\" x=\"241.064965\" xlink:href=\"#m4cf4f55db6\" y=\"123.714093\"/>\n     <use style=\"fill:#1f77b4;stroke:#1f77b4;\" x=\"169.109399\" xlink:href=\"#m4cf4f55db6\" y=\"100.783564\"/>\n     <use style=\"fill:#1f77b4;stroke:#1f77b4;\" x=\"240.645022\" xlink:href=\"#m4cf4f55db6\" y=\"133.483611\"/>\n     <use style=\"fill:#1f77b4;stroke:#1f77b4;\" x=\"123.644\" xlink:href=\"#m4cf4f55db6\" y=\"65.9605\"/>\n     <use style=\"fill:#1f77b4;stroke:#1f77b4;\" x=\"272.806131\" xlink:href=\"#m4cf4f55db6\" y=\"182.616886\"/>\n     <use style=\"fill:#1f77b4;stroke:#1f77b4;\" x=\"216.224699\" xlink:href=\"#m4cf4f55db6\" y=\"117.90559\"/>\n     <use style=\"fill:#1f77b4;stroke:#1f77b4;\" x=\"205.864368\" xlink:href=\"#m4cf4f55db6\" y=\"93.636453\"/>\n     <use style=\"fill:#1f77b4;stroke:#1f77b4;\" x=\"228.307765\" xlink:href=\"#m4cf4f55db6\" y=\"141.553254\"/>\n     <use style=\"fill:#1f77b4;stroke:#1f77b4;\" x=\"237.943275\" xlink:href=\"#m4cf4f55db6\" y=\"108.817613\"/>\n     <use style=\"fill:#1f77b4;stroke:#1f77b4;\" x=\"230.125821\" xlink:href=\"#m4cf4f55db6\" y=\"135.032951\"/>\n     <use style=\"fill:#1f77b4;stroke:#1f77b4;\" x=\"180.395421\" xlink:href=\"#m4cf4f55db6\" y=\"100.2889\"/>\n     <use style=\"fill:#1f77b4;stroke:#1f77b4;\" x=\"186.256061\" xlink:href=\"#m4cf4f55db6\" y=\"106.323088\"/>\n     <use style=\"fill:#1f77b4;stroke:#1f77b4;\" x=\"171.755688\" xlink:href=\"#m4cf4f55db6\" y=\"96.695493\"/>\n     <use style=\"fill:#1f77b4;stroke:#1f77b4;\" x=\"89.85036\" xlink:href=\"#m4cf4f55db6\" y=\"41.023988\"/>\n     <use style=\"fill:#1f77b4;stroke:#1f77b4;\" x=\"179.048179\" xlink:href=\"#m4cf4f55db6\" y=\"103.140717\"/>\n     <use style=\"fill:#1f77b4;stroke:#1f77b4;\" x=\"167.488272\" xlink:href=\"#m4cf4f55db6\" y=\"113.920076\"/>\n     <use style=\"fill:#1f77b4;stroke:#1f77b4;\" x=\"172.621351\" xlink:href=\"#m4cf4f55db6\" y=\"98.41311\"/>\n     <use style=\"fill:#1f77b4;stroke:#1f77b4;\" x=\"208.5706\" xlink:href=\"#m4cf4f55db6\" y=\"101.834975\"/>\n     <use style=\"fill:#1f77b4;stroke:#1f77b4;\" x=\"195.972254\" xlink:href=\"#m4cf4f55db6\" y=\"118.086358\"/>\n     <use style=\"fill:#1f77b4;stroke:#1f77b4;\" x=\"167.107847\" xlink:href=\"#m4cf4f55db6\" y=\"83.259367\"/>\n     <use style=\"fill:#1f77b4;stroke:#1f77b4;\" x=\"185.068749\" xlink:href=\"#m4cf4f55db6\" y=\"97.231458\"/>\n     <use style=\"fill:#1f77b4;stroke:#1f77b4;\" x=\"117.00169\" xlink:href=\"#m4cf4f55db6\" y=\"62.21115\"/>\n     <use style=\"fill:#1f77b4;stroke:#1f77b4;\" x=\"237.462099\" xlink:href=\"#m4cf4f55db6\" y=\"140.325623\"/>\n     <use style=\"fill:#1f77b4;stroke:#1f77b4;\" x=\"232.905926\" xlink:href=\"#m4cf4f55db6\" y=\"122.548051\"/>\n     <use style=\"fill:#1f77b4;stroke:#1f77b4;\" x=\"171.328495\" xlink:href=\"#m4cf4f55db6\" y=\"89.219837\"/>\n     <use style=\"fill:#1f77b4;stroke:#1f77b4;\" x=\"230.972206\" xlink:href=\"#m4cf4f55db6\" y=\"118.576909\"/>\n     <use style=\"fill:#1f77b4;stroke:#1f77b4;\" x=\"189.667183\" xlink:href=\"#m4cf4f55db6\" y=\"101.171111\"/>\n     <use style=\"fill:#1f77b4;stroke:#1f77b4;\" x=\"171.412895\" xlink:href=\"#m4cf4f55db6\" y=\"111.340159\"/>\n     <use style=\"fill:#1f77b4;stroke:#1f77b4;\" x=\"257.08186\" xlink:href=\"#m4cf4f55db6\" y=\"159.629374\"/>\n     <use style=\"fill:#1f77b4;stroke:#1f77b4;\" x=\"141.165064\" xlink:href=\"#m4cf4f55db6\" y=\"108.563047\"/>\n     <use style=\"fill:#1f77b4;stroke:#1f77b4;\" x=\"253.30022\" xlink:href=\"#m4cf4f55db6\" y=\"137.510205\"/>\n     <use style=\"fill:#1f77b4;stroke:#1f77b4;\" x=\"154.086574\" xlink:href=\"#m4cf4f55db6\" y=\"113.315593\"/>\n     <use style=\"fill:#1f77b4;stroke:#1f77b4;\" x=\"62.014122\" xlink:href=\"#m4cf4f55db6\" y=\"17.101391\"/>\n     <use style=\"fill:#1f77b4;stroke:#1f77b4;\" x=\"199.66798\" xlink:href=\"#m4cf4f55db6\" y=\"108.980717\"/>\n     <use style=\"fill:#1f77b4;stroke:#1f77b4;\" x=\"116.48212\" xlink:href=\"#m4cf4f55db6\" y=\"62.118807\"/>\n     <use style=\"fill:#1f77b4;stroke:#1f77b4;\" x=\"135.404844\" xlink:href=\"#m4cf4f55db6\" y=\"88.536943\"/>\n     <use style=\"fill:#1f77b4;stroke:#1f77b4;\" x=\"298.813999\" xlink:href=\"#m4cf4f55db6\" y=\"202.775849\"/>\n     <use style=\"fill:#1f77b4;stroke:#1f77b4;\" x=\"249.853059\" xlink:href=\"#m4cf4f55db6\" y=\"157.475209\"/>\n     <use style=\"fill:#1f77b4;stroke:#1f77b4;\" x=\"254.190263\" xlink:href=\"#m4cf4f55db6\" y=\"150.574282\"/>\n     <use style=\"fill:#1f77b4;stroke:#1f77b4;\" x=\"227.251952\" xlink:href=\"#m4cf4f55db6\" y=\"136.52784\"/>\n     <use style=\"fill:#1f77b4;stroke:#1f77b4;\" x=\"160.685535\" xlink:href=\"#m4cf4f55db6\" y=\"84.001127\"/>\n     <use style=\"fill:#1f77b4;stroke:#1f77b4;\" x=\"81.807201\" xlink:href=\"#m4cf4f55db6\" y=\"42.856343\"/>\n     <use style=\"fill:#1f77b4;stroke:#1f77b4;\" x=\"193.115218\" xlink:href=\"#m4cf4f55db6\" y=\"111.821013\"/>\n     <use style=\"fill:#1f77b4;stroke:#1f77b4;\" x=\"158.074281\" xlink:href=\"#m4cf4f55db6\" y=\"71.488217\"/>\n     <use style=\"fill:#1f77b4;stroke:#1f77b4;\" x=\"282.972109\" xlink:href=\"#m4cf4f55db6\" y=\"144.220084\"/>\n     <use style=\"fill:#1f77b4;stroke:#1f77b4;\" x=\"184.484983\" xlink:href=\"#m4cf4f55db6\" y=\"126.079513\"/>\n     <use style=\"fill:#1f77b4;stroke:#1f77b4;\" x=\"126.829488\" xlink:href=\"#m4cf4f55db6\" y=\"93.174232\"/>\n     <use style=\"fill:#1f77b4;stroke:#1f77b4;\" x=\"212.202748\" xlink:href=\"#m4cf4f55db6\" y=\"128.177157\"/>\n     <use style=\"fill:#1f77b4;stroke:#1f77b4;\" x=\"133.959285\" xlink:href=\"#m4cf4f55db6\" y=\"61.791267\"/>\n     <use style=\"fill:#1f77b4;stroke:#1f77b4;\" x=\"238.318916\" xlink:href=\"#m4cf4f55db6\" y=\"87.503642\"/>\n     <use style=\"fill:#1f77b4;stroke:#1f77b4;\" x=\"320.396118\" xlink:href=\"#m4cf4f55db6\" y=\"193.937607\"/>\n     <use style=\"fill:#1f77b4;stroke:#1f77b4;\" x=\"201.523981\" xlink:href=\"#m4cf4f55db6\" y=\"102.841194\"/>\n     <use style=\"fill:#1f77b4;stroke:#1f77b4;\" x=\"190.023782\" xlink:href=\"#m4cf4f55db6\" y=\"90.130591\"/>\n     <use style=\"fill:#1f77b4;stroke:#1f77b4;\" x=\"216.378119\" xlink:href=\"#m4cf4f55db6\" y=\"118.457066\"/>\n     <use style=\"fill:#1f77b4;stroke:#1f77b4;\" x=\"141.571864\" xlink:href=\"#m4cf4f55db6\" y=\"59.297\"/>\n     <use style=\"fill:#1f77b4;stroke:#1f77b4;\" x=\"154.926368\" xlink:href=\"#m4cf4f55db6\" y=\"88.963791\"/>\n     <use style=\"fill:#1f77b4;stroke:#1f77b4;\" x=\"187.45831\" xlink:href=\"#m4cf4f55db6\" y=\"95.339799\"/>\n     <use style=\"fill:#1f77b4;stroke:#1f77b4;\" x=\"154.177475\" xlink:href=\"#m4cf4f55db6\" y=\"90.637283\"/>\n     <use style=\"fill:#1f77b4;stroke:#1f77b4;\" x=\"189.364761\" xlink:href=\"#m4cf4f55db6\" y=\"103.20809\"/>\n     <use style=\"fill:#1f77b4;stroke:#1f77b4;\" x=\"209.630325\" xlink:href=\"#m4cf4f55db6\" y=\"149.572683\"/>\n     <use style=\"fill:#1f77b4;stroke:#1f77b4;\" x=\"225.381036\" xlink:href=\"#m4cf4f55db6\" y=\"145.021429\"/>\n     <use style=\"fill:#1f77b4;stroke:#1f77b4;\" x=\"148.723587\" xlink:href=\"#m4cf4f55db6\" y=\"80.327699\"/>\n     <use style=\"fill:#1f77b4;stroke:#1f77b4;\" x=\"158.888356\" xlink:href=\"#m4cf4f55db6\" y=\"139.081947\"/>\n     <use style=\"fill:#1f77b4;stroke:#1f77b4;\" x=\"204.217153\" xlink:href=\"#m4cf4f55db6\" y=\"77.44823\"/>\n     <use style=\"fill:#1f77b4;stroke:#1f77b4;\" x=\"222.826517\" xlink:href=\"#m4cf4f55db6\" y=\"110.429317\"/>\n     <use style=\"fill:#1f77b4;stroke:#1f77b4;\" x=\"157.280967\" xlink:href=\"#m4cf4f55db6\" y=\"74.383752\"/>\n     <use style=\"fill:#1f77b4;stroke:#1f77b4;\" x=\"180.07324\" xlink:href=\"#m4cf4f55db6\" y=\"100.195947\"/>\n     <use style=\"fill:#1f77b4;stroke:#1f77b4;\" x=\"291.681317\" xlink:href=\"#m4cf4f55db6\" y=\"159.577287\"/>\n     <use style=\"fill:#1f77b4;stroke:#1f77b4;\" x=\"231.886725\" xlink:href=\"#m4cf4f55db6\" y=\"145.165777\"/>\n     <use style=\"fill:#1f77b4;stroke:#1f77b4;\" x=\"178.901979\" xlink:href=\"#m4cf4f55db6\" y=\"105.927456\"/>\n     <use style=\"fill:#1f77b4;stroke:#1f77b4;\" x=\"240.03193\" xlink:href=\"#m4cf4f55db6\" y=\"163.048541\"/>\n     <use style=\"fill:#1f77b4;stroke:#1f77b4;\" x=\"172.860174\" xlink:href=\"#m4cf4f55db6\" y=\"95.170154\"/>\n     <use style=\"fill:#1f77b4;stroke:#1f77b4;\" x=\"298.917715\" xlink:href=\"#m4cf4f55db6\" y=\"174.631846\"/>\n     <use style=\"fill:#1f77b4;stroke:#1f77b4;\" x=\"141.187294\" xlink:href=\"#m4cf4f55db6\" y=\"79.262921\"/>\n     <use style=\"fill:#1f77b4;stroke:#1f77b4;\" x=\"161.98656\" xlink:href=\"#m4cf4f55db6\" y=\"104.738669\"/>\n     <use style=\"fill:#1f77b4;stroke:#1f77b4;\" x=\"214.716041\" xlink:href=\"#m4cf4f55db6\" y=\"117.838192\"/>\n     <use style=\"fill:#1f77b4;stroke:#1f77b4;\" x=\"135.411298\" xlink:href=\"#m4cf4f55db6\" y=\"70.32865\"/>\n     <use style=\"fill:#1f77b4;stroke:#1f77b4;\" x=\"208.744982\" xlink:href=\"#m4cf4f55db6\" y=\"157.373317\"/>\n     <use style=\"fill:#1f77b4;stroke:#1f77b4;\" x=\"156.04102\" xlink:href=\"#m4cf4f55db6\" y=\"105.36758\"/>\n     <use style=\"fill:#1f77b4;stroke:#1f77b4;\" x=\"238.890247\" xlink:href=\"#m4cf4f55db6\" y=\"142.202338\"/>\n     <use style=\"fill:#1f77b4;stroke:#1f77b4;\" x=\"116.907092\" xlink:href=\"#m4cf4f55db6\" y=\"75.267903\"/>\n     <use style=\"fill:#1f77b4;stroke:#1f77b4;\" x=\"250.177107\" xlink:href=\"#m4cf4f55db6\" y=\"150.181306\"/>\n     <use style=\"fill:#1f77b4;stroke:#1f77b4;\" x=\"203.090757\" xlink:href=\"#m4cf4f55db6\" y=\"106.830221\"/>\n     <use style=\"fill:#1f77b4;stroke:#1f77b4;\" x=\"166.357243\" xlink:href=\"#m4cf4f55db6\" y=\"95.919652\"/>\n     <use style=\"fill:#1f77b4;stroke:#1f77b4;\" x=\"247.01491\" xlink:href=\"#m4cf4f55db6\" y=\"135.319387\"/>\n     <use style=\"fill:#1f77b4;stroke:#1f77b4;\" x=\"212.802271\" xlink:href=\"#m4cf4f55db6\" y=\"139.251438\"/>\n     <use style=\"fill:#1f77b4;stroke:#1f77b4;\" x=\"192.387187\" xlink:href=\"#m4cf4f55db6\" y=\"113.650919\"/>\n     <use style=\"fill:#1f77b4;stroke:#1f77b4;\" x=\"183.863209\" xlink:href=\"#m4cf4f55db6\" y=\"114.828515\"/>\n     <use style=\"fill:#1f77b4;stroke:#1f77b4;\" x=\"169.503545\" xlink:href=\"#m4cf4f55db6\" y=\"92.429394\"/>\n     <use style=\"fill:#1f77b4;stroke:#1f77b4;\" x=\"239.141013\" xlink:href=\"#m4cf4f55db6\" y=\"146.142973\"/>\n     <use style=\"fill:#1f77b4;stroke:#1f77b4;\" x=\"203.90089\" xlink:href=\"#m4cf4f55db6\" y=\"118.800395\"/>\n     <use style=\"fill:#1f77b4;stroke:#1f77b4;\" x=\"262.14982\" xlink:href=\"#m4cf4f55db6\" y=\"161.99507\"/>\n     <use style=\"fill:#1f77b4;stroke:#1f77b4;\" x=\"122.974489\" xlink:href=\"#m4cf4f55db6\" y=\"104.030813\"/>\n     <use style=\"fill:#1f77b4;stroke:#1f77b4;\" x=\"180.089209\" xlink:href=\"#m4cf4f55db6\" y=\"122.769256\"/>\n     <use style=\"fill:#1f77b4;stroke:#1f77b4;\" x=\"209.17423\" xlink:href=\"#m4cf4f55db6\" y=\"118.495902\"/>\n     <use style=\"fill:#1f77b4;stroke:#1f77b4;\" x=\"255.544327\" xlink:href=\"#m4cf4f55db6\" y=\"113.631109\"/>\n     <use style=\"fill:#1f77b4;stroke:#1f77b4;\" x=\"211.273437\" xlink:href=\"#m4cf4f55db6\" y=\"129.582462\"/>\n     <use style=\"fill:#1f77b4;stroke:#1f77b4;\" x=\"130.372879\" xlink:href=\"#m4cf4f55db6\" y=\"86.361773\"/>\n     <use style=\"fill:#1f77b4;stroke:#1f77b4;\" x=\"124.088998\" xlink:href=\"#m4cf4f55db6\" y=\"64.786509\"/>\n     <use style=\"fill:#1f77b4;stroke:#1f77b4;\" x=\"213.404252\" xlink:href=\"#m4cf4f55db6\" y=\"95.530475\"/>\n     <use style=\"fill:#1f77b4;stroke:#1f77b4;\" x=\"162.555749\" xlink:href=\"#m4cf4f55db6\" y=\"91.800067\"/>\n     <use style=\"fill:#1f77b4;stroke:#1f77b4;\" x=\"243.585784\" xlink:href=\"#m4cf4f55db6\" y=\"166.995579\"/>\n     <use style=\"fill:#1f77b4;stroke:#1f77b4;\" x=\"183.902688\" xlink:href=\"#m4cf4f55db6\" y=\"75.208607\"/>\n     <use style=\"fill:#1f77b4;stroke:#1f77b4;\" x=\"208.3204\" xlink:href=\"#m4cf4f55db6\" y=\"116.864662\"/>\n     <use style=\"fill:#1f77b4;stroke:#1f77b4;\" x=\"213.048758\" xlink:href=\"#m4cf4f55db6\" y=\"132.794667\"/>\n     <use style=\"fill:#1f77b4;stroke:#1f77b4;\" x=\"161.281431\" xlink:href=\"#m4cf4f55db6\" y=\"108.05715\"/>\n     <use style=\"fill:#1f77b4;stroke:#1f77b4;\" x=\"152.435457\" xlink:href=\"#m4cf4f55db6\" y=\"107.787861\"/>\n     <use style=\"fill:#1f77b4;stroke:#1f77b4;\" x=\"169.45264\" xlink:href=\"#m4cf4f55db6\" y=\"92.872938\"/>\n     <use style=\"fill:#1f77b4;stroke:#1f77b4;\" x=\"284.904305\" xlink:href=\"#m4cf4f55db6\" y=\"155.31485\"/>\n     <use style=\"fill:#1f77b4;stroke:#1f77b4;\" x=\"164.777963\" xlink:href=\"#m4cf4f55db6\" y=\"84.416429\"/>\n     <use style=\"fill:#1f77b4;stroke:#1f77b4;\" x=\"105.342293\" xlink:href=\"#m4cf4f55db6\" y=\"79.270851\"/>\n     <use style=\"fill:#1f77b4;stroke:#1f77b4;\" x=\"159.598543\" xlink:href=\"#m4cf4f55db6\" y=\"101.186541\"/>\n     <use style=\"fill:#1f77b4;stroke:#1f77b4;\" x=\"217.03937\" xlink:href=\"#m4cf4f55db6\" y=\"112.969678\"/>\n     <use style=\"fill:#1f77b4;stroke:#1f77b4;\" x=\"145.117832\" xlink:href=\"#m4cf4f55db6\" y=\"107.563665\"/>\n     <use style=\"fill:#1f77b4;stroke:#1f77b4;\" x=\"186.042571\" xlink:href=\"#m4cf4f55db6\" y=\"107.246658\"/>\n     <use style=\"fill:#1f77b4;stroke:#1f77b4;\" x=\"204.140167\" xlink:href=\"#m4cf4f55db6\" y=\"146.386759\"/>\n     <use style=\"fill:#1f77b4;stroke:#1f77b4;\" x=\"218.545762\" xlink:href=\"#m4cf4f55db6\" y=\"118.900769\"/>\n     <use style=\"fill:#1f77b4;stroke:#1f77b4;\" x=\"220.22785\" xlink:href=\"#m4cf4f55db6\" y=\"116.958013\"/>\n     <use style=\"fill:#1f77b4;stroke:#1f77b4;\" x=\"176.798271\" xlink:href=\"#m4cf4f55db6\" y=\"77.8944\"/>\n     <use style=\"fill:#1f77b4;stroke:#1f77b4;\" x=\"254.479238\" xlink:href=\"#m4cf4f55db6\" y=\"161.071423\"/>\n     <use style=\"fill:#1f77b4;stroke:#1f77b4;\" x=\"99.577468\" xlink:href=\"#m4cf4f55db6\" y=\"46.825339\"/>\n     <use style=\"fill:#1f77b4;stroke:#1f77b4;\" x=\"203.668769\" xlink:href=\"#m4cf4f55db6\" y=\"144.063072\"/>\n     <use style=\"fill:#1f77b4;stroke:#1f77b4;\" x=\"156.456736\" xlink:href=\"#m4cf4f55db6\" y=\"84.879659\"/>\n     <use style=\"fill:#1f77b4;stroke:#1f77b4;\" x=\"154.628076\" xlink:href=\"#m4cf4f55db6\" y=\"91.78382\"/>\n     <use style=\"fill:#1f77b4;stroke:#1f77b4;\" x=\"132.246314\" xlink:href=\"#m4cf4f55db6\" y=\"87.568453\"/>\n     <use style=\"fill:#1f77b4;stroke:#1f77b4;\" x=\"148.420873\" xlink:href=\"#m4cf4f55db6\" y=\"89.160659\"/>\n     <use style=\"fill:#1f77b4;stroke:#1f77b4;\" x=\"234.047093\" xlink:href=\"#m4cf4f55db6\" y=\"137.557086\"/>\n     <use style=\"fill:#1f77b4;stroke:#1f77b4;\" x=\"207.28216\" xlink:href=\"#m4cf4f55db6\" y=\"121.036665\"/>\n     <use style=\"fill:#1f77b4;stroke:#1f77b4;\" x=\"185.620943\" xlink:href=\"#m4cf4f55db6\" y=\"122.313472\"/>\n     <use style=\"fill:#1f77b4;stroke:#1f77b4;\" x=\"240.257283\" xlink:href=\"#m4cf4f55db6\" y=\"136.22264\"/>\n     <use style=\"fill:#1f77b4;stroke:#1f77b4;\" x=\"232.19364\" xlink:href=\"#m4cf4f55db6\" y=\"117.575292\"/>\n     <use style=\"fill:#1f77b4;stroke:#1f77b4;\" x=\"135.12497\" xlink:href=\"#m4cf4f55db6\" y=\"105.937253\"/>\n     <use style=\"fill:#1f77b4;stroke:#1f77b4;\" x=\"144.886189\" xlink:href=\"#m4cf4f55db6\" y=\"83.156936\"/>\n     <use style=\"fill:#1f77b4;stroke:#1f77b4;\" x=\"218.615811\" xlink:href=\"#m4cf4f55db6\" y=\"120.76659\"/>\n     <use style=\"fill:#1f77b4;stroke:#1f77b4;\" x=\"170.674593\" xlink:href=\"#m4cf4f55db6\" y=\"84.384197\"/>\n     <use style=\"fill:#1f77b4;stroke:#1f77b4;\" x=\"109.369475\" xlink:href=\"#m4cf4f55db6\" y=\"94.233009\"/>\n     <use style=\"fill:#1f77b4;stroke:#1f77b4;\" x=\"228.543472\" xlink:href=\"#m4cf4f55db6\" y=\"122.20876\"/>\n     <use style=\"fill:#1f77b4;stroke:#1f77b4;\" x=\"241.871671\" xlink:href=\"#m4cf4f55db6\" y=\"121.822967\"/>\n     <use style=\"fill:#1f77b4;stroke:#1f77b4;\" x=\"246.048075\" xlink:href=\"#m4cf4f55db6\" y=\"152.564172\"/>\n     <use style=\"fill:#1f77b4;stroke:#1f77b4;\" x=\"268.184737\" xlink:href=\"#m4cf4f55db6\" y=\"149.695122\"/>\n     <use style=\"fill:#1f77b4;stroke:#1f77b4;\" x=\"230.026828\" xlink:href=\"#m4cf4f55db6\" y=\"118.466335\"/>\n     <use style=\"fill:#1f77b4;stroke:#1f77b4;\" x=\"165.468938\" xlink:href=\"#m4cf4f55db6\" y=\"92.103522\"/>\n     <use style=\"fill:#1f77b4;stroke:#1f77b4;\" x=\"113.027339\" xlink:href=\"#m4cf4f55db6\" y=\"56.71857\"/>\n     <use style=\"fill:#1f77b4;stroke:#1f77b4;\" x=\"226.191298\" xlink:href=\"#m4cf4f55db6\" y=\"141.702245\"/>\n     <use style=\"fill:#1f77b4;stroke:#1f77b4;\" x=\"132.378539\" xlink:href=\"#m4cf4f55db6\" y=\"80.126697\"/>\n     <use style=\"fill:#1f77b4;stroke:#1f77b4;\" x=\"219.096111\" xlink:href=\"#m4cf4f55db6\" y=\"100.851218\"/>\n     <use style=\"fill:#1f77b4;stroke:#1f77b4;\" x=\"264.670128\" xlink:href=\"#m4cf4f55db6\" y=\"126.954896\"/>\n     <use style=\"fill:#1f77b4;stroke:#1f77b4;\" x=\"192.638418\" xlink:href=\"#m4cf4f55db6\" y=\"106.335878\"/>\n     <use style=\"fill:#1f77b4;stroke:#1f77b4;\" x=\"130.284829\" xlink:href=\"#m4cf4f55db6\" y=\"55.601954\"/>\n     <use style=\"fill:#1f77b4;stroke:#1f77b4;\" x=\"206.382393\" xlink:href=\"#m4cf4f55db6\" y=\"120.507506\"/>\n     <use style=\"fill:#1f77b4;stroke:#1f77b4;\" x=\"142.605482\" xlink:href=\"#m4cf4f55db6\" y=\"85.722642\"/>\n     <use style=\"fill:#1f77b4;stroke:#1f77b4;\" x=\"68.885662\" xlink:href=\"#m4cf4f55db6\" y=\"27.421154\"/>\n     <use style=\"fill:#1f77b4;stroke:#1f77b4;\" x=\"102.064027\" xlink:href=\"#m4cf4f55db6\" y=\"38.213918\"/>\n     <use style=\"fill:#1f77b4;stroke:#1f77b4;\" x=\"229.645823\" xlink:href=\"#m4cf4f55db6\" y=\"123.813289\"/>\n     <use style=\"fill:#1f77b4;stroke:#1f77b4;\" x=\"232.070773\" xlink:href=\"#m4cf4f55db6\" y=\"108.582206\"/>\n     <use style=\"fill:#1f77b4;stroke:#1f77b4;\" x=\"268.213584\" xlink:href=\"#m4cf4f55db6\" y=\"151.661478\"/>\n     <use style=\"fill:#1f77b4;stroke:#1f77b4;\" x=\"210.06818\" xlink:href=\"#m4cf4f55db6\" y=\"115.64272\"/>\n     <use style=\"fill:#1f77b4;stroke:#1f77b4;\" x=\"211.834347\" xlink:href=\"#m4cf4f55db6\" y=\"124.196079\"/>\n     <use style=\"fill:#1f77b4;stroke:#1f77b4;\" x=\"212.81607\" xlink:href=\"#m4cf4f55db6\" y=\"110.484718\"/>\n     <use style=\"fill:#1f77b4;stroke:#1f77b4;\" x=\"195.405089\" xlink:href=\"#m4cf4f55db6\" y=\"100.790695\"/>\n     <use style=\"fill:#1f77b4;stroke:#1f77b4;\" x=\"202.820616\" xlink:href=\"#m4cf4f55db6\" y=\"126.125088\"/>\n     <use style=\"fill:#1f77b4;stroke:#1f77b4;\" x=\"121.343966\" xlink:href=\"#m4cf4f55db6\" y=\"75.685496\"/>\n     <use style=\"fill:#1f77b4;stroke:#1f77b4;\" x=\"218.416852\" xlink:href=\"#m4cf4f55db6\" y=\"130.345789\"/>\n     <use style=\"fill:#1f77b4;stroke:#1f77b4;\" x=\"181.768369\" xlink:href=\"#m4cf4f55db6\" y=\"117.976012\"/>\n     <use style=\"fill:#1f77b4;stroke:#1f77b4;\" x=\"194.942147\" xlink:href=\"#m4cf4f55db6\" y=\"119.927714\"/>\n     <use style=\"fill:#1f77b4;stroke:#1f77b4;\" x=\"217.793405\" xlink:href=\"#m4cf4f55db6\" y=\"128.675574\"/>\n     <use style=\"fill:#1f77b4;stroke:#1f77b4;\" x=\"156.513821\" xlink:href=\"#m4cf4f55db6\" y=\"99.13211\"/>\n     <use style=\"fill:#1f77b4;stroke:#1f77b4;\" x=\"191.716777\" xlink:href=\"#m4cf4f55db6\" y=\"119.256538\"/>\n     <use style=\"fill:#1f77b4;stroke:#1f77b4;\" x=\"160.268579\" xlink:href=\"#m4cf4f55db6\" y=\"92.363573\"/>\n     <use style=\"fill:#1f77b4;stroke:#1f77b4;\" x=\"142.731241\" xlink:href=\"#m4cf4f55db6\" y=\"67.006502\"/>\n     <use style=\"fill:#1f77b4;stroke:#1f77b4;\" x=\"127.46529\" xlink:href=\"#m4cf4f55db6\" y=\"73.896518\"/>\n     <use style=\"fill:#1f77b4;stroke:#1f77b4;\" x=\"156.498159\" xlink:href=\"#m4cf4f55db6\" y=\"93.406973\"/>\n     <use style=\"fill:#1f77b4;stroke:#1f77b4;\" x=\"205.37052\" xlink:href=\"#m4cf4f55db6\" y=\"126.881197\"/>\n     <use style=\"fill:#1f77b4;stroke:#1f77b4;\" x=\"180.047985\" xlink:href=\"#m4cf4f55db6\" y=\"82.617386\"/>\n     <use style=\"fill:#1f77b4;stroke:#1f77b4;\" x=\"240.117194\" xlink:href=\"#m4cf4f55db6\" y=\"152.355404\"/>\n     <use style=\"fill:#1f77b4;stroke:#1f77b4;\" x=\"203.628726\" xlink:href=\"#m4cf4f55db6\" y=\"121.071198\"/>\n     <use style=\"fill:#1f77b4;stroke:#1f77b4;\" x=\"155.228598\" xlink:href=\"#m4cf4f55db6\" y=\"109.52516\"/>\n     <use style=\"fill:#1f77b4;stroke:#1f77b4;\" x=\"228.342331\" xlink:href=\"#m4cf4f55db6\" y=\"145.444002\"/>\n     <use style=\"fill:#1f77b4;stroke:#1f77b4;\" x=\"164.569693\" xlink:href=\"#m4cf4f55db6\" y=\"102.034486\"/>\n     <use style=\"fill:#1f77b4;stroke:#1f77b4;\" x=\"167.789446\" xlink:href=\"#m4cf4f55db6\" y=\"107.859193\"/>\n     <use style=\"fill:#1f77b4;stroke:#1f77b4;\" x=\"192.216278\" xlink:href=\"#m4cf4f55db6\" y=\"104.584685\"/>\n     <use style=\"fill:#1f77b4;stroke:#1f77b4;\" x=\"245.636876\" xlink:href=\"#m4cf4f55db6\" y=\"127.828289\"/>\n     <use style=\"fill:#1f77b4;stroke:#1f77b4;\" x=\"149.67088\" xlink:href=\"#m4cf4f55db6\" y=\"103.783853\"/>\n     <use style=\"fill:#1f77b4;stroke:#1f77b4;\" x=\"256.881093\" xlink:href=\"#m4cf4f55db6\" y=\"151.598021\"/>\n     <use style=\"fill:#1f77b4;stroke:#1f77b4;\" x=\"145.625887\" xlink:href=\"#m4cf4f55db6\" y=\"86.534824\"/>\n     <use style=\"fill:#1f77b4;stroke:#1f77b4;\" x=\"251.591261\" xlink:href=\"#m4cf4f55db6\" y=\"154.067192\"/>\n     <use style=\"fill:#1f77b4;stroke:#1f77b4;\" x=\"198.204119\" xlink:href=\"#m4cf4f55db6\" y=\"100.357541\"/>\n     <use style=\"fill:#1f77b4;stroke:#1f77b4;\" x=\"199.406735\" xlink:href=\"#m4cf4f55db6\" y=\"102.617012\"/>\n     <use style=\"fill:#1f77b4;stroke:#1f77b4;\" x=\"142.912997\" xlink:href=\"#m4cf4f55db6\" y=\"68.074064\"/>\n     <use style=\"fill:#1f77b4;stroke:#1f77b4;\" x=\"270.1344\" xlink:href=\"#m4cf4f55db6\" y=\"143.581023\"/>\n     <use style=\"fill:#1f77b4;stroke:#1f77b4;\" x=\"173.596437\" xlink:href=\"#m4cf4f55db6\" y=\"116.947929\"/>\n     <use style=\"fill:#1f77b4;stroke:#1f77b4;\" x=\"185.229839\" xlink:href=\"#m4cf4f55db6\" y=\"132.562198\"/>\n     <use style=\"fill:#1f77b4;stroke:#1f77b4;\" x=\"223.328605\" xlink:href=\"#m4cf4f55db6\" y=\"125.635157\"/>\n     <use style=\"fill:#1f77b4;stroke:#1f77b4;\" x=\"213.22095\" xlink:href=\"#m4cf4f55db6\" y=\"107.812267\"/>\n     <use style=\"fill:#1f77b4;stroke:#1f77b4;\" x=\"201.560801\" xlink:href=\"#m4cf4f55db6\" y=\"122.220101\"/>\n     <use style=\"fill:#1f77b4;stroke:#1f77b4;\" x=\"169.648467\" xlink:href=\"#m4cf4f55db6\" y=\"100.208066\"/>\n     <use style=\"fill:#1f77b4;stroke:#1f77b4;\" x=\"274.424993\" xlink:href=\"#m4cf4f55db6\" y=\"156.976422\"/>\n     <use style=\"fill:#1f77b4;stroke:#1f77b4;\" x=\"169.927864\" xlink:href=\"#m4cf4f55db6\" y=\"92.426353\"/>\n     <use style=\"fill:#1f77b4;stroke:#1f77b4;\" x=\"171.674386\" xlink:href=\"#m4cf4f55db6\" y=\"89.647977\"/>\n     <use style=\"fill:#1f77b4;stroke:#1f77b4;\" x=\"272.315781\" xlink:href=\"#m4cf4f55db6\" y=\"189.272695\"/>\n     <use style=\"fill:#1f77b4;stroke:#1f77b4;\" x=\"252.325427\" xlink:href=\"#m4cf4f55db6\" y=\"147.422013\"/>\n     <use style=\"fill:#1f77b4;stroke:#1f77b4;\" x=\"149.03818\" xlink:href=\"#m4cf4f55db6\" y=\"95.021938\"/>\n     <use style=\"fill:#1f77b4;stroke:#1f77b4;\" x=\"231.637146\" xlink:href=\"#m4cf4f55db6\" y=\"126.608889\"/>\n     <use style=\"fill:#1f77b4;stroke:#1f77b4;\" x=\"188.817629\" xlink:href=\"#m4cf4f55db6\" y=\"117.344366\"/>\n     <use style=\"fill:#1f77b4;stroke:#1f77b4;\" x=\"156.362623\" xlink:href=\"#m4cf4f55db6\" y=\"106.696427\"/>\n     <use style=\"fill:#1f77b4;stroke:#1f77b4;\" x=\"214.129255\" xlink:href=\"#m4cf4f55db6\" y=\"126.326513\"/>\n     <use style=\"fill:#1f77b4;stroke:#1f77b4;\" x=\"244.23916\" xlink:href=\"#m4cf4f55db6\" y=\"113.159599\"/>\n     <use style=\"fill:#1f77b4;stroke:#1f77b4;\" x=\"124.761861\" xlink:href=\"#m4cf4f55db6\" y=\"78.96004\"/>\n     <use style=\"fill:#1f77b4;stroke:#1f77b4;\" x=\"193.222148\" xlink:href=\"#m4cf4f55db6\" y=\"133.489816\"/>\n     <use style=\"fill:#1f77b4;stroke:#1f77b4;\" x=\"235.206504\" xlink:href=\"#m4cf4f55db6\" y=\"112.255751\"/>\n     <use style=\"fill:#1f77b4;stroke:#1f77b4;\" x=\"223.77613\" xlink:href=\"#m4cf4f55db6\" y=\"128.214617\"/>\n     <use style=\"fill:#1f77b4;stroke:#1f77b4;\" x=\"84.227443\" xlink:href=\"#m4cf4f55db6\" y=\"62.446023\"/>\n     <use style=\"fill:#1f77b4;stroke:#1f77b4;\" x=\"153.404581\" xlink:href=\"#m4cf4f55db6\" y=\"83.185491\"/>\n     <use style=\"fill:#1f77b4;stroke:#1f77b4;\" x=\"198.405265\" xlink:href=\"#m4cf4f55db6\" y=\"139.149022\"/>\n     <use style=\"fill:#1f77b4;stroke:#1f77b4;\" x=\"130.017063\" xlink:href=\"#m4cf4f55db6\" y=\"70.000058\"/>\n     <use style=\"fill:#1f77b4;stroke:#1f77b4;\" x=\"227.424567\" xlink:href=\"#m4cf4f55db6\" y=\"143.090793\"/>\n     <use style=\"fill:#1f77b4;stroke:#1f77b4;\" x=\"174.489233\" xlink:href=\"#m4cf4f55db6\" y=\"112.683034\"/>\n     <use style=\"fill:#1f77b4;stroke:#1f77b4;\" x=\"177.184072\" xlink:href=\"#m4cf4f55db6\" y=\"106.708205\"/>\n     <use style=\"fill:#1f77b4;stroke:#1f77b4;\" x=\"183.073674\" xlink:href=\"#m4cf4f55db6\" y=\"97.834464\"/>\n     <use style=\"fill:#1f77b4;stroke:#1f77b4;\" x=\"206.14689\" xlink:href=\"#m4cf4f55db6\" y=\"128.318608\"/>\n     <use style=\"fill:#1f77b4;stroke:#1f77b4;\" x=\"272.047432\" xlink:href=\"#m4cf4f55db6\" y=\"165.404055\"/>\n     <use style=\"fill:#1f77b4;stroke:#1f77b4;\" x=\"198.440838\" xlink:href=\"#m4cf4f55db6\" y=\"113.842692\"/>\n     <use style=\"fill:#1f77b4;stroke:#1f77b4;\" x=\"236.348088\" xlink:href=\"#m4cf4f55db6\" y=\"145.127027\"/>\n     <use style=\"fill:#1f77b4;stroke:#1f77b4;\" x=\"191.471118\" xlink:href=\"#m4cf4f55db6\" y=\"121.869426\"/>\n     <use style=\"fill:#1f77b4;stroke:#1f77b4;\" x=\"163.417012\" xlink:href=\"#m4cf4f55db6\" y=\"100.11635\"/>\n     <use style=\"fill:#1f77b4;stroke:#1f77b4;\" x=\"313.32391\" xlink:href=\"#m4cf4f55db6\" y=\"177.063887\"/>\n     <use style=\"fill:#1f77b4;stroke:#1f77b4;\" x=\"179.960907\" xlink:href=\"#m4cf4f55db6\" y=\"108.271252\"/>\n     <use style=\"fill:#1f77b4;stroke:#1f77b4;\" x=\"180.577725\" xlink:href=\"#m4cf4f55db6\" y=\"86.863682\"/>\n     <use style=\"fill:#1f77b4;stroke:#1f77b4;\" x=\"212.068521\" xlink:href=\"#m4cf4f55db6\" y=\"133.747784\"/>\n     <use style=\"fill:#1f77b4;stroke:#1f77b4;\" x=\"243.385031\" xlink:href=\"#m4cf4f55db6\" y=\"149.201795\"/>\n     <use style=\"fill:#1f77b4;stroke:#1f77b4;\" x=\"227.828877\" xlink:href=\"#m4cf4f55db6\" y=\"127.128328\"/>\n     <use style=\"fill:#1f77b4;stroke:#1f77b4;\" x=\"192.034819\" xlink:href=\"#m4cf4f55db6\" y=\"111.604578\"/>\n     <use style=\"fill:#1f77b4;stroke:#1f77b4;\" x=\"211.971779\" xlink:href=\"#m4cf4f55db6\" y=\"128.415491\"/>\n     <use style=\"fill:#1f77b4;stroke:#1f77b4;\" x=\"267.46967\" xlink:href=\"#m4cf4f55db6\" y=\"136.488298\"/>\n     <use style=\"fill:#1f77b4;stroke:#1f77b4;\" x=\"206.076691\" xlink:href=\"#m4cf4f55db6\" y=\"126.852883\"/>\n     <use style=\"fill:#1f77b4;stroke:#1f77b4;\" x=\"173.819691\" xlink:href=\"#m4cf4f55db6\" y=\"93.683545\"/>\n     <use style=\"fill:#1f77b4;stroke:#1f77b4;\" x=\"190.639971\" xlink:href=\"#m4cf4f55db6\" y=\"112.339379\"/>\n     <use style=\"fill:#1f77b4;stroke:#1f77b4;\" x=\"182.867987\" xlink:href=\"#m4cf4f55db6\" y=\"110.210742\"/>\n     <use style=\"fill:#1f77b4;stroke:#1f77b4;\" x=\"217.76106\" xlink:href=\"#m4cf4f55db6\" y=\"126.949232\"/>\n     <use style=\"fill:#1f77b4;stroke:#1f77b4;\" x=\"154.441924\" xlink:href=\"#m4cf4f55db6\" y=\"63.006941\"/>\n     <use style=\"fill:#1f77b4;stroke:#1f77b4;\" x=\"203.478486\" xlink:href=\"#m4cf4f55db6\" y=\"132.932134\"/>\n     <use style=\"fill:#1f77b4;stroke:#1f77b4;\" x=\"163.721728\" xlink:href=\"#m4cf4f55db6\" y=\"79.02712\"/>\n     <use style=\"fill:#1f77b4;stroke:#1f77b4;\" x=\"269.640651\" xlink:href=\"#m4cf4f55db6\" y=\"144.178046\"/>\n     <use style=\"fill:#1f77b4;stroke:#1f77b4;\" x=\"338.582274\" xlink:href=\"#m4cf4f55db6\" y=\"200.344029\"/>\n     <use style=\"fill:#1f77b4;stroke:#1f77b4;\" x=\"249.85732\" xlink:href=\"#m4cf4f55db6\" y=\"151.76217\"/>\n     <use style=\"fill:#1f77b4;stroke:#1f77b4;\" x=\"169.987376\" xlink:href=\"#m4cf4f55db6\" y=\"74.420848\"/>\n     <use style=\"fill:#1f77b4;stroke:#1f77b4;\" x=\"219.360855\" xlink:href=\"#m4cf4f55db6\" y=\"133.359881\"/>\n     <use style=\"fill:#1f77b4;stroke:#1f77b4;\" x=\"188.533962\" xlink:href=\"#m4cf4f55db6\" y=\"102.786658\"/>\n     <use style=\"fill:#1f77b4;stroke:#1f77b4;\" x=\"257.18606\" xlink:href=\"#m4cf4f55db6\" y=\"136.972372\"/>\n     <use style=\"fill:#1f77b4;stroke:#1f77b4;\" x=\"124.338772\" xlink:href=\"#m4cf4f55db6\" y=\"81.688857\"/>\n     <use style=\"fill:#1f77b4;stroke:#1f77b4;\" x=\"164.529489\" xlink:href=\"#m4cf4f55db6\" y=\"116.904762\"/>\n     <use style=\"fill:#1f77b4;stroke:#1f77b4;\" x=\"287.481666\" xlink:href=\"#m4cf4f55db6\" y=\"167.658887\"/>\n     <use style=\"fill:#1f77b4;stroke:#1f77b4;\" x=\"197.872307\" xlink:href=\"#m4cf4f55db6\" y=\"103.129175\"/>\n     <use style=\"fill:#1f77b4;stroke:#1f77b4;\" x=\"242.737405\" xlink:href=\"#m4cf4f55db6\" y=\"156.810179\"/>\n     <use style=\"fill:#1f77b4;stroke:#1f77b4;\" x=\"200.250257\" xlink:href=\"#m4cf4f55db6\" y=\"127.04547\"/>\n     <use style=\"fill:#1f77b4;stroke:#1f77b4;\" x=\"163.990284\" xlink:href=\"#m4cf4f55db6\" y=\"91.278277\"/>\n     <use style=\"fill:#1f77b4;stroke:#1f77b4;\" x=\"217.271709\" xlink:href=\"#m4cf4f55db6\" y=\"95.413815\"/>\n     <use style=\"fill:#1f77b4;stroke:#1f77b4;\" x=\"173.017552\" xlink:href=\"#m4cf4f55db6\" y=\"121.751755\"/>\n     <use style=\"fill:#1f77b4;stroke:#1f77b4;\" x=\"215.884984\" xlink:href=\"#m4cf4f55db6\" y=\"111.357617\"/>\n     <use style=\"fill:#1f77b4;stroke:#1f77b4;\" x=\"152.476212\" xlink:href=\"#m4cf4f55db6\" y=\"109.476202\"/>\n     <use style=\"fill:#1f77b4;stroke:#1f77b4;\" x=\"263.642031\" xlink:href=\"#m4cf4f55db6\" y=\"187.355044\"/>\n     <use style=\"fill:#1f77b4;stroke:#1f77b4;\" x=\"268.617615\" xlink:href=\"#m4cf4f55db6\" y=\"146.788549\"/>\n     <use style=\"fill:#1f77b4;stroke:#1f77b4;\" x=\"179.664472\" xlink:href=\"#m4cf4f55db6\" y=\"88.493676\"/>\n     <use style=\"fill:#1f77b4;stroke:#1f77b4;\" x=\"148.96924\" xlink:href=\"#m4cf4f55db6\" y=\"81.784992\"/>\n     <use style=\"fill:#1f77b4;stroke:#1f77b4;\" x=\"219.979845\" xlink:href=\"#m4cf4f55db6\" y=\"128.710669\"/>\n     <use style=\"fill:#1f77b4;stroke:#1f77b4;\" x=\"148.465435\" xlink:href=\"#m4cf4f55db6\" y=\"126.89703\"/>\n     <use style=\"fill:#1f77b4;stroke:#1f77b4;\" x=\"210.39632\" xlink:href=\"#m4cf4f55db6\" y=\"108.543207\"/>\n     <use style=\"fill:#1f77b4;stroke:#1f77b4;\" x=\"162.967236\" xlink:href=\"#m4cf4f55db6\" y=\"85.32616\"/>\n     <use style=\"fill:#1f77b4;stroke:#1f77b4;\" x=\"203.096599\" xlink:href=\"#m4cf4f55db6\" y=\"120.239308\"/>\n     <use style=\"fill:#1f77b4;stroke:#1f77b4;\" x=\"230.735222\" xlink:href=\"#m4cf4f55db6\" y=\"142.68002\"/>\n     <use style=\"fill:#1f77b4;stroke:#1f77b4;\" x=\"169.284171\" xlink:href=\"#m4cf4f55db6\" y=\"68.792225\"/>\n     <use style=\"fill:#1f77b4;stroke:#1f77b4;\" x=\"224.497511\" xlink:href=\"#m4cf4f55db6\" y=\"122.561449\"/>\n     <use style=\"fill:#1f77b4;stroke:#1f77b4;\" x=\"231.713021\" xlink:href=\"#m4cf4f55db6\" y=\"147.215891\"/>\n     <use style=\"fill:#1f77b4;stroke:#1f77b4;\" x=\"198.744109\" xlink:href=\"#m4cf4f55db6\" y=\"113.165729\"/>\n     <use style=\"fill:#1f77b4;stroke:#1f77b4;\" x=\"219.513659\" xlink:href=\"#m4cf4f55db6\" y=\"95.597882\"/>\n     <use style=\"fill:#1f77b4;stroke:#1f77b4;\" x=\"243.014272\" xlink:href=\"#m4cf4f55db6\" y=\"156.709815\"/>\n     <use style=\"fill:#1f77b4;stroke:#1f77b4;\" x=\"196.430542\" xlink:href=\"#m4cf4f55db6\" y=\"89.079994\"/>\n     <use style=\"fill:#1f77b4;stroke:#1f77b4;\" x=\"150.547243\" xlink:href=\"#m4cf4f55db6\" y=\"84.084943\"/>\n     <use style=\"fill:#1f77b4;stroke:#1f77b4;\" x=\"166.721189\" xlink:href=\"#m4cf4f55db6\" y=\"104.944016\"/>\n     <use style=\"fill:#1f77b4;stroke:#1f77b4;\" x=\"143.656269\" xlink:href=\"#m4cf4f55db6\" y=\"72.935399\"/>\n     <use style=\"fill:#1f77b4;stroke:#1f77b4;\" x=\"260.709431\" xlink:href=\"#m4cf4f55db6\" y=\"162.448759\"/>\n     <use style=\"fill:#1f77b4;stroke:#1f77b4;\" x=\"214.253179\" xlink:href=\"#m4cf4f55db6\" y=\"91.63531\"/>\n     <use style=\"fill:#1f77b4;stroke:#1f77b4;\" x=\"275.459888\" xlink:href=\"#m4cf4f55db6\" y=\"156.282077\"/>\n     <use style=\"fill:#1f77b4;stroke:#1f77b4;\" x=\"178.670517\" xlink:href=\"#m4cf4f55db6\" y=\"103.903108\"/>\n     <use style=\"fill:#1f77b4;stroke:#1f77b4;\" x=\"221.478233\" xlink:href=\"#m4cf4f55db6\" y=\"111.517264\"/>\n     <use style=\"fill:#1f77b4;stroke:#1f77b4;\" x=\"261.800038\" xlink:href=\"#m4cf4f55db6\" y=\"149.12033\"/>\n     <use style=\"fill:#1f77b4;stroke:#1f77b4;\" x=\"190.441222\" xlink:href=\"#m4cf4f55db6\" y=\"105.005278\"/>\n     <use style=\"fill:#1f77b4;stroke:#1f77b4;\" x=\"253.523626\" xlink:href=\"#m4cf4f55db6\" y=\"171.164228\"/>\n    </g>\n   </g>\n   <g id=\"matplotlib.axis_1\">\n    <g id=\"xtick_1\">\n     <g id=\"line2d_1\">\n      <defs>\n       <path d=\"M 0 0 \nL 0 3.5 \n\" id=\"mae07c4e50c\" style=\"stroke:#000000;stroke-width:0.8;\"/>\n      </defs>\n      <g>\n       <use style=\"stroke:#000000;stroke-width:0.8;\" x=\"50.336751\" xlink:href=\"#mae07c4e50c\" y=\"224.64\"/>\n      </g>\n     </g>\n     <g id=\"text_1\">\n      <!-- −3 -->\n      <defs>\n       <path d=\"M 10.59375 35.5 \nL 73.1875 35.5 \nL 73.1875 27.203125 \nL 10.59375 27.203125 \nz\n\" id=\"DejaVuSans-8722\"/>\n       <path d=\"M 40.578125 39.3125 \nQ 47.65625 37.796875 51.625 33 \nQ 55.609375 28.21875 55.609375 21.1875 \nQ 55.609375 10.40625 48.1875 4.484375 \nQ 40.765625 -1.421875 27.09375 -1.421875 \nQ 22.515625 -1.421875 17.65625 -0.515625 \nQ 12.796875 0.390625 7.625 2.203125 \nL 7.625 11.71875 \nQ 11.71875 9.328125 16.59375 8.109375 \nQ 21.484375 6.890625 26.8125 6.890625 \nQ 36.078125 6.890625 40.9375 10.546875 \nQ 45.796875 14.203125 45.796875 21.1875 \nQ 45.796875 27.640625 41.28125 31.265625 \nQ 36.765625 34.90625 28.71875 34.90625 \nL 20.21875 34.90625 \nL 20.21875 43.015625 \nL 29.109375 43.015625 \nQ 36.375 43.015625 40.234375 45.921875 \nQ 44.09375 48.828125 44.09375 54.296875 \nQ 44.09375 59.90625 40.109375 62.90625 \nQ 36.140625 65.921875 28.71875 65.921875 \nQ 24.65625 65.921875 20.015625 65.03125 \nQ 15.375 64.15625 9.8125 62.3125 \nL 9.8125 71.09375 \nQ 15.4375 72.65625 20.34375 73.4375 \nQ 25.25 74.21875 29.59375 74.21875 \nQ 40.828125 74.21875 47.359375 69.109375 \nQ 53.90625 64.015625 53.90625 55.328125 \nQ 53.90625 49.265625 50.4375 45.09375 \nQ 46.96875 40.921875 40.578125 39.3125 \nz\n\" id=\"DejaVuSans-51\"/>\n      </defs>\n      <g transform=\"translate(42.965657 239.238437)scale(0.1 -0.1)\">\n       <use xlink:href=\"#DejaVuSans-8722\"/>\n       <use x=\"83.789062\" xlink:href=\"#DejaVuSans-51\"/>\n      </g>\n     </g>\n    </g>\n    <g id=\"xtick_2\">\n     <g id=\"line2d_2\">\n      <g>\n       <use style=\"stroke:#000000;stroke-width:0.8;\" x=\"99.242325\" xlink:href=\"#mae07c4e50c\" y=\"224.64\"/>\n      </g>\n     </g>\n     <g id=\"text_2\">\n      <!-- −2 -->\n      <defs>\n       <path d=\"M 19.1875 8.296875 \nL 53.609375 8.296875 \nL 53.609375 0 \nL 7.328125 0 \nL 7.328125 8.296875 \nQ 12.9375 14.109375 22.625 23.890625 \nQ 32.328125 33.6875 34.8125 36.53125 \nQ 39.546875 41.84375 41.421875 45.53125 \nQ 43.3125 49.21875 43.3125 52.78125 \nQ 43.3125 58.59375 39.234375 62.25 \nQ 35.15625 65.921875 28.609375 65.921875 \nQ 23.96875 65.921875 18.8125 64.3125 \nQ 13.671875 62.703125 7.8125 59.421875 \nL 7.8125 69.390625 \nQ 13.765625 71.78125 18.9375 73 \nQ 24.125 74.21875 28.421875 74.21875 \nQ 39.75 74.21875 46.484375 68.546875 \nQ 53.21875 62.890625 53.21875 53.421875 \nQ 53.21875 48.921875 51.53125 44.890625 \nQ 49.859375 40.875 45.40625 35.40625 \nQ 44.1875 33.984375 37.640625 27.21875 \nQ 31.109375 20.453125 19.1875 8.296875 \nz\n\" id=\"DejaVuSans-50\"/>\n      </defs>\n      <g transform=\"translate(91.871231 239.238437)scale(0.1 -0.1)\">\n       <use xlink:href=\"#DejaVuSans-8722\"/>\n       <use x=\"83.789062\" xlink:href=\"#DejaVuSans-50\"/>\n      </g>\n     </g>\n    </g>\n    <g id=\"xtick_3\">\n     <g id=\"line2d_3\">\n      <g>\n       <use style=\"stroke:#000000;stroke-width:0.8;\" x=\"148.147898\" xlink:href=\"#mae07c4e50c\" y=\"224.64\"/>\n      </g>\n     </g>\n     <g id=\"text_3\">\n      <!-- −1 -->\n      <defs>\n       <path d=\"M 12.40625 8.296875 \nL 28.515625 8.296875 \nL 28.515625 63.921875 \nL 10.984375 60.40625 \nL 10.984375 69.390625 \nL 28.421875 72.90625 \nL 38.28125 72.90625 \nL 38.28125 8.296875 \nL 54.390625 8.296875 \nL 54.390625 0 \nL 12.40625 0 \nz\n\" id=\"DejaVuSans-49\"/>\n      </defs>\n      <g transform=\"translate(140.776804 239.238437)scale(0.1 -0.1)\">\n       <use xlink:href=\"#DejaVuSans-8722\"/>\n       <use x=\"83.789062\" xlink:href=\"#DejaVuSans-49\"/>\n      </g>\n     </g>\n    </g>\n    <g id=\"xtick_4\">\n     <g id=\"line2d_4\">\n      <g>\n       <use style=\"stroke:#000000;stroke-width:0.8;\" x=\"197.053472\" xlink:href=\"#mae07c4e50c\" y=\"224.64\"/>\n      </g>\n     </g>\n     <g id=\"text_4\">\n      <!-- 0 -->\n      <defs>\n       <path d=\"M 31.78125 66.40625 \nQ 24.171875 66.40625 20.328125 58.90625 \nQ 16.5 51.421875 16.5 36.375 \nQ 16.5 21.390625 20.328125 13.890625 \nQ 24.171875 6.390625 31.78125 6.390625 \nQ 39.453125 6.390625 43.28125 13.890625 \nQ 47.125 21.390625 47.125 36.375 \nQ 47.125 51.421875 43.28125 58.90625 \nQ 39.453125 66.40625 31.78125 66.40625 \nz\nM 31.78125 74.21875 \nQ 44.046875 74.21875 50.515625 64.515625 \nQ 56.984375 54.828125 56.984375 36.375 \nQ 56.984375 17.96875 50.515625 8.265625 \nQ 44.046875 -1.421875 31.78125 -1.421875 \nQ 19.53125 -1.421875 13.0625 8.265625 \nQ 6.59375 17.96875 6.59375 36.375 \nQ 6.59375 54.828125 13.0625 64.515625 \nQ 19.53125 74.21875 31.78125 74.21875 \nz\n\" id=\"DejaVuSans-48\"/>\n      </defs>\n      <g transform=\"translate(193.872222 239.238437)scale(0.1 -0.1)\">\n       <use xlink:href=\"#DejaVuSans-48\"/>\n      </g>\n     </g>\n    </g>\n    <g id=\"xtick_5\">\n     <g id=\"line2d_5\">\n      <g>\n       <use style=\"stroke:#000000;stroke-width:0.8;\" x=\"245.959045\" xlink:href=\"#mae07c4e50c\" y=\"224.64\"/>\n      </g>\n     </g>\n     <g id=\"text_5\">\n      <!-- 1 -->\n      <g transform=\"translate(242.777795 239.238437)scale(0.1 -0.1)\">\n       <use xlink:href=\"#DejaVuSans-49\"/>\n      </g>\n     </g>\n    </g>\n    <g id=\"xtick_6\">\n     <g id=\"line2d_6\">\n      <g>\n       <use style=\"stroke:#000000;stroke-width:0.8;\" x=\"294.864618\" xlink:href=\"#mae07c4e50c\" y=\"224.64\"/>\n      </g>\n     </g>\n     <g id=\"text_6\">\n      <!-- 2 -->\n      <g transform=\"translate(291.683368 239.238437)scale(0.1 -0.1)\">\n       <use xlink:href=\"#DejaVuSans-50\"/>\n      </g>\n     </g>\n    </g>\n    <g id=\"xtick_7\">\n     <g id=\"line2d_7\">\n      <g>\n       <use style=\"stroke:#000000;stroke-width:0.8;\" x=\"343.770192\" xlink:href=\"#mae07c4e50c\" y=\"224.64\"/>\n      </g>\n     </g>\n     <g id=\"text_7\">\n      <!-- 3 -->\n      <g transform=\"translate(340.588942 239.238437)scale(0.1 -0.1)\">\n       <use xlink:href=\"#DejaVuSans-51\"/>\n      </g>\n     </g>\n    </g>\n   </g>\n   <g id=\"matplotlib.axis_2\">\n    <g id=\"ytick_1\">\n     <g id=\"line2d_8\">\n      <defs>\n       <path d=\"M 0 0 \nL -3.5 0 \n\" id=\"me2bb2fefcf\" style=\"stroke:#000000;stroke-width:0.8;\"/>\n      </defs>\n      <g>\n       <use style=\"stroke:#000000;stroke-width:0.8;\" x=\"35.304688\" xlink:href=\"#me2bb2fefcf\" y=\"223.341776\"/>\n      </g>\n     </g>\n     <g id=\"text_8\">\n      <!-- −10 -->\n      <g transform=\"translate(7.2 227.140995)scale(0.1 -0.1)\">\n       <use xlink:href=\"#DejaVuSans-8722\"/>\n       <use x=\"83.789062\" xlink:href=\"#DejaVuSans-49\"/>\n       <use x=\"147.412109\" xlink:href=\"#DejaVuSans-48\"/>\n      </g>\n     </g>\n    </g>\n    <g id=\"ytick_2\">\n     <g id=\"line2d_9\">\n      <g>\n       <use style=\"stroke:#000000;stroke-width:0.8;\" x=\"35.304688\" xlink:href=\"#me2bb2fefcf\" y=\"184.737088\"/>\n      </g>\n     </g>\n     <g id=\"text_9\">\n      <!-- −5 -->\n      <defs>\n       <path d=\"M 10.796875 72.90625 \nL 49.515625 72.90625 \nL 49.515625 64.59375 \nL 19.828125 64.59375 \nL 19.828125 46.734375 \nQ 21.96875 47.46875 24.109375 47.828125 \nQ 26.265625 48.1875 28.421875 48.1875 \nQ 40.625 48.1875 47.75 41.5 \nQ 54.890625 34.8125 54.890625 23.390625 \nQ 54.890625 11.625 47.5625 5.09375 \nQ 40.234375 -1.421875 26.90625 -1.421875 \nQ 22.3125 -1.421875 17.546875 -0.640625 \nQ 12.796875 0.140625 7.71875 1.703125 \nL 7.71875 11.625 \nQ 12.109375 9.234375 16.796875 8.0625 \nQ 21.484375 6.890625 26.703125 6.890625 \nQ 35.15625 6.890625 40.078125 11.328125 \nQ 45.015625 15.765625 45.015625 23.390625 \nQ 45.015625 31 40.078125 35.4375 \nQ 35.15625 39.890625 26.703125 39.890625 \nQ 22.75 39.890625 18.8125 39.015625 \nQ 14.890625 38.140625 10.796875 36.28125 \nz\n\" id=\"DejaVuSans-53\"/>\n      </defs>\n      <g transform=\"translate(13.5625 188.536307)scale(0.1 -0.1)\">\n       <use xlink:href=\"#DejaVuSans-8722\"/>\n       <use x=\"83.789062\" xlink:href=\"#DejaVuSans-53\"/>\n      </g>\n     </g>\n    </g>\n    <g id=\"ytick_3\">\n     <g id=\"line2d_10\">\n      <g>\n       <use style=\"stroke:#000000;stroke-width:0.8;\" x=\"35.304688\" xlink:href=\"#me2bb2fefcf\" y=\"146.132401\"/>\n      </g>\n     </g>\n     <g id=\"text_10\">\n      <!-- 0 -->\n      <g transform=\"translate(21.942188 149.93162)scale(0.1 -0.1)\">\n       <use xlink:href=\"#DejaVuSans-48\"/>\n      </g>\n     </g>\n    </g>\n    <g id=\"ytick_4\">\n     <g id=\"line2d_11\">\n      <g>\n       <use style=\"stroke:#000000;stroke-width:0.8;\" x=\"35.304688\" xlink:href=\"#me2bb2fefcf\" y=\"107.527714\"/>\n      </g>\n     </g>\n     <g id=\"text_11\">\n      <!-- 5 -->\n      <g transform=\"translate(21.942188 111.326932)scale(0.1 -0.1)\">\n       <use xlink:href=\"#DejaVuSans-53\"/>\n      </g>\n     </g>\n    </g>\n    <g id=\"ytick_5\">\n     <g id=\"line2d_12\">\n      <g>\n       <use style=\"stroke:#000000;stroke-width:0.8;\" x=\"35.304688\" xlink:href=\"#me2bb2fefcf\" y=\"68.923026\"/>\n      </g>\n     </g>\n     <g id=\"text_12\">\n      <!-- 10 -->\n      <g transform=\"translate(15.579688 72.722245)scale(0.1 -0.1)\">\n       <use xlink:href=\"#DejaVuSans-49\"/>\n       <use x=\"63.623047\" xlink:href=\"#DejaVuSans-48\"/>\n      </g>\n     </g>\n    </g>\n    <g id=\"ytick_6\">\n     <g id=\"line2d_13\">\n      <g>\n       <use style=\"stroke:#000000;stroke-width:0.8;\" x=\"35.304688\" xlink:href=\"#me2bb2fefcf\" y=\"30.318339\"/>\n      </g>\n     </g>\n     <g id=\"text_13\">\n      <!-- 15 -->\n      <g transform=\"translate(15.579688 34.117558)scale(0.1 -0.1)\">\n       <use xlink:href=\"#DejaVuSans-49\"/>\n       <use x=\"63.623047\" xlink:href=\"#DejaVuSans-53\"/>\n      </g>\n     </g>\n    </g>\n   </g>\n   <g id=\"patch_3\">\n    <path d=\"M 35.304688 224.64 \nL 35.304688 7.2 \n\" style=\"fill:none;stroke:#000000;stroke-linecap:square;stroke-linejoin:miter;stroke-width:0.8;\"/>\n   </g>\n   <g id=\"patch_4\">\n    <path d=\"M 370.104688 224.64 \nL 370.104688 7.2 \n\" style=\"fill:none;stroke:#000000;stroke-linecap:square;stroke-linejoin:miter;stroke-width:0.8;\"/>\n   </g>\n   <g id=\"patch_5\">\n    <path d=\"M 35.304688 224.64 \nL 370.104688 224.64 \n\" style=\"fill:none;stroke:#000000;stroke-linecap:square;stroke-linejoin:miter;stroke-width:0.8;\"/>\n   </g>\n   <g id=\"patch_6\">\n    <path d=\"M 35.304688 7.2 \nL 370.104688 7.2 \n\" style=\"fill:none;stroke:#000000;stroke-linecap:square;stroke-linejoin:miter;stroke-width:0.8;\"/>\n   </g>\n  </g>\n </g>\n <defs>\n  <clipPath id=\"p797b6e8e16\">\n   <rect height=\"217.44\" width=\"334.8\" x=\"35.304688\" y=\"7.2\"/>\n  </clipPath>\n </defs>\n</svg>\n"
          },
          "metadata": {
            "tags": []
          }
        }
      ]
    },
    {
      "cell_type": "code",
      "metadata": {
        "id": "3VPHR52vwV-B",
        "colab_type": "code",
        "colab": {}
      },
      "source": [
        "# read the dataset\n",
        "\n",
        "def data_iter(batch_size, features, labels):\n",
        "  num_examples = len(features)\n",
        "  indices = list(range(num_examples))\n",
        "  random.shuffle(indices)\n",
        "  for i in range(0,num_examples,batch_size):\n",
        "    j = torch.LongTensor(indices[i:min(i+batch_size,num_examples)])\n",
        "    yield features.index_select(0,j),labels.index_select(0,j)\n"
      ],
      "execution_count": 0,
      "outputs": []
    },
    {
      "cell_type": "code",
      "metadata": {
        "id": "dSC5Y-5MxOjy",
        "colab_type": "code",
        "colab": {
          "base_uri": "https://localhost:8080/",
          "height": 221
        },
        "outputId": "aa82ca26-4c10-48b2-c83a-3a87ea2624da"
      },
      "source": [
        "batch_size = 10\n",
        "\n",
        "for X,y in data_iter(batch_size, features,labels):\n",
        "  print(X,'\\n',y)\n",
        "  break"
      ],
      "execution_count": 8,
      "outputs": [
        {
          "output_type": "stream",
          "text": [
            "tensor([[ 1.8513,  0.2355],\n",
            "        [-0.0181,  0.3799],\n",
            "        [-1.5407, -0.8006],\n",
            "        [-1.9544, -1.5147],\n",
            "        [ 0.7174, -0.3491],\n",
            "        [ 1.5527, -1.2047],\n",
            "        [ 0.3670, -0.1174],\n",
            "        [ 0.5572,  0.2778],\n",
            "        [ 0.3012,  0.4409],\n",
            "        [ 1.5458,  0.7160]]) \n",
            " tensor([ 7.0983,  2.8751,  3.8270,  5.4529,  6.8095, 11.3746,  5.3268,  4.3447,\n",
            "         3.2853,  4.8634])\n"
          ],
          "name": "stdout"
        }
      ]
    },
    {
      "cell_type": "code",
      "metadata": {
        "id": "4qqAlTNQxc1T",
        "colab_type": "code",
        "colab": {
          "base_uri": "https://localhost:8080/",
          "height": 34
        },
        "outputId": "b78a6d25-aea2-4ef2-e2e5-721bc7fbbd67"
      },
      "source": [
        "w = torch.tensor(np.random.normal(0,0.01,(num_inputs,1)),dtype = torch.float32)\n",
        "b = torch.zeros(1,dtype = torch.float32)\n",
        "\n",
        "w.requires_grad_(requires_grad = True)\n",
        "b.requires_grad_(requires_grad = True)\n"
      ],
      "execution_count": 10,
      "outputs": [
        {
          "output_type": "execute_result",
          "data": {
            "text/plain": [
              "tensor([0.], requires_grad=True)"
            ]
          },
          "metadata": {
            "tags": []
          },
          "execution_count": 10
        }
      ]
    },
    {
      "cell_type": "code",
      "metadata": {
        "id": "WACIGuhLyLS3",
        "colab_type": "code",
        "colab": {}
      },
      "source": [
        "# definit linear\n",
        "\n",
        "def linreg(X, w, b):\n",
        "  return torch.mm(X,w)+b\n"
      ],
      "execution_count": 0,
      "outputs": []
    },
    {
      "cell_type": "code",
      "metadata": {
        "id": "B9xD5DBiyhPr",
        "colab_type": "code",
        "colab": {}
      },
      "source": [
        "# definit loss function\n",
        "\n",
        "def squared_loss(y_hat, y):  \n",
        "    return (y_hat - y.view(y_hat.size())) ** 2 / 2"
      ],
      "execution_count": 0,
      "outputs": []
    },
    {
      "cell_type": "code",
      "metadata": {
        "id": "032nqwtpyrdN",
        "colab_type": "code",
        "colab": {}
      },
      "source": [
        "# definit optimizer  gradient descent\n",
        "\n",
        "def sgd(params, lr, batch_size):  \n",
        "    for param in params:\n",
        "        param.data -= lr * param.grad / batch_size "
      ],
      "execution_count": 0,
      "outputs": []
    },
    {
      "cell_type": "code",
      "metadata": {
        "id": "jnZ3Zcaoy_8N",
        "colab_type": "code",
        "colab": {
          "base_uri": "https://localhost:8080/",
          "height": 102
        },
        "outputId": "f91be307-823c-4cf4-f351-79aca93b09bf"
      },
      "source": [
        "# train\n",
        "\n",
        "lr = 0.03\n",
        "num_epochs = 5\n",
        "\n",
        "\n",
        "net = linreg\n",
        "loss = squared_loss\n",
        "\n",
        "for epoch in range(num_epochs): \n",
        "    for X, y in data_iter(batch_size, features, labels):\n",
        "        l = loss(net(X, w, b), y).sum()  \n",
        "        l.backward()  \n",
        "        sgd([w, b], lr, batch_size)  \n",
        "        \n",
        "        # 不要忘了梯度清零\n",
        "        w.grad.data.zero_()\n",
        "        b.grad.data.zero_()\n",
        "    train_l = loss(net(features, w, b), labels)\n",
        "    print('epoch %d, loss %f' % (epoch + 1, train_l.mean().item()))"
      ],
      "execution_count": 15,
      "outputs": [
        {
          "output_type": "stream",
          "text": [
            "epoch 1, loss 0.034785\n",
            "epoch 2, loss 0.000140\n",
            "epoch 3, loss 0.000052\n",
            "epoch 4, loss 0.000052\n",
            "epoch 5, loss 0.000052\n"
          ],
          "name": "stdout"
        }
      ]
    },
    {
      "cell_type": "code",
      "metadata": {
        "id": "scGlrEkwzrDX",
        "colab_type": "code",
        "colab": {
          "base_uri": "https://localhost:8080/",
          "height": 102
        },
        "outputId": "ece357f5-dc1d-48d1-c532-94cef16d4222"
      },
      "source": [
        "print(true_w, '\\n', w)\n",
        "print(true_b, '\\n', b)"
      ],
      "execution_count": 16,
      "outputs": [
        {
          "output_type": "stream",
          "text": [
            "[2, -3.4] \n",
            " tensor([[ 1.9994],\n",
            "        [-3.4008]], requires_grad=True)\n",
            "4.2 \n",
            " tensor([4.1996], requires_grad=True)\n"
          ],
          "name": "stdout"
        }
      ]
    },
    {
      "cell_type": "markdown",
      "metadata": {
        "id": "J3UVKPxozWXe",
        "colab_type": "text"
      },
      "source": [
        "\n",
        "\n",
        "# pytorch 间接实现 "
      ]
    },
    {
      "cell_type": "code",
      "metadata": {
        "id": "_DAjB_FPzVw4",
        "colab_type": "code",
        "colab": {
          "base_uri": "https://localhost:8080/",
          "height": 34
        },
        "outputId": "4e5c8f6d-e361-42d7-fa67-b3b23839763e"
      },
      "source": [
        "import torch \n",
        "from torch import nn\n",
        "import numpy as np\n",
        "\n",
        "torch.manual_seed(1)\n",
        "\n",
        "print(torch.__version__)\n",
        "torch.set_default_tensor_type('torch.FloatTensor')\n"
      ],
      "execution_count": 17,
      "outputs": [
        {
          "output_type": "stream",
          "text": [
            "1.4.0\n"
          ],
          "name": "stdout"
        }
      ]
    },
    {
      "cell_type": "code",
      "metadata": {
        "id": "z3caW8Dr0RJ5",
        "colab_type": "code",
        "colab": {}
      },
      "source": [
        "# dataset\n",
        "\n",
        "num_inputs = 2\n",
        "num_examples = 1000\n",
        "\n",
        "true_w = [2, -3.4]\n",
        "true_b = 4.2\n",
        "\n",
        "features = torch.tensor(np.random.normal(0, 1, (num_examples, num_inputs)), dtype=torch.float)\n",
        "labels = true_w[0] * features[:, 0] + true_w[1] * features[:, 1] + true_b\n",
        "labels += torch.tensor(np.random.normal(0, 0.01, size=labels.size()), dtype=torch.float)"
      ],
      "execution_count": 0,
      "outputs": []
    },
    {
      "cell_type": "code",
      "metadata": {
        "id": "myCLLpun0Uf-",
        "colab_type": "code",
        "colab": {}
      },
      "source": [
        "import torch.utils.data as Data\n",
        "\n",
        "batch_size = 10\n",
        "\n",
        "\n",
        "dataset = Data.TensorDataset(features, labels)\n",
        "\n",
        "\n",
        "data_iter = Data.DataLoader(\n",
        "    dataset=dataset,            # torch TensorDataset format\n",
        "    batch_size=batch_size,      # mini batch size\n",
        "    shuffle=True,               # shuffle the data \n",
        "    num_workers=2,              \n",
        ")"
      ],
      "execution_count": 0,
      "outputs": []
    },
    {
      "cell_type": "code",
      "metadata": {
        "id": "OfPXqL-V0f9u",
        "colab_type": "code",
        "colab": {
          "base_uri": "https://localhost:8080/",
          "height": 221
        },
        "outputId": "c3b6875b-ab50-4c4f-8ba6-40b26a82b710"
      },
      "source": [
        "for X, y in data_iter:\n",
        "    print(X, '\\n', y)\n",
        "    break"
      ],
      "execution_count": 20,
      "outputs": [
        {
          "output_type": "stream",
          "text": [
            "tensor([[ 0.1668,  0.6254],\n",
            "        [ 1.2719, -0.9646],\n",
            "        [-0.4149, -0.3938],\n",
            "        [-1.5484, -0.2870],\n",
            "        [ 0.5561, -0.2293],\n",
            "        [ 0.8764,  0.6491],\n",
            "        [ 0.7525, -2.2570],\n",
            "        [ 2.7187, -0.7883],\n",
            "        [ 1.7392, -1.0772],\n",
            "        [-0.0511,  0.4579]]) \n",
            " tensor([ 2.3974, 10.0143,  4.7126,  2.0719,  6.1077,  3.7350, 13.3651, 12.3170,\n",
            "        11.3548,  2.5365])\n"
          ],
          "name": "stdout"
        }
      ]
    },
    {
      "cell_type": "code",
      "metadata": {
        "id": "PflwcAjZ0j27",
        "colab_type": "code",
        "colab": {
          "base_uri": "https://localhost:8080/",
          "height": 68
        },
        "outputId": "cc27f623-94c4-4624-eee1-f895c0e68c2f"
      },
      "source": [
        "# definit the linearnet model\n",
        "\n",
        "\n",
        "class LinearNet(nn.Module):\n",
        "    def __init__(self, n_feature):\n",
        "        super(LinearNet, self).__init__()\n",
        "        self.linear = nn.Linear(n_feature, 1)\n",
        "\n",
        "    def forward(self, x):\n",
        "        y = self.linear(x)\n",
        "        return y\n",
        "    \n",
        "net = LinearNet(num_inputs)\n",
        "print(net) "
      ],
      "execution_count": 21,
      "outputs": [
        {
          "output_type": "stream",
          "text": [
            "LinearNet(\n",
            "  (linear): Linear(in_features=2, out_features=1, bias=True)\n",
            ")\n"
          ],
          "name": "stdout"
        }
      ]
    },
    {
      "cell_type": "code",
      "metadata": {
        "id": "yERiY7g400mp",
        "colab_type": "code",
        "colab": {
          "base_uri": "https://localhost:8080/",
          "height": 85
        },
        "outputId": "fd8a04bb-3d2b-49d3-ace7-9dfc83cbd5d9"
      },
      "source": [
        "# method 1\n",
        "net = nn.Sequential(\n",
        "    nn.Linear(num_inputs, 1)\n",
        "    # ......\n",
        "    )\n",
        "\n",
        "# method 2\n",
        "net = nn.Sequential()\n",
        "net.add_module('linear', nn.Linear(num_inputs, 1))\n",
        "# net.add_module ......\n",
        "\n",
        "# method 3\n",
        "from collections import OrderedDict\n",
        "net = nn.Sequential(OrderedDict([\n",
        "          ('linear', nn.Linear(num_inputs, 1))\n",
        "          # ......\n",
        "        ]))\n",
        "\n",
        "print(net)\n",
        "print(net[0])"
      ],
      "execution_count": 22,
      "outputs": [
        {
          "output_type": "stream",
          "text": [
            "Sequential(\n",
            "  (linear): Linear(in_features=2, out_features=1, bias=True)\n",
            ")\n",
            "Linear(in_features=2, out_features=1, bias=True)\n"
          ],
          "name": "stdout"
        }
      ]
    },
    {
      "cell_type": "code",
      "metadata": {
        "id": "j2-i5huJ1IXi",
        "colab_type": "code",
        "colab": {
          "base_uri": "https://localhost:8080/",
          "height": 85
        },
        "outputId": "f48c8fbe-0322-43c3-c364-a4d41526ac4b"
      },
      "source": [
        "# \n",
        "\n",
        "from torch.nn import init\n",
        "\n",
        "init.normal_(net[0].weight, mean=0.0, std=0.01)\n",
        "init.constant_(net[0].bias, val=0.0) \n",
        "\n",
        "for param in net.parameters():\n",
        "    print(param)\n",
        "\n"
      ],
      "execution_count": 23,
      "outputs": [
        {
          "output_type": "stream",
          "text": [
            "Parameter containing:\n",
            "tensor([[-0.0142, -0.0161]], requires_grad=True)\n",
            "Parameter containing:\n",
            "tensor([0.], requires_grad=True)\n"
          ],
          "name": "stdout"
        }
      ]
    },
    {
      "cell_type": "code",
      "metadata": {
        "id": "FIKWKbeo1Nbd",
        "colab_type": "code",
        "colab": {}
      },
      "source": [
        "# loss function\n",
        "\n",
        "loss = nn.MSELoss()"
      ],
      "execution_count": 0,
      "outputs": []
    },
    {
      "cell_type": "code",
      "metadata": {
        "id": "BuASIEfC1U71",
        "colab_type": "code",
        "colab": {
          "base_uri": "https://localhost:8080/",
          "height": 153
        },
        "outputId": "bf7e4ef6-f74b-4edf-c32f-3de0727c82fc"
      },
      "source": [
        "# optimizer gradient descent\n",
        "\n",
        "\n",
        "import torch.optim as optim\n",
        "\n",
        "optimizer = optim.SGD(net.parameters(), lr=0.03)\n",
        "print(optimizer)"
      ],
      "execution_count": 25,
      "outputs": [
        {
          "output_type": "stream",
          "text": [
            "SGD (\n",
            "Parameter Group 0\n",
            "    dampening: 0\n",
            "    lr: 0.03\n",
            "    momentum: 0\n",
            "    nesterov: False\n",
            "    weight_decay: 0\n",
            ")\n"
          ],
          "name": "stdout"
        }
      ]
    },
    {
      "cell_type": "code",
      "metadata": {
        "id": "SZOPYUlj1fxM",
        "colab_type": "code",
        "colab": {
          "base_uri": "https://localhost:8080/",
          "height": 68
        },
        "outputId": "ad7a9de8-41ea-49c7-a142-5ec3d024d9ca"
      },
      "source": [
        "# train\n",
        "\n",
        "num_epochs = 3\n",
        "for epoch in range(1, num_epochs + 1):\n",
        "    for X, y in data_iter:\n",
        "        output = net(X)\n",
        "        l = loss(output, y.view(-1, 1))\n",
        "        optimizer.zero_grad() # 梯度清零，等价于net.zero_grad()\n",
        "        l.backward()\n",
        "        optimizer.step()\n",
        "    print('epoch %d, loss: %f' % (epoch, l.item()))\n"
      ],
      "execution_count": 26,
      "outputs": [
        {
          "output_type": "stream",
          "text": [
            "epoch 1, loss: 0.000406\n",
            "epoch 2, loss: 0.000066\n",
            "epoch 3, loss: 0.000064\n"
          ],
          "name": "stdout"
        }
      ]
    },
    {
      "cell_type": "code",
      "metadata": {
        "id": "idV92uv716Jn",
        "colab_type": "code",
        "colab": {
          "base_uri": "https://localhost:8080/",
          "height": 51
        },
        "outputId": "f085d0bd-3f11-45ea-dfec-ea029c2bb52a"
      },
      "source": [
        "dense = net[0]\n",
        "print(true_w, dense.weight.data)\n",
        "print(true_b, dense.bias.data)"
      ],
      "execution_count": 27,
      "outputs": [
        {
          "output_type": "stream",
          "text": [
            "[2, -3.4] tensor([[ 2.0003, -3.3995]])\n",
            "4.2 tensor([4.2000])\n"
          ],
          "name": "stdout"
        }
      ]
    }
  ]
}